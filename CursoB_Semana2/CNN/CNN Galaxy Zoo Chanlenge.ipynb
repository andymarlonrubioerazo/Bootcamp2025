{
 "cells": [
  {
   "cell_type": "markdown",
   "id": "34b9b80d",
   "metadata": {},
   "source": [
    "<p style=\"color: blue; text-align: center; font-size: 32px; font-weight: bold;\">\n",
    "  🚀🚀🚀 ¡CNN Convolutional Neural Network Galaxy Zoo Challenge!🚀🚀🚀\n",
    "</p>"
   ]
  },
  {
   "cell_type": "markdown",
   "id": "ac305dc6",
   "metadata": {},
   "source": [
    "<p align=\"center\">\n",
    "  <img src=\"imagen.png\" width=\"4000\">\n",
    "</p>"
   ]
  },
  {
   "cell_type": "markdown",
   "id": "2cfd6c8b",
   "metadata": {},
   "source": [
    "<div style=\"color: blue; font-size: 1.8em;\">\n",
    "\n",
    "🪐 **Introducción — Clasificación de galaxias con CNN y Galaxy Zoo**\n",
    "\n",
    "La clasificación morfológica de galaxias es una tarea fundamental en astrofísica, ya que permite estudiar la evolución estructural del universo a gran escala. Tradicionalmente, esta labor ha sido realizada mediante inspección visual, lo que resulta ineficiente ante los volúmenes masivos de datos generados por telescopios modernos. Para abordar este desafío, se ha desarrollado el proyecto Galaxy Zoo, una iniciativa de ciencia ciudadana que recopila clasificaciones morfológicas realizadas por voluntarios sobre millones de imágenes de galaxias.\n",
    "\n",
    "En este trabajo, se aborda el problema de clasificación automática de galaxias utilizando redes neuronales convolucionales (CNN, por sus siglas en inglés), una arquitectura especializada en el procesamiento de imágenes. Se utiliza el conjunto de datos proporcionado por Galaxy Zoo 2, el cual contiene miles de imágenes etiquetadas con distribuciones de probabilidad sobre 37 categorías morfológicas, derivadas del consenso de múltiples observadores humanos.\n",
    "\n",
    "El objetivo es entrenar un modelo de aprendizaje profundo capaz de predecir, a partir de una imagen de galaxia, la probabilidad de pertenencia a cada una de las categorías morfológicas definidas. Para ello, se emplean técnicas de preprocesamiento, diseño y entrenamiento de CNNs, junto con métricas de evaluación apropiadas para problemas de clasificación multilabel. Este enfoque automatizado no solo reproduce con alta precisión el juicio humano, sino que también permite escalar la clasificación a grandes catálogos astronómicos futuros.\n",
    "\n",
    "</div>"
   ]
  },
  {
   "cell_type": "markdown",
   "id": "3b7c71d9",
   "metadata": {},
   "source": [
    "# 🪐 Introducción — Proyecto de Clasificación de Galaxias con Redes Neuronales Convolucionales\n",
    "\n",
    "Uno de los grandes desafíos en la astrofísica moderna es comprender cómo se formaron y evolucionaron las galaxias en el universo. Las galaxias no son objetos homogéneos: pueden clasificarse según su morfología en diversas categorías, como espirales, elípticas, irregulares, con brazos bien definidos o estructuras más difusas. Estas diferencias en su forma y estructura nos ofrecen pistas valiosas sobre los procesos físicos que han intervenido en su evolución.\n",
    "\n",
    "En esta tarea, trabajaremos con un subconjunto del **conjunto de datos del proyecto Galaxy Zoo**, un esfuerzo de ciencia ciudadana en el que miles de voluntarios colaboraron en la clasificación visual de millones de galaxias, provenientes principalmente del Sloan Digital Sky Survey (SDSS).\n",
    "\n",
    "## 🎯 Objetivo de la tarea\n",
    "\n",
    "Tu objetivo será desarrollar un modelo de **aprendizaje profundo**, específicamente una **Red Neuronal Convolucional (CNN)**, que pueda **predecir automáticamente la morfología de una galaxia a partir de una imagen en formato JPG**. Esta predicción no es una simple clasificación puntual, sino que deberá **estimar una distribución de probabilidad** sobre varias posibles respuestas, imitando la clasificación colectiva que se obtiene de múltiples voluntarios humanos.\n",
    "\n",
    "---\n",
    "\n",
    "## 🧠 Lo que vas a hacer\n",
    "\n",
    "1. **Cargar y explorar el conjunto de datos**:\n",
    "   - Las imágenes de galaxias están en formato `.jpg`.\n",
    "   - Cada imagen está asociada a un conjunto de **valores de probabilidad**, que representan las respuestas promedio de decenas de personas a una serie de preguntas jerárquicas (por ejemplo: ¿es una galaxia suave?, ¿tiene brazos espirales?, ¿cuántos?).\n",
    "\n",
    "2. **Preprocesar los datos**:\n",
    "   - Normaliza las imágenes, reescálalas y organiza el dataset en forma adecuada para entrenamiento con PyTorch o TensorFlow.\n",
    "   - Decide cómo manejar la estructura jerárquica del árbol de decisión de Galaxy Zoo (puedes modelar todas las clases directamente o entrenar la red para aprender a predecir todas las salidas simultáneamente).\n",
    "\n",
    "3. **Diseñar la arquitectura de tu CNN**:\n",
    "   - Puedes comenzar con un modelo sencillo (varias capas `Conv2D`, `ReLU`, `MaxPooling`, `Dropout`, `Flatten`, `Dense`).\n",
    "   - También puedes usar arquitecturas preentrenadas (como ResNet o EfficientNet) con *fine-tuning*.\n",
    "\n",
    "4. **Entrenar el modelo**:\n",
    "   - Utiliza una función de pérdida adecuada, como **MSE (error cuadrático medio)**, ya que estás prediciendo distribuciones continuas, no etiquetas discretas.\n",
    "   - Implementa técnicas de regularización si es necesario (Dropout, early stopping).\n",
    "\n",
    "5. **Evaluar el rendimiento**:\n",
    "   - Calcula el **Root Mean Squared Error (RMSE)** entre tus predicciones y las probabilidades reales de cada clase.\n",
    "   - Analiza en qué tipo de morfologías tu red es más precisa y en cuáles falla.\n",
    "\n",
    "6. **Reflexiona sobre tus resultados**:\n",
    "   - ¿Qué características de las galaxias parecen más fáciles o difíciles de aprender para la red?\n",
    "   - ¿Qué mejoras podrías implementar en futuras versiones del modelo?\n",
    "\n",
    "---\n",
    "\n",
    "## 🔍 Sobre las etiquetas\n",
    "\n",
    "Cada imagen tiene asociadas 37 columnas correspondientes a respuestas probabilísticas de un **árbol de decisión** compuesto por 11 preguntas jerárquicas. Por ejemplo:\n",
    "\n",
    "- *¿Es una galaxia suave o con características visibles?*\n",
    "- *¿Tiene barra central?*\n",
    "- *¿Cuántos brazos espirales tiene?*\n",
    "\n",
    "Estas respuestas no son mutuamente excluyentes, y su estructura jerárquica implica que algunas solo aparecen si se cumplen condiciones previas. Tu red deberá aprender a **reproducir esta lógica sin ser explícitamente guiada por el árbol**.\n",
    "\n",
    "\n",
    "# 🔭 The Galaxy Zoo Decision Tree\n",
    "\n",
    "**Galaxy Zoo** guides its citizen scientists through a nested decision tree — this is what constitutes the classification process. The decision tree consists of **11 questions**, with each question having **2–7 responses**.\n",
    "\n",
    "---\n",
    "\n",
    "## 📋 List of Questions\n",
    "\n",
    "- **Q1.** Is the object a smooth galaxy, a galaxy with features/disk or a star? → *(3 responses)*\n",
    "- **Q2.** Is it edge-on? → *(2 responses)*\n",
    "- **Q3.** Is there a bar? → *(2 responses)*\n",
    "- **Q4.** Is there a spiral pattern? → *(2 responses)*\n",
    "- **Q5.** How prominent is the central bulge? → *(4 responses)*\n",
    "- **Q6.** Is there anything \"odd\" about the galaxy? → *(2 responses)*\n",
    "- **Q7.** How round is the smooth galaxy? → *(3 responses)*\n",
    "- **Q8.** What is the odd feature? → *(7 responses)*\n",
    "- **Q9.** What shape is the bulge in the edge-on galaxy? → *(3 responses)*\n",
    "- **Q10.** How tightly wound are the spiral arms? → *(3 responses)*\n",
    "- **Q11.** How many spiral arms are there? → *(6 responses)*\n",
    "\n",
    "---\n",
    "\n",
    "## 🌳 Paths and the Decision Tree\n",
    "\n",
    "Each galaxy's classification is the result of a **specific path** down a decision tree. Multiple individuals (typically **40–50**) classify the same galaxy, resulting in multiple paths. These paths generate **probabilities** for each node. Volunteers begin with general questions (e.g., *is it smooth?*) and proceed to more specific ones (e.g., *how many spiral arms?*).\n",
    "\n",
    "At each node or question, the **total initial probability** of a classification will **sum to 1.0**. These are then **weighted**:\n",
    "\n",
    "---\n",
    "\n",
    "## ⚖️ Weighting the Responses\n",
    "\n",
    "The values in the morphology categories in the solution file are computed like this:\n",
    "\n",
    "- For the first set (smooth, features/disk, star/artifact), the values **sum to 1.0** (probabilities).\n",
    "- For later questions, the probabilities are first normalized (sum to 1.0) and then **multiplied by the probability that led to that question**.\n",
    "\n",
    "**Example:**\n",
    "\n",
    "A galaxy was classified:\n",
    "\n",
    "- Smooth: 80% → `Class1.1 = 0.80`\n",
    "- Features/Disk: 15% → `Class1.2 = 0.15`\n",
    "- Star/Artifact: 5% → `Class1.3 = 0.05`\n",
    "\n",
    "For the **80%** that saw the galaxy as *smooth*, they voted:\n",
    "\n",
    "- 50% completely round → `Class7.1 = 0.80 × 0.50 = 0.40`\n",
    "- 25% in-between → `Class7.2 = 0.80 × 0.25 = 0.20`\n",
    "- 25% cigar-shaped → `Class7.3 = 0.80 × 0.25 = 0.20`\n",
    "\n",
    "This **cumulative weighting** applies to all class probabilities. \n",
    "\n",
    "- `Class1.1–1.3` will always **sum to 1.0**.\n",
    "- `Class6.1–6.2` are **normalized** to exclude `1.3` cases.\n",
    "- Other classes may sum to **≤ 1.0**.\n",
    "\n",
    "---\n",
    "\n",
    "## 🎯 Why the Weighting?\n",
    "\n",
    "To ensure that a good solution gets the **high-level morphological categories** correct (Q1), and the best solutions get also the **detailed morphology** deeper in the tree.\n",
    "\n",
    "\n",
    "\n",
    "\n",
    "---\n",
    "\n",
    "## 📂 Archivos importantes\n",
    "\n",
    "- [Images Training set](https://drive.google.com/file/d/1InIE5eBhHfhq3sZyHvH6o-GPeEvP0iII/view?usp=sharing): carpeta con las imágenes de galaxias en JPG.\n",
    "- [Training solution](https://drive.google.com/file/d/1XcPVoeyoeSiV_o-bi54fTPri1-Mplx9G/view?usp=sharing): archivo con las probabilidades humanas para cada pregunta del árbol de decisión (target).\n",
    "- [Test set](https://drive.google.com/file/d/14UEBY_HRhtkFUhDlFv8PBPXaNRxEdNss/view?usp=sharing): archivo con los IDs de galaxias y metadatos (opcional).\n",
    "\n",
    "---\n",
    "\n",
    "## 📌 Evaluación\n",
    "\n",
    "Se evaluará tu modelo según:\n",
    "- Claridad del preprocesamiento y exploración de datos.\n",
    "- Calidad y justificación del diseño del modelo.\n",
    "- Desempeño cuantitativo (RMSE).\n",
    "- Interpretación de resultados.\n",
    "- Presentación general y calidad del código.\n",
    "\n",
    "---\n",
    "\n",
    "¡Buena suerte! Recuerda que el objetivo no es sólo lograr un buen rendimiento numérico, sino también comprender cómo una red neuronal convolucional aprende a \"ver\" y clasificar estructuras astronómicas complejas."
   ]
  },
  {
   "cell_type": "markdown",
   "id": "c4af630e",
   "metadata": {},
   "source": [
    "> 🏆 **Nota motivadora:**  \n",
    "> Esta tarea está inspirada en una competencia real organizada por [Kaggle](https://www.kaggle.com/competitions/galaxy-zoo-the-galaxy-challenge), en colaboración con el proyecto Galaxy Zoo y Winton Capital.  \n",
    "> En esa competencia, científicos de datos de todo el mundo desarrollaron modelos automáticos para clasificar morfologías galácticas a partir de imágenes.  \n",
    "> \n",
    "> 💰 ¡Los premios fueron reales!:  \n",
    "> - 🥇 1er lugar: **$10,000 USD**  \n",
    "> - 🥈 2do lugar: **$4,000 USD**  \n",
    "> - 🥉 3er lugar: **$2,000 USD**  \n",
    "> \n",
    "> ⚠️ **Nota importante:**  \n",
    "> El objetivo de esta actividad **no es obtener el mejor modelo posible**, sino **aprender a aplicar redes neuronales convolucionales (CNN)** en un problema real de clasificación de imágenes.  \n",
    "> Lo que se espera es que explores el pipeline completo: carga de datos, diseño de arquitectura, entrenamiento y evaluación. El enfoque está en la **comprensión del proceso y el desarrollo de habilidades**, no en la optimización extrema de métricas."
   ]
  },
  {
   "cell_type": "markdown",
   "id": "d7bb7b5b",
   "metadata": {},
   "source": [
    "# 🚀 🪐 🌌 🌟 🌠 🌙 ☄️ 🌕 🌗 🌑 🌒 🌛 🌜 🌍 🌎 🌞 🌈 🛰️ 👨‍🚀 👩‍🚀 🔭 🪐✨ 🎇 🎆 ⚛️ 🧬 🧠 🧪 🌋 🌋🧭"
   ]
  },
  {
   "cell_type": "markdown",
   "id": "0091faec",
   "metadata": {},
   "source": [
    "<p style=\"color: red; text-align: center; font-size: 50px; font-weight: bold;\">\n",
    "  🌍 🌎 🌏 ¡CNN Convolutional Neural Course!🌍 🌎 🌏\n",
    "</p>"
   ]
  },
  {
   "cell_type": "markdown",
   "id": "b7c20db8",
   "metadata": {},
   "source": [
    "\n",
    "\n",
    "## Table of Contents\n",
    "\n",
    "1. [Historia de las Redes Neuronales Convolucionales](#introduction)\n",
    "2. [Teoría de las Redes Neuronales Convolucionales](#basic-concepts)\n",
    "   - 2.1 [Que es CNN?](#what-is-a-cnn)\n",
    "   - 2.2 [Estructura de una Rede Neuronale Convolucional ](#applications-of-cnns)\n",
    "   - 2.3 [Capas Convolucionales](#applications-of-cnns)\n",
    "   - 2.4 [Operación de Convolución, Kernels](#applications-of-cnns)\n",
    "   - 2.5 [Tamaño del kernel, Stride, Padding](#applications-of-cnns)\n",
    "   - 2.6 [Pooling Layers](#applications-of-cnns)\n",
    "   - 2.7 [Flatten Layer](#applications-of-cnns)\n",
    "   - 2.8 [Fully conected neural network](#applications-of-cnns)\n",
    "   - 2.9 [Capa de salida](#applications-of-cnns)\n",
    "   - 2.10 [Parámetros de la red neuronal, Pesos y Bias](#applications-of-cnns)\n",
    "   - 2.11 [Funciones de Activación](#applications-of-cnns)\n",
    "   - 2.12 [Función de Perdida, Loss Function](#applications-of-cnns)\n",
    "   - 2.13 [Foward propagation](#applications-of-cnns)\n",
    "   - 2.14 [Back Propagation](#applications-of-cnns)\n",
    "   - 2.15 [Optimizadores](#applications-of-cnns)\n",
    "   - 2.16 [Overfitting and Early stoping](#stoping)\n",
    "   - 2.17 [Métricas de Evaluación del modelo](#stoping)\n",
    "   - 2.18[Técnicas comunes para mejorar el rendimiento de redes neuronales y CNN](#techniques)\n",
    "   - 2.19 [Regularización](#regu)\n",
    "   - 2.20 [Dropout](#dropout)\n",
    "   - 2.21 [Aumento de datos](#dataaugmentatio)\n",
    "\n",
    "3. [Applications of CNNs](#applications-of-cnns)\n",
    "   - 3.1 [Caso de estudio número 1 MINST calsificación de digitos escritos a mano](#convolution)\n",
    "   - 3.2 [Caso de estudio número 2 detección de malaria en células infectadas](#activation-functions)\n",
    "   \n",
    "4. [Caso de estudio número 1 MINST calsificación de digitos escritos a mano](#convolution)\n",
    "   - 4.1[Seting up the environment](#SETTING)\n",
    "   - 4.2 [Instalando los paquetes](#instal)\n",
    "   - 4.3 [Cargando los datos MINST](#instal)\n",
    "   - 4.4 [Definiendo los data set, Entrenamiento, Validación, Prueba](#instal)\n",
    "   - 4.5 [Escalado de imagenes](#instal)\n",
    "   - 4.6 [Creación y entrenamiento de una red Neuroanl Convolucional ](#architecture)\n",
    "   - 4.7 [Prueba del modelo](#preprocesing)\n",
    "  \n",
    "5. [Caso de estudio número 2 detección de malaria en células infectadas](#convolution)\n",
    "   - 5.1[Cargando las imagnes](#SETTING)\n",
    "   - 5.2 [Definiendo los data set, Entrenamiento, Validación, Prueba](#instal)\n",
    "   - 5.3 [Entrenamiento de una red neuroanl Feed Foward para clasificación y evalución del modelo](#instal)\n",
    "   - 5.4 [Entrenamiento de una red neuroanl Convolucional para clasificación y evalución del modelo ](#instal)\n",
    "   - 5.5 [Entrenamiento de una red neuroanl Convolucional para clasificación y evalución del modelo con aumento de datos](#instal)\n",
    "   - 5.6 [4-VGG16 como Feature Extractor (Aprendizaje Automático)](#)\n",
    "   - 5.7 [Entrenar un modelo SVM con las características extraídas ](#architecture)\n",
    "   - 5.8 [Entrenar un modelo FeedFoward con las características extraídas](#preprocesing)\n",
    "   - 5.9 [Hyperband y VGG16](#preprocesing)\n",
    "   \n"
   ]
  },
  {
   "cell_type": "markdown",
   "id": "0f09ee46",
   "metadata": {},
   "source": [
    "# 🎇 🎆  🌋🧭🚀 1. [Historia de las Redes Neuronales Convolucionales](#introduction)"
   ]
  },
  {
   "cell_type": "markdown",
   "id": "4e5d2a63",
   "metadata": {},
   "source": [
    "<p align=\"center\">\n",
    "  <img src=\"info1.png\" width=\"4000\">\n",
    "</p>"
   ]
  },
  {
   "cell_type": "markdown",
   "id": "7143f384",
   "metadata": {},
   "source": [
    "<p align=\"center\">\n",
    "  <img src=\"info2.png\" width=\"4000\">\n",
    "</p>"
   ]
  },
  {
   "cell_type": "markdown",
   "id": "fe92a682",
   "metadata": {},
   "source": [
    "<p align=\"center\">\n",
    "  <img src=\"info3.png\" width=\"4000\">\n",
    "</p>"
   ]
  },
  {
   "cell_type": "markdown",
   "id": "7a051786",
   "metadata": {},
   "source": [
    "<p align=\"center\">\n",
    "  <img src=\"info4.png\" width=\"4000\">\n",
    "</p>"
   ]
  },
  {
   "cell_type": "markdown",
   "id": "2367c544",
   "metadata": {},
   "source": [
    "<p align=\"center\">\n",
    "  <img src=\"ifo5.png\" width=\"4000\">\n",
    "</p>"
   ]
  },
  {
   "cell_type": "markdown",
   "id": "1c928fb8",
   "metadata": {},
   "source": [
    "<p align=\"center\">\n",
    "  <img src=\"info6.png\" width=\"4000\">\n",
    "</p>"
   ]
  },
  {
   "cell_type": "markdown",
   "id": "5d469b4e",
   "metadata": {},
   "source": [
    "<p align=\"center\">\n",
    "  <img src=\"aplication cnn.png\" width=\"4000\">\n",
    "</p>"
   ]
  },
  {
   "cell_type": "markdown",
   "id": "743cd071",
   "metadata": {},
   "source": [
    "\n",
    "\n",
    "Esta línea de tiempo recoge los hitos más importantes que dieron forma a las redes convolucionales modernas, incluyendo artículos clave y sus contribuciones.\n",
    "\n",
    "---\n",
    "\n",
    "## 📅 Línea de tiempo y artículos clave\n",
    "\n",
    "### 🧠 1959 – Hubel & Wiesel: Neurociencia visual\n",
    "\n",
    "- **Artículo:** [Receptive fields of single neurones in the cat's striate cortex](https://doi.org/10.1113/jphysiol.1959.sp006308)  \n",
    "- **Autores:** David H. Hubel y Torsten N. Wiesel  \n",
    "- **Contribución:** Descubren que neuronas visuales responden a bordes y orientación. Introducen el concepto de **campo receptivo**, base biológica del diseño de CNNs.\n",
    "\n",
    "---\n",
    "\n",
    "### 🧠 1980 – Fukushima: Neocognitron\n",
    "\n",
    "- **Artículo:** [Neocognitron: A self-organizing neural network model...](https://doi.org/10.1007/BF00344251)  \n",
    "- **Autor:** Kunihiko Fukushima  \n",
    "- **Contribución:** Propone el **Neocognitron**, red jerárquica con capas convolucionales y de submuestreo. No usaba backpropagation. Precursora de las CNNs.\n",
    "\n",
    "---\n",
    "\n",
    "### 🧠 1986 – Rumelhart, Hinton & Williams: Retropropagación\n",
    "\n",
    "- **Artículo:** [Learning representations by back-propagating errors](https://doi.org/10.1038/323533a0)  \n",
    "- **Autores:** Rumelhart, Hinton, Williams  \n",
    "- **Contribución:** Formalizan el algoritmo de **retropropagación**, permitiendo entrenar redes neuronales profundas con gradiente descendente.\n",
    "\n",
    "---\n",
    "\n",
    "### 🧠 1989 – LeCun et al.: Primer uso de CNN + Backprop\n",
    "\n",
    "- **Artículo:** [Backpropagation applied to handwritten zip code recognition](https://doi.org/10.1162/neco.1989.1.4.541)  \n",
    "- **Autores:** LeCun et al.  \n",
    "- **Contribución:** Primera aplicación exitosa de una red convolucional entrenada con backpropagation en datos reales (códigos postales manuscritos).\n",
    "\n",
    "---\n",
    "\n",
    "### 🧠 1998 – LeNet-5\n",
    "\n",
    "- **Artículo:** [Gradient-Based Learning Applied to Document Recognition](https://doi.org/10.1109/5.726791)  \n",
    "- **Autores:** LeCun, Bottou, Bengio, Haffner  \n",
    "- **Contribución:** CNN clásica: convolución, pooling y capas completamente conectadas. Reconocimiento de dígitos en el dataset MNIST.\n",
    "\n",
    "---\n",
    "\n",
    "### 🧠 2009 – ImageNet\n",
    "\n",
    "- **Artículo:** [ImageNet: A large-scale hierarchical image database](https://doi.org/10.1109/CVPR.2009.5206848)  \n",
    "- **Autores:** Deng, Dong, Socher, Li, Fei-Fei  \n",
    "- **Contribución:** Crean **ImageNet**, un dataset masivo (~14 millones de imágenes) que impulsa la investigación en aprendizaje profundo.\n",
    "\n",
    "---\n",
    "\n",
    "### 🧠 2012 – AlexNet\n",
    "\n",
    "- **Artículo:** [ImageNet Classification with Deep Convolutional Neural Networks](https://papers.nips.cc/paper_files/paper/2012/hash/c399862d3b9d6b76c8436e924a68c45b-Abstract.html)  \n",
    "- **Autores:** Krizhevsky, Sutskever, Hinton  \n",
    "- **Contribución:** Revoluciona la visión por computadora al ganar ImageNet 2012. Introduce uso de **GPU**, ReLU, dropout y redes profundas.\n",
    "\n",
    "---\n",
    "\n",
    "### 🧠 2014 – VGGNet\n",
    "\n",
    "- **Artículo:** [Very Deep Convolutional Networks for Large-Scale Image Recognition](https://arxiv.org/abs/1409.1556)  \n",
    "- **Autores:** Simonyan, Zisserman  \n",
    "- **Contribución:** Red muy profunda con solo filtros 3x3. Muestra que aumentar la profundidad mejora el rendimiento en clasificación de imágenes.\n",
    "\n",
    "---\n",
    "\n",
    "### 🧠 2014 – GoogLeNet / Inception\n",
    "\n",
    "- **Artículo:** [Going deeper with convolutions](https://doi.org/10.1109/CVPR.2015.7298594)  \n",
    "- **Autores:** Szegedy et al.  \n",
    "- **Contribución:** Introduce los **módulos Inception**, que aplican convoluciones de varios tamaños en paralelo. Más eficiencia con menos parámetros.\n",
    "\n",
    "---\n",
    "\n",
    "### 🧠 2015 – ResNet\n",
    "\n",
    "- **Artículo:** [Deep Residual Learning for Image Recognition](https://doi.org/10.1109/CVPR.2016.90)  \n",
    "- **Autores:** He, Zhang, Ren, Sun  \n",
    "- **Contribución:** Introducen **conexiones residuales**: `y = F(x) + x`. Permiten entrenar redes muy profundas (hasta 152 capas) sin degradación.\n",
    "\n",
    "---\n",
    "\n",
    "### 🧠 2017 – DenseNet\n",
    "\n",
    "- **Artículo:** [Densely Connected Convolutional Networks](https://doi.org/10.1109/CVPR.2017.243)  \n",
    "- **Autores:** Huang, Liu, Van Der Maaten, Weinberger  \n",
    "- **Contribución:** Cada capa se conecta a todas las anteriores. Mejora la reutilización de características y reduce parámetros.\n",
    "\n",
    "---\n",
    "\n",
    "### 🧠 2019 – EfficientNet\n",
    "\n",
    "- **Artículo:** [EfficientNet: Rethinking Model Scaling for CNNs](https://proceedings.mlr.press/v97/tan19a.html)  \n",
    "- **Autores:** Tan, Le  \n",
    "- **Contribución:** Propone una estrategia para escalar redes de forma óptima en profundidad, ancho y resolución. Excelente precisión y eficiencia.\n",
    "\n",
    "---\n",
    "\n",
    "## ✅ Conclusión\n",
    "\n",
    "Las redes convolucionales son el resultado de décadas de investigación cruzando neurociencia, matemáticas aplicadas y computación. El progreso ha sido impulsado por nuevas arquitecturas, mejores algoritmos y más poder computacional.\n",
    "\n"
   ]
  },
  {
   "cell_type": "markdown",
   "id": "a1caddd6",
   "metadata": {},
   "source": [
    "# 🎇 🎆  🌋🧭🚀 2. [Teoría de las Redes Neuronales Convolucionales](#basic-concepts)"
   ]
  },
  {
   "cell_type": "markdown",
   "id": "050806c2",
   "metadata": {},
   "source": [
    "## 🎇 🎆  🌋🧭🚀- 2.1 [Que es CNN?](#what-is-a-cnn)"
   ]
  },
  {
   "cell_type": "markdown",
   "id": "0d0960d6",
   "metadata": {},
   "source": [
    "## 🧠 ¿Qué es una Red Neuronal Convolucional (CNN)?\n",
    "\n",
    "Una **Red Neuronal Convolucional (CNN, por sus siglas en inglés)** es un tipo de red neuronal profunda especialmente diseñada para procesar datos con estructura de tipo grid, como imágenes (matrices de píxeles) o señales temporales (series 1D).\n",
    "\n",
    "Se caracteriza por el uso de **capas convolucionales**, que aplican filtros o kernels para extraer automáticamente características locales del input. Estas redes explotan dos principios clave:\n",
    "\n",
    "- **Conectividad local:** cada neurona en una capa convolucional está conectada solo a una pequeña región del input anterior (campo receptivo).\n",
    "- **Compartición de pesos:** el mismo filtro se aplica en distintas regiones de la imagen, reduciendo el número de parámetros.\n",
    "\n",
    "### 🔧 Arquitectura básica de una CNN\n",
    "\n",
    "Una CNN típica se compone de las siguientes capas:\n",
    "\n",
    "1. **Capa convolucional:** aplica filtros para detectar patrones (bordes, texturas, formas).\n",
    "2. **Capa de activación (ReLU):** introduce no linealidad.\n",
    "3. **Capa de submuestreo (pooling):** reduce la dimensionalidad manteniendo información relevante.\n",
    "4. **Capas totalmente conectadas (FC):** realizan la clasificación o regresión final.\n",
    "\n",
    "### 🧮 Operación matemática de una convolución (2D)\n",
    "\n",
    "Dado un input `X` y un kernel `K`, la operación convolucional se define como:\n",
    "\n",
    "$$Y_{i,j} = \\sum_{m,n} X_{i+m, j+n} \\cdot K_{m,n}$$\n",
    "\n",
    "donde `(i,j)` recorren la imagen y `(m,n)` recorren el filtro.\n",
    "\n",
    "### 📌 Aplicaciones comunes\n",
    "\n",
    "- Clasificación de imágenes (ImageNet)\n",
    "- Detección de objetos (YOLO, SSD)\n",
    "- Segmentación semántica (U-Net)\n",
    "- Análisis médico (radiografías, resonancias)\n",
    "- Reconocimiento facial y visión autónoma\n"
   ]
  },
  {
   "cell_type": "markdown",
   "id": "d2e3069c",
   "metadata": {},
   "source": [
    "## 🎇 🎆  🌋🧭🚀- 2.2 [Estructura de una Rede Neuronale Convolucional ](#applications-of-cnns)"
   ]
  },
  {
   "cell_type": "markdown",
   "id": "9e3142c5",
   "metadata": {},
   "source": [
    "### 🔧 Arquitectura básica de una CNN\n",
    "\n",
    "Una CNN típica se compone de las siguientes capas:\n",
    "\n",
    "1. **Capa convolucional:** aplica filtros para detectar patrones (bordes, texturas, formas).\n",
    "2. **Capa de activación (ReLU):** introduce no linealidad.\n",
    "3. **Capa de submuestreo (pooling):** reduce la dimensionalidad manteniendo información relevante.\n",
    "4. **Capas totalmente conectadas (FC):** realizan la clasificación o regresión final."
   ]
  },
  {
   "cell_type": "markdown",
   "id": "7ba9f1e3",
   "metadata": {},
   "source": [
    "<p align=\"center\">\n",
    "  <img src=\"estructura1.png\" width=\"4000\">\n",
    "</p>"
   ]
  },
  {
   "cell_type": "markdown",
   "id": "9ca2897e",
   "metadata": {},
   "source": [
    "<p align=\"center\">\n",
    "  <img src=\"estructura2.png\" width=\"4000\">\n",
    "</p>"
   ]
  },
  {
   "cell_type": "markdown",
   "id": "1e5b4fdf",
   "metadata": {},
   "source": [
    "<p align=\"center\">\n",
    "  <img src=\"estructura3.png\" width=\"4000\">\n",
    "</p>"
   ]
  },
  {
   "cell_type": "markdown",
   "id": "696e1452",
   "metadata": {},
   "source": [
    "## 🎇 🎆  🌋🧭🚀 - 2.3 [Capas Convolucionales](#applications-of-cnns)\n",
    "   "
   ]
  },
  {
   "cell_type": "markdown",
   "id": "62196ffd",
   "metadata": {},
   "source": [
    "## ¿Qué es una capa convolucional en una red neuronal?\n",
    "\n",
    "Una **capa convolucional** (o *convolutional layer*) es un componente fundamental de las redes neuronales convolucionales (CNN), especialmente diseñadas para procesar datos con estructura en forma de grilla, como imágenes.\n",
    "\n",
    "A diferencia de las capas densas (fully connected), donde cada neurona está conectada con todas las entradas anteriores, una capa convolucional aplica un conjunto de **filtros (kernels)** que se desplazan (convolucionan) sobre la entrada. Cada filtro aprende a detectar una característica local como bordes, texturas o patrones específicos.\n",
    "\n",
    "### Características principales:\n",
    "\n",
    "- **Receptive field:** Cada neurona convolucional ve solo una pequeña región de la entrada, lo que permite detectar patrones locales.\n",
    "- **Pesos compartidos:** El mismo filtro se aplica a toda la imagen, reduciendo el número de parámetros y mejorando la generalización.\n",
    "- **Salida (feature map):** El resultado de aplicar un filtro es un mapa de activación que representa la presencia de una característica en distintas ubicaciones.\n",
    "\n",
    "### Parámetros comunes:\n",
    "\n",
    "- `filters`: Número de filtros o mapas de características que se desean aprender.\n",
    "- `kernel_size`: Tamaño de cada filtro (por ejemplo, 3×3 o 5×5).\n",
    "- `stride`: Paso con el que se mueve el filtro sobre la entrada.\n",
    "- `padding`: Método para manejar los bordes (por ejemplo, `valid` o `same`).\n",
    "- `activation`: Función no lineal aplicada tras la convolución (por ejemplo, ReLU)."
   ]
  },
  {
   "cell_type": "markdown",
   "id": "445252c2",
   "metadata": {},
   "source": [
    "<p align=\"center\">\n",
    "  <img src=\"convo.png\" width=\"4000\">\n",
    "</p>"
   ]
  },
  {
   "cell_type": "markdown",
   "id": "8deef1aa",
   "metadata": {},
   "source": [
    "# 🎇 🎆  🌋🧭🚀- 2.4 [Operación de Convolución, Kernels](#applications-of-cnns)"
   ]
  },
  {
   "cell_type": "markdown",
   "id": "d7e1f768",
   "metadata": {},
   "source": [
    "<p align=\"center\">\n",
    "  <img src=\"convo2.png\" width=\"4000\">\n",
    "</p>"
   ]
  },
  {
   "cell_type": "markdown",
   "id": "c8a07605",
   "metadata": {},
   "source": [
    "<p align=\"center\">\n",
    "  <img src=\"convocolor.png\" width=\"4000\">\n",
    "</p>"
   ]
  },
  {
   "cell_type": "markdown",
   "id": "6bfaea9a",
   "metadata": {},
   "source": [
    "## 🎇 🎆  🌋🧭🚀- 2.5 [Tamaño del kernel, Stride, Padding](#applications-of-cnns)"
   ]
  },
  {
   "cell_type": "markdown",
   "id": "8bb8964d",
   "metadata": {},
   "source": [
    "<p align=\"center\">\n",
    "  <img src=\"stride.png\" width=\"4000\">\n",
    "</p>"
   ]
  },
  {
   "cell_type": "markdown",
   "id": "71d88185",
   "metadata": {},
   "source": [
    "<p align=\"center\">\n",
    "  <img src=\"stride2.png\" width=\"4000\">\n",
    "</p>"
   ]
  },
  {
   "cell_type": "markdown",
   "id": "5811e9d9",
   "metadata": {},
   "source": [
    "<p align=\"center\">\n",
    "  <img src=\"pading.png\" width=\"4000\">\n",
    "</p>"
   ]
  },
  {
   "cell_type": "markdown",
   "id": "dcbb0d0d",
   "metadata": {},
   "source": [
    "## 🎇 🎆  🌋🧭🚀- 2.6 [Pooling Layers](#applications-of-cnns)"
   ]
  },
  {
   "cell_type": "markdown",
   "id": "b5b75750",
   "metadata": {},
   "source": [
    "<p align=\"center\">\n",
    "  <img src=\"polling.png\" width=\"4000\">\n",
    "</p>"
   ]
  },
  {
   "cell_type": "markdown",
   "metadata": {},
   "source": [
    "<p align=\"center\">\n",
    "  <img src=\"polling2.png\" width=\"4000\">\n",
    "</p>"
   ]
  },
  {
   "cell_type": "markdown",
   "id": "804a47e6",
   "metadata": {},
   "source": [
    "<p align=\"center\">\n",
    "  <img src=\"afterpolling.png\" width=\"4000\">\n",
    "</p>"
   ]
  },
  {
   "cell_type": "markdown",
   "id": "f3ebf718",
   "metadata": {},
   "source": [
    " ## 🎇 🎆  🌋🧭🚀 - 2.7 [Flatten Layer](#applications-of-cnns)\n",
    "  "
   ]
  },
  {
   "cell_type": "markdown",
   "id": "3ba2af3d",
   "metadata": {},
   "source": [
    "<p align=\"center\">\n",
    "  <img src=\"flaten.png\" width=\"4000\">\n",
    "</p>"
   ]
  },
  {
   "cell_type": "markdown",
   "id": "2dca9e48",
   "metadata": {},
   "source": [
    " ## 🎇 🎆  🌋🧭🚀- 2.8 [Fully conected neural network](#applications-of-cnns)"
   ]
  },
  {
   "cell_type": "markdown",
   "id": "aa3f207c",
   "metadata": {},
   "source": [
    "## ¿Qué es una capa totalmente conectada (Fully Connected) en una CNN?\n",
    "\n",
    "La **capa totalmente conectada** (*fully connected layer*, o FC) es la etapa final de una red neuronal convolucional (CNN), y se encarga de realizar la **clasificación** basada en las características extraídas por las capas convolucionales y de pooling anteriores.\n",
    "\n",
    "En una FC, **cada neurona está conectada a todas las neuronas de la capa anterior**, lo que le permite combinar la información espacial y abstracta que se ha ido acumulando a lo largo de la red.\n",
    "\n",
    "### Rol dentro de una CNN:\n",
    "\n",
    "- Después de extraer características locales con convoluciones y reducir dimensiones con pooling, se **aplana** (flatten) el tensor resultante en un vector unidimensional.\n",
    "- Este vector se pasa a una o varias capas densas (*Dense layers*) que combinan las características y producen la salida final.\n",
    "- Usualmente, la **última capa FC** usa `softmax` (para clasificación multiclase) o `sigmoid` (para clasificación binaria) como función de activación.\n",
    "\n",
    "### Características:\n",
    "\n",
    "- Proporciona capacidad de decisión y combinación global de las características detectadas.\n",
    "- Aumenta el número de parámetros comparado con las capas convolucionales.\n",
    "- Puede ser fuente de **sobreajuste** si no se regula (por ejemplo, usando `Dropout`)."
   ]
  },
  {
   "cell_type": "markdown",
   "id": "01bbbdf6",
   "metadata": {},
   "source": [
    " ##  🎇 🎆  🌋🧭🚀- 2.9 [Capa de salida](#applications-of-cnns)"
   ]
  },
  {
   "cell_type": "markdown",
   "id": "b1bed0c9",
   "metadata": {},
   "source": [
    "## ¿Qué es la capa de salida en una CNN?\n",
    "\n",
    "La **capa de salida** (*output layer*) es la etapa final de una red neuronal convolucional (CNN). Su objetivo es producir la **predicción final del modelo**, ya sea una clase, una probabilidad o un valor continuo, dependiendo del tipo de tarea.\n",
    "\n",
    "Esta capa suele ser una **capa totalmente conectada (Dense)** con un número de neuronas igual al número de clases (en clasificación) o al número de salidas requeridas (en regresión).\n",
    "\n",
    "### Características clave:\n",
    "\n",
    "- **Número de neuronas**:\n",
    "  - Para **clasificación multiclase**: igual al número de clases (ej. 10 para MNIST).\n",
    "  - Para **clasificación binaria**: normalmente 1 neurona con activación `sigmoid`.\n",
    "  - Para **regresión**: 1 neurona con activación lineal (`activation=None`).\n",
    "\n",
    "- **Función de activación**:\n",
    "  - `softmax`: usada en clasificación multiclase. Produce un vector de probabilidades que suma 1.\n",
    "  - `sigmoid`: usada en clasificación binaria. Produce una probabilidad entre 0 y 1.\n",
    "  - `linear` o ninguna: en problemas de regresión, se deja sin activación para producir valores continuos."
   ]
  },
  {
   "cell_type": "markdown",
   "id": "9fdebc41",
   "metadata": {},
   "source": [
    "\n",
    " ##  🎇 🎆  🌋🧭🚀- 2.10 [Parámetros de la red neuronal, Pesos y Bias](#applications-of-cnns)"
   ]
  },
  {
   "cell_type": "markdown",
   "id": "aff61e0f",
   "metadata": {},
   "source": [
    "## 2.10 Parámetros de la red neuronal: Pesos y Bias\n",
    "\n",
    "En una red neuronal, los **parámetros entrenables** son los que el modelo ajusta durante el proceso de aprendizaje. Los dos tipos principales son:\n",
    "\n",
    "### 🧠 1. Pesos (*Weights*)\n",
    "\n",
    "Los **pesos** determinan la **importancia** de cada entrada en una neurona. En cada conexión entre una neurona de la capa anterior y una neurona de la capa actual, existe un peso asociado que se ajusta mediante algoritmos de optimización como el **gradiente descendente**.\n",
    "\n",
    "- En una **capa densa**, cada conexión tiene su propio peso.\n",
    "- En una **capa convolucional**, los pesos corresponden a los **filtros (kernels)**, que se comparten a lo largo de la entrada.\n",
    "\n",
    "📌 *Durante el entrenamiento, los pesos se actualizan para minimizar la función de pérdida.*\n",
    "\n",
    "### ⚙️ 2. Bias (*Sesgo*)\n",
    "\n",
    "El **bias** es un término adicional que permite a la red neuronal **desplazar** la activación de una neurona. Funciona como una constante añadida a la suma ponderada de las entradas:"
   ]
  },
  {
   "cell_type": "markdown",
   "id": "50fe0faf",
   "metadata": {},
   "source": [
    "## 🎇 🎆  🌋🧭🚀- 2.11 [Funciones de Activación](#applications-of-cnns)"
   ]
  },
  {
   "cell_type": "markdown",
   "id": "05e8955c",
   "metadata": {},
   "source": [
    "# Funciones de Activación en Redes Neuronales\n",
    "\n",
    "En las redes neuronales, las **funciones de activación** introducen no linealidades que permiten al modelo aprender relaciones complejas en los datos. A continuación se describen las funciones de activación más comunes y sus características:\n",
    "\n",
    "---\n",
    "\n",
    "## 1. Sigmoide (Logística)\n",
    "\n",
    "**Fórmula**:  \n",
    "$$σ(x) = \\frac{1}{1 + e^{−x}}$$\n",
    "\n",
    "- **Rango**: (0, 1)\n",
    "- **Descripción**: Mapea la entrada a un valor entre 0 y 1. Es útil cuando se requiere una salida interpretable como probabilidad.\n",
    "- **Uso común**: Capa de salida en clasificación binaria.\n",
    "- **Ventajas**: Suaviza la salida y genera probabilidades.\n",
    "- **Desventajas**: Problema de *vanishing gradient* (gradiente que tiende a cero) en redes profundas.\n",
    "\n",
    "---\n",
    "\n",
    "## 2. Tangente Hiperbólica (Tanh)\n",
    "\n",
    "**Fórmula**:  \n",
    "$$tanh(x) = \\frac{e^x-e^{-x}}{e^x+e^{-x}}$$\n",
    "\n",
    "- **Rango**: (−1, 1)\n",
    "- **Descripción**: Similar al sigmoide pero centrado en cero, lo cual mejora el aprendizaje.\n",
    "- **Uso común**: Capas ocultas en vez de sigmoid, cuando se requiere una activación centrada.\n",
    "- **Ventajas**: Mejor propagación del gradiente que sigmoid.\n",
    "- **Desventajas**: También sufre del problema del gradiente que desaparece.\n",
    "\n",
    "---\n",
    "\n",
    "## 3. ReLU (Unidad Lineal Rectificada)\n",
    "\n",
    "**Fórmula**:  \n",
    "$$ReLU(x) = max(0, x)$$\n",
    "\n",
    "- **Rango**: [0, ∞)\n",
    "- **Descripción**: Retorna 0 si la entrada es negativa y la entrada misma si es positiva.\n",
    "- **Uso común**: Capas ocultas en la mayoría de redes neuronales.\n",
    "- **Ventajas**: Simple, eficiente y evita en gran parte el problema del gradiente que desaparece.\n",
    "- **Desventajas**: Problema de *ReLU muerta* — si la entrada es negativa, el gradiente es cero y la neurona puede dejar de aprender.\n",
    "\n",
    "---\n",
    "\n",
    "## 4. Leaky ReLU\n",
    "\n",
    "**Fórmula**:  \n",
    "$$LeakyReLU(x) = ~~x~~ si~~ x~~ >~~ 0,~~ αx~~ si~~ x ~~≤ ~~0 $$ \n",
    "(donde α ≈ 0.01)\n",
    "\n",
    "- **Rango**: (−∞, ∞)\n",
    "- **Descripción**: Introduce un pequeño gradiente en el dominio negativo para evitar neuronas muertas.\n",
    "- **Uso común**: Capas ocultas en redes profundas.\n",
    "- **Ventajas**: Evita el problema de neuronas muertas de ReLU.\n",
    "- **Desventajas**: α debe ser ajustado manualmente.\n",
    "\n",
    "---\n",
    "\n",
    "## 5. ELU (Unidad Lineal Exponencial)\n",
    "\n",
    "**Fórmula**:  \n",
    "$$ELU(x) = ~~x ~~si~~ x~~ >~~ 0,~~ α(e^x − 1) ~~si~~ x ~~≤ ~~0$$\n",
    "\n",
    "- **Rango**: (−α, ∞)\n",
    "- **Descripción**: Parecido a Leaky ReLU pero con una transición más suave para entradas negativas.\n",
    "- **Uso común**: Redes profundas donde se desea una activación suave.\n",
    "- **Ventajas**: Mejora la convergencia y evita sesgos en el aprendizaje.\n",
    "- **Desventajas**: Mayor coste computacional que ReLU.\n",
    "\n",
    "---\n",
    "\n",
    "## 6. Softmax\n",
    "\n",
    "**Fórmula**:  \n",
    "$$softmax(xᵢ) = \\frac{e^{xᵢ}}{∑ⱼ e^{xⱼ}}  $$\n",
    "\n",
    "- **Rango**: (0, 1), suma de todos = 1\n",
    "- **Descripción**: Convierte un vector de scores (logits) en un vector de probabilidades.\n",
    "- **Uso común**: Capa de salida en clasificación multiclase.\n",
    "- **Ventajas**: Produce una distribución de probabilidad.\n",
    "- **Desventajas**: Puede amplificar errores si los logits son muy grandes.\n",
    "\n",
    "---\n",
    "\n",
    "## 7. Swish\n",
    "\n",
    "**Fórmula**:  \n",
    "$$Swish(x) = \\frac{x}{1 + e^{−x}} $$\n",
    "\n",
    "- **Rango**: (−∞, ∞)\n",
    "- **Descripción**: Función no monótona, suave, propuesta por Google. Mejora el flujo de gradientes en redes profundas.\n",
    "- **Uso común**: Modelos modernos de redes neuronales profundas.\n",
    "- **Ventajas**: Mejor rendimiento que ReLU en ciertas tareas.\n",
    "- **Desventajas**: Más costosa computacionalmente.\n",
    "\n",
    "---\n",
    "\n",
    "## 8. GELU (Unidad Lineal Gaussiana)\n",
    "\n",
    "**Fórmula**:  \n",
    "$$GELU(x) = x × Φ(x)  $$\n",
    "donde Φ(x) es la función de distribución acumulada de una gaussiana.\n",
    "\n",
    "- **Rango**: (−∞, ∞)\n",
    "- **Descripción**: Aproxima una activación suave basada en la probabilidad de que una neurona esté activa.\n",
    "- **Uso común**: Modelos tipo Transformer (como BERT).\n",
    "- **Ventajas**: Mejor precisión en tareas NLP respecto a ReLU o Swish.\n",
    "- **Desventajas**: Coste computacional elevado.\n",
    "\n",
    "---\n",
    "\n",
    "## 9. SELU (Unidad Lineal Exponencial Escalada)\n",
    "\n",
    "**Fórmula**:  \n",
    "$$SELU(x) = λ × { x~~ si~~ x~~ >~~ 0,~~ α(e^x − 1)~~ si~~ x~~ ≤ ~~0 }$$\n",
    "\n",
    "- **Rango**: (−∞, ∞)\n",
    "- **Descripción**: Variante de ELU con escalado automático. Normaliza automáticamente las activaciones durante el entrenamiento.\n",
    "- **Uso común**: Redes *self-normalizing*.\n",
    "- **Ventajas**: Mejora la estabilidad del entrenamiento sin capas BatchNorm.\n",
    "- **Desventajas**: Requiere inicialización cuidadosa y arquitectura específica.\n"
   ]
  },
  {
   "cell_type": "markdown",
   "id": "12822857",
   "metadata": {},
   "source": [
    "## 🎇 🎆  🌋🧭🚀- 2.12 [Función de Perdida, Loss Function](#applications-of-cnns)"
   ]
  },
  {
   "cell_type": "markdown",
   "id": "405c0189",
   "metadata": {},
   "source": [
    "## 2.12 Función de Pérdida (Loss Function)\n",
    "\n",
    "La **función de pérdida** (*loss function*) es un componente fundamental en el entrenamiento de una red neuronal. Su propósito es medir **cuán lejos está la predicción del modelo respecto al valor real**.\n",
    "\n",
    "Durante el entrenamiento, el modelo ajusta sus pesos y bias para minimizar esta función, utilizando algoritmos de optimización como el **gradiente descendente**.\n",
    "\n",
    "---\n",
    "\n",
    "### ¿Por qué es importante?\n",
    "\n",
    "- La función de pérdida guía el proceso de aprendizaje.\n",
    "- Un valor de pérdida más bajo indica que el modelo está haciendo mejores predicciones.\n",
    "- Su derivada se usa para propagar el error hacia atrás en la red (*backpropagation*).\n",
    "\n",
    "---\n",
    "\n",
    "## Tipos comunes de funciones de pérdida:\n",
    "\n",
    "## 🔹 1. `Mean Squared Error (MSE)`\n",
    "Usada en problemas de **regresión**.\n",
    "\n",
    "**Fórmula**:  \n",
    "$$MSE = (1/n) * ∑(y_{pred} − y_{true})²$$\n",
    "\n",
    "- Penaliza fuertemente errores grandes.\n",
    "- Es sensible a outliers.\n",
    "\n",
    "## 🔹 2. `Binary Crossentropy`\n",
    "Usada en **clasificación binaria**.\n",
    "\n",
    "**Fórmula**:  \n",
    "$$L = −[y log(p) + (1 − y) log(1 − p)]$$\n",
    "\n",
    "- Compara la probabilidad predicha con la etiqueta real (0 o 1).\n",
    "- Ideal para salida con activación `sigmoid`.\n",
    "\n",
    "## 🔹 3. `Categorical Crossentropy`\n",
    "Usada en **clasificación multiclase con codificación one-hot**.\n",
    "\n",
    "**Fórmula**:  \n",
    "$$L = −∑ yᵢ log(pᵢ)$$\n",
    "\n",
    "- Compara distribuciones de probabilidad.\n",
    "- Comúnmente usada con salida `softmax`.\n",
    "\n",
    "## 🔹 4. `Sparse Categorical Crossentropy`\n",
    "Similar a `categorical_crossentropy`, pero acepta etiquetas como enteros en lugar de one-hot vectors.\n",
    "\n",
    "- Ideal cuando las etiquetas son números enteros: 0, 1, 2, ..., N−1.\n",
    "\n",
    "## 🔹 5. `Huber Loss`\n",
    "Híbrido entre MSE y MAE. Menos sensible a outliers.\n",
    "\n",
    "**Fórmula**:  \n",
    "Depende de un parámetro δ.  \n",
    "- Si el error es pequeño: usa MSE.  \n",
    "- Si es grande: usa MAE (error absoluto).\n",
    "\n",
    "\n"
   ]
  },
  {
   "cell_type": "markdown",
   "id": "76187846",
   "metadata": {},
   "source": [
    " ## 🎇 🎆  🌋🧭🚀- 2.13 [Foward propagation](#applications-of-cnns)"
   ]
  },
  {
   "cell_type": "markdown",
   "id": "c974aed8",
   "metadata": {},
   "source": [
    "## 2.13 Propagación hacia adelante (Forward Propagation)\n",
    "\n",
    "La **propagación hacia adelante** es el proceso mediante el cual una red neuronal procesa una entrada para producir una salida. Durante este proceso, los datos atraviesan capa por capa y se transforman mediante operaciones lineales y funciones de activación.\n",
    "\n",
    "---\n",
    "\n",
    "### 🔣 Fórmula general para una neurona\n",
    "\n",
    "En una red neuronal densa o completamente conectada, cada neurona realiza el siguiente cálculo:\n",
    "\n",
    "$$z = w₁x₁ + w₂x₂ + ... + wₙxₙ + b = wᵗx + b  $$\n",
    "$$a = φ(z)$$\n",
    "\n",
    "Donde:\n",
    "\n",
    "- `x` es el vector de entrada  \n",
    "- `w` es el vector de pesos  \n",
    "- `b` es el bias  \n",
    "- `z` es la suma ponderada  \n",
    "- `φ` es la función de activación (como ReLU, tanh, sigmoid)  \n",
    "- `a` es la salida activada  \n",
    "\n",
    "---\n",
    "\n",
    "### 🧠 Propagación en redes profundas (Multicapa)\n",
    "\n",
    "En redes profundas, se aplica la siguiente operación para cada capa `l`:\n",
    "\n",
    "$$z⁽ˡ⁾ = W⁽ˡ⁾ · a⁽ˡ⁻¹⁾ + b⁽ˡ⁾$$  \n",
    "$$a⁽ˡ⁾ = φ⁽ˡ⁾(z⁽ˡ⁾)$$\n",
    "\n",
    "Donde:\n",
    "\n",
    "- `a⁽ˡ⁻¹⁾`: activación de la capa anterior  \n",
    "- `W⁽ˡ⁾`: matriz de pesos de la capa `l`  \n",
    "- `b⁽ˡ⁾`: vector de bias de la capa `l`  \n",
    "- `φ⁽ˡ⁾`: función de activación de la capa `l`  \n",
    "- `a⁽ˡ⁾`: salida de la capa `l`\n",
    "\n",
    "Este proceso continúa hasta la **capa de salida**, donde se produce la predicción final.\n",
    "\n",
    "---\n",
    "\n",
    "## 🧩 Propagación en Redes Convolucionales (CNN)\n",
    "\n",
    "En redes convolucionales, la forward propagation incluye operaciones espaciales y tensoriales:\n",
    "\n",
    "### 1. Capa Convolucional\n",
    "\n",
    "Para una entrada `X` y un filtro `K`:\n",
    "\n",
    "$$Z[i,j] = ∑∑ X[i+m, j+n] · K[m,n]  $$\n",
    "$$A[i,j] = φ(Z[i,j]) = max(0, Z[i,j])  ← (si usamos ReLU)$$\n",
    "\n",
    "Esto produce un **mapa de características (feature map)**.\n",
    "\n",
    "---\n",
    "\n",
    "### 2. Capa de Pooling\n",
    "\n",
    "Reduce la dimensión espacial:\n",
    "\n",
    "- **Max Pooling**:  \n",
    "  $P[i,j] = max(A[i:i+2, j:j+2])$\n",
    "\n",
    "- **Average Pooling**:  \n",
    "  $P[i,j] = mean(A[i:i+2, j:j+2])$\n",
    "\n",
    "---\n",
    "\n",
    "### 3. Flatten\n",
    "\n",
    "Convierte el mapa 3D en un vector 1D para pasar a capas densas:  \n",
    "a_flat = flatten(P)\n",
    "\n",
    "---\n",
    "\n",
    "### 4. Capa Densa y de Salida\n",
    "\n",
    "$z = W · a_flat + b $ \n",
    "output = softmax(z)  ← si se trata de clasificación multiclase\n",
    "\n",
    "---\n",
    "\n",
    "## 🔁 Flujo resumido\n",
    "\n",
    "1. **Entrada** (ej: imagen de 64x64x3)  \n",
    "2. **Conv2D + Activación**  \n",
    "3. **Pooling**  \n",
    "4. **Más capas Conv + Pooling (opcional)**  \n",
    "5. **Flatten**  \n",
    "6. **Dense (ReLU u otra)**  \n",
    "7. **Dense final (softmax o sigmoid)**  \n",
    "8. **Predicción → cálculo de pérdida**\n",
    "\n",
    "\n"
   ]
  },
  {
   "cell_type": "markdown",
   "id": "0b38593f",
   "metadata": {},
   "source": [
    "## 🎇 🎆  🌋🧭🚀- 2.14 [Back Propagation](#applications-of-cnns)"
   ]
  },
  {
   "cell_type": "markdown",
   "id": "8debf939",
   "metadata": {},
   "source": [
    "\n",
    "\n",
    "La retropropagación es el algoritmo que permite entrenar redes neuronales ajustando los pesos y bias para minimizar la función de pérdida mediante el cálculo eficiente de gradientes usando la regla de la cadena.\n",
    "\n",
    "---\n",
    "\n",
    "### Objetivo\n",
    "\n",
    "Actualizar los pesos W y bias b para minimizar la función de pérdida L(y, ŷ) usando descenso del gradiente:\n",
    "\n",
    "$$W ← W - η · ∂L/∂W $$ \n",
    "$$b ← b - η · ∂L/∂b$$\n",
    "\n",
    "donde $η$ es la tasa de aprendizaje, y $∂L/∂W$, $∂L/∂b$ son los gradientes de la pérdida respecto a los parámetros.\n",
    "\n",
    "---\n",
    "\n",
    "### Proceso de retropropagación\n",
    "\n",
    "1. **Forward pass**: Calcular la salida ŷ con los pesos actuales.  \n",
    "2. **Cálculo de pérdida**: Evaluar L(y, ŷ).  \n",
    "3. **Backward pass**: Calcular los gradientes ∂L/∂W, ∂L/∂b propagando el error hacia atrás usando la regla de la cadena.  \n",
    "4. **Actualización de parámetros**: Modificar pesos y bias con los gradientes obtenidos.\n",
    "\n",
    "---\n",
    "\n",
    "### Derivadas en una capa densa\n",
    "\n",
    "Sea:\n",
    "\n",
    "$$z = W · a⁽ˡ⁻¹⁾ + b  $$\n",
    "$$a⁽ˡ⁾ = φ(z)  $$\n",
    "L = función de pérdida\n",
    "\n",
    "Definimos el error local:\n",
    "\n",
    "$$δ⁽ˡ⁾ = ∂L/∂z⁽ˡ⁾ = (∂L/∂a⁽ˡ⁾) ⊙ φ'(z⁽ˡ⁾)$$\n",
    "\n",
    "Luego:\n",
    "\n",
    "$$∂L/∂W⁽ˡ⁾ = δ⁽ˡ⁾ · (a⁽ˡ⁻¹⁾)ᵀ  $$\n",
    "$$∂L/∂b⁽ˡ⁾ = δ⁽ˡ⁾ $$\n",
    "$$∂L/∂a⁽ˡ⁻¹⁾ = (W⁽ˡ⁾)ᵀ · δ⁽ˡ⁾$$\n",
    "\n",
    "donde $⊙ $ es producto elemento a elemento y $φ'$ es la derivada de la función de activación.\n",
    "\n",
    "---\n",
    "\n",
    "### Derivada de ReLU\n",
    "\n",
    "Para la función ReLU:\n",
    "\n",
    "$φ(z) = max(0, z)$  \n",
    "$φ'(z) = 1 si z > 0, 0 si z ≤ 0$\n",
    "\n",
    "Por tanto:\n",
    "\n",
    "$δ⁽ˡ⁾ = ∂L/∂a⁽ˡ⁾ ⊙ φ'(z⁽ˡ⁾)$\n",
    "\n",
    "---\n",
    "\n",
    "### Backpropagation en capas convolucionales (CNN)\n",
    "\n",
    "Para entrada $X$, kernel $K$ y salida $Z = X * K$ (convolución):\n",
    "\n",
    "- Gradiente respecto al kernel:\n",
    "\n",
    "$∂L/∂K = X ⋆ δ⁽ˡ⁾$\n",
    "\n",
    "donde $⋆$ es la correlación cruzada.\n",
    "\n",
    "- Gradiente respecto a la entrada (para propagar al nivel anterior):\n",
    "\n",
    "$∂L/∂X = δ⁽ˡ⁾ * rot180(K)$\n",
    "\n",
    "donde $rot180(K)$ es el kernel rotado 180°.\n",
    "\n",
    "---\n",
    "\n",
    "### Resumen\n",
    "\n",
    "- Backpropagation calcula gradientes de pérdida con respecto a cada parámetro.  \n",
    "- Utiliza la regla de la cadena para propagar el error desde la salida hacia las primeras capas.  \n",
    "- Permite optimizar pesos y bias con descenso de gradiente.\n",
    "\n",
    "---\n",
    "\n",
    "### Referencias\n",
    "\n",
    "- Goodfellow, Bengio y Courville, *Deep Learning*, 2016  \n",
    "- Bishop, *Pattern Recognition and Machine Learning*, 2006\n"
   ]
  },
  {
   "cell_type": "markdown",
   "id": "a34fe1aa",
   "metadata": {},
   "source": [
    "# [Teoria matematica completa de las redes neuronales](#applications-of-cnns)"
   ]
  },
  {
   "cell_type": "markdown",
   "id": "0f943cb4",
   "metadata": {},
   "source": [
    "<p align=\"center\">\n",
    "  <img src=\"ejemplo.png\" width=\"4000\">\n",
    "</p>"
   ]
  },
  {
   "cell_type": "markdown",
   "id": "f77f3d07",
   "metadata": {},
   "source": [
    "# Key Neural Network Concepts\n",
    "\n",
    "1. **Neuron**:  \n",
    "   A fundamental unit of computation in a neural network. It receives input signals, processes them, and produces an output signal.\n",
    "\n",
    "2. **Input Layer**:  \n",
    "   The layer of neurons that receives input data from the outside world or from another layer of the network. Each neuron in the input layer corresponds to an input feature.\n",
    "\n",
    "3. **Hidden Layer**:  \n",
    "   One or more layers of neurons between the input and output layers. These layers are responsible for learning representations of the input data. They perform transformations on the input data through weighted connections and activation functions.\n",
    "\n",
    "4. **Output Layer**:  \n",
    "   The layer of neurons that produces the final output of the neural network. The number of neurons in the output layer depends on the nature of the task the network is designed for. For example, in a classification task with three classes, there would typically be three neurons in the output layer.\n",
    "\n",
    "5. **Connection Weights**:  \n",
    "   The strengths of the connections between neurons in adjacent layers. These weights determine how much influence one neuron has on another. During training, the network learns optimal weights through a process of adjusting them based on the input data and the desired output.\n",
    "\n",
    "6. **Activation Function**:  \n",
    "   A function applied to the weighted sum of inputs to introduce nonlinearity into the output of a neuron. Common activation functions include sigmoid, tanh, ReLU (Rectified Linear Unit), and softmax. They help the network learn complex patterns and relationships in the data.\n",
    "\n",
    "7. **Bias**:  \n",
    "   An additional parameter added to each neuron in a layer that allows the network to better fit the data. The bias shifts the activation function, influencing when a neuron becomes active. It helps the network learn patterns that may not pass through the origin.\n"
   ]
  },
  {
   "cell_type": "markdown",
   "id": "10d8163e",
   "metadata": {},
   "source": [
    "# Terminology \n",
    "\n",
    "$a^k_j$ indicate the neuron in the layer $k$ with indice $j$ starting in $1$ from the top\n",
    "\n",
    "$w^k_{ij}$ indicate the weight of the $k$ layer that joint neuron $a^{k-1}_i$ to the neuron $a^{k-1}_j$\n",
    "\n",
    "$b^k_j$ indicate the bias in layer $k$ and with indice $j$ starting in $1$ from the top\n",
    "\n",
    "$z^k_j=a^{k-1}_{1j}w^{k}_{1j}+a^{k-1}_{2j}w^{k}_{2j}+a^{k-1}_{3j}w^{k}_{3j}+...+a^{k-1}_{nj}w^{k}_{nj}+b^k_j$"
   ]
  },
  {
   "cell_type": "markdown",
   "id": "95bbb150",
   "metadata": {},
   "source": [
    "The Neural Network take the input value in the first layer and  through the weights and biases the following neurons in the next layer are formed:\n",
    "\n",
    "$a^1_1$ is the first neuron in the first layer, this is the result of the given input data,\n",
    "\n",
    "$$a^2_1=\\sigma(a^1_1w^2_{11}+a^1_2w^2_{21}+a^1_3w^2_{31}+...+a^1_nw^2_{n1}+b2_1)$$\n",
    "$$a^2_2=\\sigma(a^1_1w^2_{12}+a^1_2w^2_{22}+a^1_3w^2_{32}+...+a^1_nw^2_{n2}+b2_2)$$\n",
    "$$...$$\n",
    "$$.$$\n",
    "$$.$$\n",
    "$$.$$\n",
    "$$a^2_m=\\sigma(a^1_1w^2_{1m}+a^1_2w^2_{2m}+a^1_3w^2_{3m}+...+a^1_nw^2_{nm}+b2_m)$$\n",
    "\n",
    "Following this, the next layer of neuron is formed"
   ]
  },
  {
   "cell_type": "markdown",
   "id": "07039309",
   "metadata": {},
   "source": [
    "## Importance of Activation Functions in Neural Networks\n",
    "\n",
    "The activation function serves a crucial role in a neural network by introducing non-linearity into the output of each neuron. Without non-linearity, a neural network would essentially reduce to a linear model, severely limiting its expressive power and learning capabilities. Here's why activation functions are important, along with some examples:\n",
    "\n",
    "### 1. **Introducing Non-Linearity:**\n",
    "Activation functions allow neural networks to model complex, non-linear relationships in data. Many real-world problems involve non-linear patterns, and activation functions enable the network to capture these patterns effectively.\n",
    "\n",
    "### 2. **Enabling Complex Representations:**\n",
    "By introducing non-linearity, activation functions enable neural networks to learn complex representations of the input data. This is essential for tasks such as image recognition, natural language processing, and time series prediction, where the relationships between input and output are highly non-linear.\n",
    "\n",
    "### 3. **Normalization and Stabilization:**\n",
    "Activation functions help to normalize the output of neurons, preventing them from growing too large or too small during the training process. This can help stabilize the learning process and prevent issues such as vanishing or exploding gradients.\n",
    "\n",
    "---\n",
    "\n",
    "### Examples of Common Activation Functions:\n",
    "\n",
    "- **Sigmoid Function:**  \n",
    "  The sigmoid function squashes the input values to the range [0, 1]. It is often used in binary classification problems where the output needs to be interpreted as a probability. However, it suffers from the vanishing gradient problem, which can slow down the training process, especially in deep networks.\n",
    "\n",
    "- **Hyperbolic Tangent (tanh) Function:**  \n",
    "  Similar to the sigmoid function, the tanh function squashes the input values to the range [-1, 1]. It is also commonly used in neural networks, especially in scenarios where the input data is zero-centered. Like the sigmoid function, tanh can also suffer from the vanishing gradient problem.\n",
    "\n",
    "- **Rectified Linear Unit (ReLU):**  \n",
    "  The ReLU function returns 0 for negative inputs and the input value for positive inputs. It has become the default choice for many neural network architectures due to its simplicity and effectiveness in practice. ReLU helps alleviate the vanishing gradient problem and accelerates the training process, especially in deep networks.\n",
    "\n",
    "- **Leaky ReLU:**  \n",
    "  Leaky ReLU is a variant of the ReLU function that allows a small, non-zero gradient for negative inputs. This helps address the \"dying ReLU\" problem, where neurons can become inactive during training and stop learning.\n",
    "\n",
    "- **Softmax Function:**  \n",
    "  The softmax function is commonly used in the output layer of a neural network for multi-class classification tasks. It squashes the output values into a probability distribution over multiple classes, making it suitable for predicting class probabilities.\n"
   ]
  },
  {
   "cell_type": "markdown",
   "id": "18bb5215",
   "metadata": {},
   "source": [
    "# Back propagation algoritm \n",
    "\n",
    "Let's break down the backpropagation algorithm into manageable steps:\n",
    "\n",
    "1-Forward Pass: We start by performing a forward pass through the neural network. This involves feeding the input data through the network and computing the predicted output. As we propagate the input data through the network layer by layer, we store the intermediate results, such as the activations of each neuron.\n",
    "\n",
    "2-Compute Loss: Once we have the predicted output, we compare it with the actual output (ground truth) to compute the loss. The loss represents how far off our predictions are from the actual values. Common loss functions include mean squared error (MSE) for regression tasks and cross-entropy loss for classification tasks.\n",
    "\n",
    "3-Backward Pass: Now comes the heart of the backpropagation algorithm: the backward pass. In this step, we calculate the gradient of the loss function with respect to each parameter of the network. We start from the output layer and move backward through the network, applying the chain rule of calculus to compute the gradients layer by layer.\n",
    "\n",
    "4-Update Weights: Finally, we use the gradients computed in the backward pass to update the weights of the network. We do this by subtracting a fraction of the gradient from each weight, scaled by a parameter called the learning rate. This process nudges the network parameters in the direction that minimizes the loss, gradually improving its performance.\n",
    "\n",
    "5-Repeat: We repeat this process for a fixed number of iterations (epochs) or until the network converges to a satisfactory level of performance. After each iteration, the network gets a little better at making predictions, thanks to the feedback provided by the backpropagation algorithm.\n",
    "\n",
    "And that's the essence of the backpropagation algorithm! It's a powerful technique that underpins the training of neural networks, enabling them to learn complex patterns and relationships in data. By understanding how backpropagation works, we gain insight into how neural networks learn and improve their performance over time."
   ]
  },
  {
   "cell_type": "markdown",
   "id": "afc3684b",
   "metadata": {},
   "source": [
    "- ### <span style=\"color:blue;\">**1.3.1** Loss functions and optimization.</span>\n",
    "\n",
    "### Cost Function \n",
    "\n",
    "The cost function, also known as the loss function or objective function, is a crucial component in training a neural network. Its primary role is to quantify how well the model's predictions match the actual target values. The goal during training is to minimize this cost function, effectively reducing the disparity between predictions and ground truth.\n",
    "\n",
    "The choice of cost function depends on the nature of the problem being solved. Here are some common examples:\n",
    "\n",
    "Mean Squared Error (MSE): This is a widely used cost function for regression problems. It computes the average of the squared differences between predicted and actual values. MSE penalizes large errors more severely than small ones, making it suitable for tasks where precise numeric predictions are required.\n",
    "\n",
    "### $$MSE =\\frac{1}{n}\\sum^n_{i=1}(y_i-\\hat{y}_i)^2$$\n",
    " \n",
    "\n",
    "Cross-Entropy Loss: Commonly used for classification tasks, cross-entropy loss measures the difference between the predicted probability distribution and the actual distribution of class labels. It tends to penalize misclassifications more heavily than correct classifications, making it well-suited for classification problems with multiple classes.\n",
    "\n",
    "### $$Cross-Entropy Loss=-\\frac{1}{n}\\sum^n_{i=1}y_i log(\\hat{y}_i)$$\n",
    "\n",
    "\n",
    "Binary Cross-Entropy Loss: A specific case of cross-entropy loss used for binary classification tasks, where there are only two possible outcomes.\n",
    "\n",
    "### $$Binary Cross-Entropy Loss=-\\frac{1}{n}\\sum^n_{i=1}y_i log(\\hat{y}_i)+(1-y_i)log(1-\\hat{y}_i)$$\n",
    "\n",
    "\n",
    "Hinge Loss: Commonly used for support vector machines (SVMs) and binary classification tasks. It penalizes misclassifications, but unlike cross-entropy loss, it doesn't produce probabilities directly.\n",
    "\n",
    "### $$Hinge Loss=max(0,1-y*\\hat{y}_i)$$\n",
    "\n",
    "Huber Loss: A robust loss function used in regression tasks, which is less sensitive to outliers than MSE. It combines squared error for small values and absolute error for large values.\n",
    " \n",
    "\n",
    "By minimizing the chosen cost function using optimization algorithms like gradient descent or its variants, we iteratively update the parameters of the neural network to improve its performance on the task at hand. The selection of an appropriate cost function is crucial, as it directly influences the behavior and effectiveness of the learning process."
   ]
  },
  {
   "cell_type": "markdown",
   "id": "0d0d2ba8",
   "metadata": {},
   "source": [
    "- ### <span style=\"color:blue;\">**1.3.2** Gradient descent and its variants.</span> \n",
    "\n",
    "# Variants of Gradient Descent\n",
    "\n",
    "Several variants of gradient descent exist to improve its performance, especially for large datasets and complex neural networks:\n",
    "\n",
    "## Batch Gradient Descent:\n",
    "\n",
    "- Uses the entire dataset to compute the gradient of the loss function.\n",
    "- **Pros:** Provides a stable and accurate estimate of the gradient.\n",
    "- **Cons:** Can be very slow and computationally expensive for large datasets.\n",
    "\n",
    "## Stochastic Gradient Descent (SGD):\n",
    "\n",
    "- Updates the parameters for each training example individually.\n",
    "- **Pros:** Faster and can escape local minima more easily.\n",
    "- **Cons:** The gradient estimates can have high variance, causing the loss function to fluctuate.\n",
    "\n",
    "## Mini-Batch Gradient Descent:\n",
    "\n",
    "- Uses a small random subset of the dataset (mini-batch) to compute the gradient.\n",
    "- **Pros:** Balances the benefits of both batch and stochastic gradient descent. It is computationally efficient and provides more stable updates than SGD.\n",
    "- **Cons:** Requires tuning the mini-batch size.\n"
   ]
  },
  {
   "cell_type": "markdown",
   "id": "2936e194",
   "metadata": {},
   "source": [
    "- ### <span style=\"color:blue;\">**1.3.3** Mathematical theory of a Neural Network.</span> \n",
    "\n",
    "# 1-Fourth Layer\n",
    "$$CostFunction=C=(a^4_1-C_1)^2+(a^4_2-C_2)^2+(a^4_3-C_3)^2$$\n",
    "# Example\n",
    "$$\\frac{\\partial C}{\\partial w^4_{11}}=\\frac{\\partial C}{\\partial a^4_{1}}*\\frac{\\partial a^4_1}{\\partial z^4_{1}}*\\frac{\\partial z^4_1}{\\partial w^4_{11}}$$\n",
    "$$\\frac{\\partial C}{\\partial w^4_{23}}=\\frac{\\partial C}{\\partial a^4_{3}}*\\frac{\\partial a^4_3}{\\partial z^4_{3}}*\\frac{\\partial z^4_3}{\\partial w^4_{23}}$$\n",
    "$$\\frac{\\partial C}{\\partial b^4_{1}}=\\frac{\\partial C}{\\partial a^4_{1}}*\\frac{\\partial a^4_1}{\\partial z^4_{1}}*\\frac{\\partial z^4_1}{\\partial b^4_{1}}$$\n",
    "$$\\frac{\\partial C}{\\partial b^4_{3}}=\\frac{\\partial C}{\\partial a^4_{3}}*\\frac{\\partial a^4_3}{\\partial z^4_{3}}*\\frac{\\partial z^4_3}{\\partial b^4_{3}}$$\n",
    "\n",
    "# Generalization\n",
    "\n",
    "$$\\frac{\\partial C}{\\partial w^k_{ij}}=\\frac{\\partial C}{\\partial a^k_{j}}*\\frac{\\partial a^k_j}{\\partial z^k_{j}}*\\frac{\\partial z^k_j}{\\partial w^k_{ij}}$$\n",
    "\n",
    "$$\\frac{\\partial C}{\\partial b^k_{j}}=\\frac{\\partial C}{\\partial a^k_{j}}*\\frac{\\partial a^k_j}{\\partial z^k_{j}}*\\frac{\\partial z^k_j}{\\partial b^k_{j}}$$\n",
    "\n",
    "# Derivatives solved\n",
    "\n",
    "$$\\frac{\\partial C}{\\partial w^k_{ij}}=2(a^k_j-C_j)*\\sigma '(z^k_j)a^{k-1}_i$$\n",
    "$$\\frac{\\partial C}{\\partial b^k_{j}}=2(a^k_j-C_j)*\\sigma '(z^k_j)*1$$\n",
    "\n",
    "# Third layer\n",
    "\n",
    "# Example\n",
    "\n",
    "$$\\frac{\\partial C}{\\partial w^3_{12}}=\\frac{\\partial C}{\\partial a^4_{1}}*\\frac{\\partial  a^4_{1}}{\\partial z^4_{1}}*\\frac{\\partial  z^4_{1}}{\\partial a^3_{2}}*\\frac{\\partial  a^3_{2}}{\\partial z^3_{2}}*\\frac{\\partial  z^3_{2}}{\\partial w^3_{12}}+\\frac{\\partial C}{\\partial a^4_{2}}*\\frac{\\partial  a^4_{2}}{\\partial z^4_{2}}*\\frac{\\partial  z^4_{2}}{\\partial a^3_{2}}*\\frac{\\partial  a^3_{2}}{\\partial z^3_{2}}*\\frac{\\partial  z^3_{2}}{\\partial w^3_{12}} +\\frac{\\partial C}{\\partial a^4_{3}}*\\frac{\\partial  a^4_{3}}{\\partial z^4_{3}}*\\frac{\\partial  z^4_{3}}{\\partial a^3_{2}}*\\frac{\\partial  a^3_{2}}{\\partial z^3_{2}}*\\frac{\\partial  z^3_{2}}{\\partial w^3_{12}}$$\n",
    "\n",
    "\n",
    "$$\\frac{\\partial C}{\\partial b^3_{2}}=\\frac{\\partial C}{\\partial a^4_{1}}*\\frac{\\partial  a^4_{1}}{\\partial z^4_{1}}*\\frac{\\partial  z^4_{1}}{\\partial a^3_{2}}*\\frac{\\partial  a^3_{2}}{\\partial z^3_{2}}*\\frac{\\partial  z^3_{2}}{\\partial b^3_{2}}+\\frac{\\partial C}{\\partial a^4_{2}}*\\frac{\\partial  a^4_{2}}{\\partial z^4_{2}}*\\frac{\\partial  z^4_{2}}{\\partial a^3_{2}}*\\frac{\\partial  a^3_{2}}{\\partial z^3_{2}}*\\frac{\\partial  z^3_{2}}{\\partial b^3_{2}} +\\frac{\\partial C}{\\partial a^4_{3}}*\\frac{\\partial  a^4_{3}}{\\partial z^4_{3}}*\\frac{\\partial  z^4_{3}}{\\partial a^3_{2}}*\\frac{\\partial  a^3_{2}}{\\partial z^3_{2}}*\\frac{\\partial  z^3_{2}}{\\partial b^3_{2}}$$\n",
    "\n",
    "# Generalization\n",
    "\n",
    "\n",
    "$$\\frac{\\partial C}{\\partial w^{k-1}_{ij}}=\\frac{\\partial C}{\\partial a^k_{1}}*\\frac{\\partial  a^k_{1}}{\\partial z^k_{1}}*\\frac{\\partial  z^k_{1}}{\\partial a^{k-1}_{j}}*\\frac{\\partial  a^{k-1}_{j}}{\\partial z^{k-1}_{j}}*\\frac{\\partial  z^{k-1}_{j}}{\\partial w^{k-1}_{ij}}+\\frac{\\partial C}{\\partial a^k_{2}}*\\frac{\\partial  a^k_{2}}{\\partial z^k_{2}}*\\frac{\\partial  z^k_{2}}{\\partial a^{k-1}_{j}}*\\frac{\\partial  a^{k-1}_{j}}{\\partial z^{k-1}_{j}}*\\frac{\\partial  z^{k-1}_{j}}{\\partial w^{k-1}_{ij}} +\\frac{\\partial C}{\\partial a^k_{3}}*\\frac{\\partial  a^k_{3}}{\\partial z^k_{3}}*\\frac{\\partial  z^k_{3}}{\\partial a^{k-1}_{j}}*\\frac{\\partial  a^{k-1}_{j}}{\\partial z^{k-1}_{j}}*\\frac{\\partial  z^{k-1}_{j}}{\\partial w^{k-1}_{ij}}$$\n",
    "\n",
    "$$\\frac{\\partial C}{\\partial b^{k-1}_{j}}=\\frac{\\partial C}{\\partial a^k_{1}}*\\frac{\\partial  a^k_{1}}{\\partial z^k_{1}}*\\frac{\\partial  z^k_{1}}{\\partial a^{k-1}_{j}}*\\frac{\\partial  a^{k-1}_{j}}{\\partial z^{k-1}_{j}}*\\frac{\\partial  z^{k-1}_{j}}{\\partial b^{k-1}_{j}}+\\frac{\\partial C}{\\partial a^k_{2}}*\\frac{\\partial  a^k_{2}}{\\partial z^k_{2}}*\\frac{\\partial  z^k_{2}}{\\partial a^{k-1}_{j}}*\\frac{\\partial  a^{k-1}_{j}}{\\partial z^{k-1}_{j}}*\\frac{\\partial  z^{k-1}_{j}}{\\partial b^{k-1}_{j}} +\\frac{\\partial C}{\\partial a^k_{3}}*\\frac{\\partial  a^k_{3}}{\\partial z^k_{3}}*\\frac{\\partial  z^k_{3}}{\\partial a^{k-1}_{j}}*\\frac{\\partial  a^{k-1}_{j}}{\\partial z^{k-1}_{j}}*\\frac{\\partial  z^{k-1}_{j}}{\\partial b^{k-1}_{j}}$$\n",
    "\n",
    "# Formula \n",
    "\n",
    "$$\\frac{\\partial C}{\\partial w^{k-1}_{ij}}=\\sum^3_{m=1}\\frac{\\partial C}{\\partial a^k_{m}}*\\frac{\\partial  a^k_{m}}{\\partial z^k_{m}}*\\frac{\\partial  z^k_{m}}{\\partial a^{k-1}_{j}}*\\frac{\\partial  a^{k-1}_{j}}{\\partial z^{k-1}_{j}}*\\frac{\\partial  z^{k-1}_{j}}{\\partial w^{k-1}_{ij}}$$\n",
    "\n",
    "$$\\frac{\\partial C}{\\partial b^{k-1}_{j}}=\\sum^3_{m=1}\\frac{\\partial C}{\\partial a^k_{m}}*\\frac{\\partial  a^k_{m}}{\\partial z^k_{m}}*\\frac{\\partial  z^k_{m}}{\\partial a^{k-1}_{j}}*\\frac{\\partial  a^{k-1}_{j}}{\\partial z^{k-1}_{j}}*\\frac{\\partial  z^{k-1}_{j}}{\\partial b^{k-1}_{j}}$$\n",
    "\n",
    "# Derivatives solved\n",
    "\n",
    "$$\\frac{\\partial C}{\\partial w^{k-1}_{ij}}=\\sum^3_{m=1}2(a^k_m-C_m)*\\sigma '(z^k_m)*w^k_{jm}*\\sigma ' (z^{k-1}_j)*a^{k-2}_i$$\n",
    "\n",
    "$$\\frac{\\partial C}{\\partial b^{k-1}_{j}}=\\sum^3_{m=1}2(a^k_m-C_m)*\\sigma '(z^k_m)*w^k_{jm}*\\sigma ' (z^{k-1}_j)*1$$\n",
    "\n",
    "# Second Layer\n",
    "\n",
    "# Example\n",
    "\n",
    "$$\\frac{\\partial C}{\\partial w^{2}_{31}}=\\frac{\\partial C}{\\partial a^4_1}*\\frac{\\partial a^4_1}{\\partial z^4_1}*(\\frac{\\partial z^4_1}{\\partial a^3_1}*\\frac{\\partial a^3_1}{\\partial z^3_1}*\\frac{\\partial z^3_1}{\\partial a^2_1}*\\frac{\\partial a^2_1}{\\partial z^2_1}*\\frac{\\partial z^2_1}{\\partial w^2_{31}}+\\frac{\\partial z^4_1}{\\partial a^3_2}*\\frac{\\partial a^3_2}{\\partial z^3_2}*\\frac{\\partial z^3_2}{\\partial a^2_1}*\\frac{\\partial a^2_1}{\\partial z^2_1}*\\frac{\\partial z^2_1}{\\partial w^2_{31}}) +\\frac{\\partial C}{\\partial a^4_2}*\\frac{\\partial a^4_2}{\\partial z^4_2}*(\\frac{\\partial z^4_2}{\\partial a^3_1}*\\frac{\\partial a^3_1}{\\partial z^3_1}*\\frac{\\partial z^3_1}{\\partial a^2_1}*\\frac{\\partial a^2_1}{\\partial z^2_1}*\\frac{\\partial z^2_1}{\\partial w^2_{31}}+\\frac{\\partial z^4_2}{\\partial a^3_2}*\\frac{\\partial a^3_2}{\\partial z^3_2}*\\frac{\\partial z^3_2}{\\partial a^2_1}*\\frac{\\partial a^2_1}{\\partial z^2_1}*\\frac{\\partial z^2_1}{\\partial w^2_{31}})+\\frac{\\partial C}{\\partial a^4_3}*\\frac{\\partial a^4_3}{\\partial z^4_3}*(\\frac{\\partial z^4_3}{\\partial a^3_1}*\\frac{\\partial a^3_1}{\\partial z^3_1}*\\frac{\\partial z^3_1}{\\partial a^2_1}*\\frac{\\partial a^2_1}{\\partial z^2_1}*\\frac{\\partial z^2_1}{\\partial w^2_{31}}+\\frac{\\partial z^4_3}{\\partial a^3_2}*\\frac{\\partial a^3_2}{\\partial z^3_2}*\\frac{\\partial z^3_2}{\\partial a^2_1}*\\frac{\\partial a^2_1}{\\partial z^2_1}*\\frac{\\partial z^2_1}{\\partial w^2_{31}})$$\n",
    "\n",
    "\n",
    "# Formula \n",
    "\n",
    "$$\\frac{\\partial C}{\\partial w^{k-2}_{ij}}=\\sum^3_{m=1}\\frac{\\partial C}{\\partial a^k_m}*\\frac{\\partial a^k_m}{\\partial z^k_m}\\sum^2_{p=1}\\frac{\\partial z^k_m}{\\partial a^{k-1}_p}*\\frac{\\partial a^{k-1}_p}{\\partial z^{k-1}_p}*\\frac{\\partial z^{k-1}_p }{\\partial a^{k-2}_j}*\\frac{\\partial a^{k-2}_j }{\\partial z^{k-2}_j}*\\frac{\\partial z^{k-2}_j }{\\partial w^{k-2}_{ij}}$$\n",
    "\n",
    "$$\\frac{\\partial C}{\\partial b^{k-2}_{j}}=\\sum^3_{m=1}\\frac{\\partial C}{\\partial a^k_m}*\\frac{\\partial a^k_m}{\\partial z^k_m}\\sum^2_{p=1}\\frac{\\partial z^k_m}{\\partial a^{k-1}_p}*\\frac{\\partial a^{k-1}_p}{\\partial z^{k-1}_p}*\\frac{\\partial z^{k-1}_p }{\\partial a^{k-2}_j}*\\frac{\\partial a^{k-2}_j }{\\partial z^{k-2}_j}*\\frac{\\partial z^{k-2}_j }{\\partial b^{k-2}_{j}}$$\n",
    "\n",
    "# Derivatives solved\n",
    "\n",
    "$$\\frac{\\partial C}{\\partial w^{k-2}_{ij}}=\\sum^3_{m=1}2(a^k_m-C_m)*\\sigma '(z^k_m)\\sum^2_{p=1}w^k_{pm}*\\sigma '(z^{k-1}_p)*w^{k-1}_{jp}*\\sigma '(z^{k-2}_j)*a^{k-3}_i$$\n",
    "\n",
    "$$\\frac{\\partial C}{\\partial b^{k-2}_{j}}=\\sum^3_{m=1}2(a^k_m-C_m)*\\sigma '(z^k_m)\\sum^2_{p=1}w^k_{pm}*\\sigma '(z^{k-1}_p)*w^{k-1}_{jp}*\\sigma '(z^{k-2}_j)*1$$\n",
    "\n",
    "# The general formula for any amount of hidden layer and x amount of neuron for layer\n",
    "\n",
    "First a change in terminology $m=i_k$, $p=i_{k-1}$...\n",
    "\n",
    "$$\n",
    "\\frac{\\partial C}{\\partial w^{k-n}_{ij}} = \\frac{1}{N_k} \\sum_{i_k=1}^{N_k} 2(a^k_{i_k} - C_{i_k}) \\sigma'(z^k_{i_k}) \n",
    "\\sum_{i_{k-1}=1}^{N_{k-1}} w^k_{i_{k-1}i_k} \\sigma'(z^{k-1}_{i_{k-1}}) \n",
    "\\sum_{i_{k-2}=1}^{N_{k-2}} w^{k-1}_{i_{k-2}i_{k-1}} \\sigma'(z^{k-2}_{i_{k-2}}) \n",
    "$$\n",
    "\n",
    "$$\n",
    "\\sum_{i_{k-3}=1}^{N_{k-3}} w^{k-2}_{i_{k-3}i_{k-2}} \\sigma'(z^{k-3}_{i_{k-3}}) \\cdots \n",
    "\\sum_{i_{k-n+1}=1}^{N_{k-n+1}} w^{k-n+2}_{i_{k-n+1}i_{k-n+2}} \\sigma'(z^{k-n+1}_{i_{k-n+1}}) \n",
    "w^{k-n+1}_{ji_{k-n+1}} \\sigma'(z^{k-n}_j) a^{k-n-1}_i\n",
    "$$\n",
    "\n",
    "$$\n",
    "\\frac{\\partial C}{\\partial b^{k-n}_{j}} = \\frac{1}{N_k} \\sum_{i_k=1}^{N_k} 2(a^k_{i_k} - C_{i_k}) \\sigma'(z^k_{i_k}) \\sum_{i_{k-1}=1}^{N_{k-1}} w^k_{i_{k-1}i_k} \\sigma'(z^{k-1}_{i_{k-1}}) \\sum_{i_{k-2}=1}^{N_{k-2}} w^{k-1}_{i_{k-2}i_{k-1}} \\sigma'(z^{k-2}_{i_{k-2}}) \\sum_{i_{k-3}=1}^{N_{k-3}} w^{k-2}_{i_{k-3}i_{k-2}} \\sigma'(z^{k-3}_{i_{k-3}}) \\cdots \\sum_{i_{k-n+1}=1}^{N_{k-n+1}} w^{k-n+2}_{i_{k-n+1}i_{k-n+2}} \\sigma'(z^{k-n+1}_{i_{k-n+1}}) w^{k-n+1}_{ji_{k-n+1}} \\sigma'(z^{k-n}_j) \\cdot 1\n",
    "$$\n"
   ]
  },
  {
   "cell_type": "markdown",
   "id": "54b7448d",
   "metadata": {},
   "source": [
    "# Converting the sum into a matrix multiplication"
   ]
  },
  {
   "cell_type": "markdown",
   "id": "059b618b",
   "metadata": {},
   "source": [
    "### 1- First order\n",
    "\n",
    "### Derivatives solved\n",
    "\n",
    "$$\\frac{\\partial C}{\\partial w^k_{i_{k-1}i_{k}}}=2(a^k_{i_{k}}-C_{i_{k}})*\\sigma '(z^k_{i_{k}})a^{k-1}_{i_{k-1}}$$\n",
    "\n",
    "\n",
    "Assuming vectors as rows and using the variable $A^1_{i_k}$:\n",
    "\n",
    "$$A^1_{i_k}=2(a^k_{i_{k}}-C_{i_{k}})*\\sigma '(z^k_{i_{k}})$$\n",
    "\n",
    "$$\n",
    "\\left( \\frac{\\partial C}{\\partial w^k_{i_{k-1},i_{k}}} \\right)_{k-1,k} = \n",
    "\\left( \n",
    "\\left( \n",
    "\\left( a^{k-1}_{i_{k-1}} \\right)_{k-1,1}^T \n",
    "\\cdot \n",
    "\\left( A^1_{i_k} \\right)_{1,k} \n",
    "\\right) \n",
    "\\right)_{k-1,k}\n",
    "$$\n",
    "\n",
    "### 2- Second order\n",
    "\n",
    "### Derivatives solved\n",
    "\n",
    "$$\\frac{\\partial C}{\\partial w^{k-1}_{i_{k-2}i_{k-1}}}=\\sum^{N_k}_{i_{k}=1}2(a^k_{i_{k}}-C_{i_{k}})*\\sigma '(z^k_{i_{k}})*w^k_{i_{k-1}i_{k}}*\\sigma ' (z^{k-1}_{i_{k-1}})*a^{k-2}_{i_{k-2}}$$\n",
    "\n",
    "Using the variable $A^1_{i_k}$ y $A^2_{i_{k-1}i_{k}}$\n",
    "\n",
    "\n",
    "$$A^1_{i_k}=2(a^k_{i_{k}}-C_{i_{k}})*\\sigma '(z^k_{i_{k-1}})$$\n",
    "\n",
    "\n",
    "\n",
    "$$A^2_{i_{k-1}i_{k}}= w^k_{i_{k-1}i_{k}}*\\sigma ' (z^{k-1}_{i_{k-1}}) $$\n",
    "\n",
    "We have the following formula:\n",
    "\n",
    "\n",
    "$$\n",
    "\\left( \\frac{\\partial C}{\\partial w^{k-1}_{i_{k-2},i_{k-1}}}\\right)_{k-2,k-1} = \n",
    "\\left( \n",
    "\\left( \n",
    "\\left( \n",
    "A^2_{i_{k-1},i_{k}} \n",
    "\\cdot (A^1_{i_{k}})^T_{i_{k},1} \n",
    "\\right)_{i_{k-1},1} \n",
    "\\cdot (a^{k-2}_{i_{k-2}})_{1,i_{k-2}} \n",
    "\\right) \n",
    "\\right)^T_{k-2,k-1}\n",
    "$$\n",
    "\n",
    "### 3- Third order\n",
    "\n",
    "$$\n",
    "\\frac{\\partial C}{\\partial w^{k-2}_{i_{k-3},i_{k-2}}} = \n",
    "\\sum_{i_{k}=1}^{N_k} 2(a^k_{i_k} - C_{i_k}) \\cdot \\sigma'(z^k_{i_k}) \n",
    "\\sum_{i_{k-1}=1}^{N_{k-1}} w^k_{i_{k-1},i_k} \\cdot \\sigma'(z^{k-1}_{i_{k-1}}) \n",
    "\\cdot w^{k-1}_{i_{k-2},i_{k-1}} \\cdot \\sigma'(z^{k-2}_{i_{k-2}}) \n",
    "\\cdot a^{k-3}_{i_{k-3}}\n",
    "$$\n",
    "\n",
    "Using the variables $A^1_{i_k}$ , $A^2_{i_{k-1}i_{k}}$ y $A^3_{i_{k-2}i_{k-1}}$:\n",
    "\n",
    "$$A^1_{i_k}=2(a^k_{i_{k}}-C_{i_{k}})*\\sigma '(z^k_{i_{k-1}})$$\n",
    "\n",
    "$$A^2_{i_{k-1}i_{k}}= w^k_{i_{k-1}i_{k}}*\\sigma ' (z^{k-1}_{i_{k-1}}) $$\n",
    "\n",
    "$$A^3_{i_{k-2}i_{k-1}}=w^{k-1}_{i_{k-2},i_{k-1}} \\cdot \\sigma'(z^{k-2}_{i_{k-2}}) $$\n",
    "\n",
    "We have the following formula:\n",
    "\n",
    "$$\\left( \\left[ \\left( A^3_{i_{k-2}i_{k-1}}\\right)_{k-2,k-1}\\cdot\\left[ \\left( A^2_{i_{k-1}i_{k}}\\right)_{k-1,k}\\cdot \\left(A^1_{i_k}\\right)^T_{k,1}\\right]\\right]\\cdot\\left(a^{k-3}_{i_{k-3}} \\right)_{1,k-3} \\right)^T$$\n",
    "\n",
    "### 4- Fourt order\n",
    "\n",
    "$$\\left(\\frac{\\partial C}{\\partial w^{k-3}_{i_{k-4},i_{k-3}}}\\right)_{k-4,k-3}=\\left[ \\left( \\left(A^4_{i_{k-3}i_{k-2}} \\right)_{k-3,k-2} \\cdot \\left[ \\left( A^3_{i_{k-2}i_{k-1}}\\right)_{k-2,k-1} \\cdot \\left(\\left(A^2_{i_{k-1}i_{k}}\\right)_{k-1,k} \\cdot \\left(A^1_{i_k}\\right)^T_{k,1}  \\right)_{k-1,1}\\right]\\right)\\cdot \\left(a^{k-4}_{i_{k-4}} \\right)_{1,k-4}\\right]^T$$\n",
    "\n",
    ".\n",
    ".\n",
    ".\n",
    "\n",
    "### N- N order\n",
    "\n",
    "$$\\left(\\frac{\\partial C}{\\partial w^{k-N}_{i_{k-N-1},i_{k-N}}}\\right)_{k-N-1,k-N}=\\left( \\left[\\left(A^{N+1}_{i_{k-N}i_{k-N-1}}\\right) \\cdots \\left( \\left(A^4_{i_{k-3}i_{k-2}} \\right)_{k-3,k-2} \\cdot \\left[ \\left( A^3_{i_{k-2}i_{k-1}}\\right)_{k-2,k-1} \\cdot \\left(\\left(A^2_{i_{k-1}i_{k}}\\right)_{k-1,k} \\cdot \\left(A^1_{i_k}\\right)^T_{k,1}  \\right)_{k-1,1}\\right]\\right)\\right]\\cdot \\left(a^{k-4}_{i_{k-4}} \\right)_{1,k-4}\\right)^T$$"
   ]
  },
  {
   "cell_type": "markdown",
   "id": "d203610a",
   "metadata": {},
   "source": [
    "## 🎇 🎆  🌋🧭🚀- 2.15 [Optimizadores](#applications-of-cnns)"
   ]
  },
  {
   "cell_type": "markdown",
   "id": "ab507687",
   "metadata": {},
   "source": [
    "## Optimizador\n",
    "\n",
    "Los optimizadores son algoritmos o métodos usados para modificar los atributos de la red neuronal, como los pesos y la tasa de aprendizaje, con el fin de reducir las pérdidas. Son componentes clave en el entrenamiento de redes neuronales.\n",
    "\n",
    "### Tipos de optimizadores:\n",
    "\n",
    "#### 1. **Descenso de Gradiente Estocástico (SGD)**\n",
    "- **Descripción**: SGD actualiza los pesos usando el gradiente de la función de pérdida respecto a un solo dato a la vez. Ayuda a navegar hacia el mínimo global de la función de costo.\n",
    "- **Ventajas**: Convergencia más rápida para conjuntos de datos grandes.\n",
    "- **Desventajas**: Actualizaciones ruidosas debido a que se usa solo un dato para actualizar los pesos, lo que puede dificultar la convergencia.\n",
    "\n",
    "#### 2. **Descenso de Gradiente por Mini-batch**\n",
    "- **Descripción**: Es un compromiso entre el descenso de gradiente por batch completo y SGD. Usa un pequeño lote de datos en cada iteración en lugar de todo el conjunto o un solo dato.\n",
    "- **Ventajas**: Balance entre velocidad y estabilidad, mejorando el rendimiento del optimizador.\n",
    "- **Desventajas**: Requiere un ajuste cuidadoso del tamaño del mini-batch.\n",
    "\n",
    "#### 3. **Momentum**\n",
    "- **Descripción**: El momentum acelera el descenso de gradiente usando los gradientes anteriores para suavizar la actualización. Añade una fracción de la actualización previa a la actual.\n",
    "- **Ventajas**: Ayuda a una convergencia más rápida y reduce oscilaciones en direcciones con curvaturas pronunciadas.\n",
    "- **Desventajas**: Introduce un hiperparámetro adicional (coeficiente de momentum) que debe ser ajustado.\n",
    "\n",
    "#### 4. **AdaGrad**\n",
    "- **Descripción**: AdaGrad adapta la tasa de aprendizaje para cada parámetro individual, haciendo actualizaciones grandes para parámetros poco frecuentes y pequeñas para parámetros frecuentes.\n",
    "- **Ventajas**: Funciona bien con datos dispersos (sparse).\n",
    "- **Desventajas**: La tasa de aprendizaje puede disminuir demasiado, deteniendo el aprendizaje prematuramente.\n",
    "\n",
    "#### 5. **RMSprop**\n",
    "- **Descripción**: RMSprop ajusta la tasa de aprendizaje dividiéndola por un promedio exponencialmente decreciente de los gradientes al cuadrado. Esto ayuda a superar el problema de tasa de aprendizaje decreciente de AdaGrad.\n",
    "- **Ventajas**: Adecuado para problemas no estacionarios, donde el proceso de aprendizaje cambia con el tiempo.\n",
    "- **Desventajas**: Aún requiere ajuste de la tasa de aprendizaje.\n",
    "\n",
    "#### 6. **Adam (Estimación Adaptativa del Momento)**\n",
    "- **Descripción**: Combina las ventajas de AdaGrad y RMSprop. Adam mantiene un promedio exponencialmente decreciente de gradientes pasados y de los gradientes al cuadrado.\n",
    "- **Ventajas**: Eficiente y funciona bien con datos ruidosos, requiere menos ajuste de tasa de aprendizaje.\n",
    "- **Desventajas**: Puede converger a soluciones subóptimas en algunos casos.\n",
    "\n",
    "### Elección del optimizador adecuado:\n",
    "- **SGD con momentum** suele ser una buena opción por defecto para muchos problemas.\n",
    "- **Adam** es generalmente preferido para tareas de deep learning debido a su adaptabilidad y eficiencia.\n",
    "- **RMSprop** es útil para redes neuronales recurrentes u otros problemas no estacionarios.\n",
    "\n",
    "### Ajuste de la tasa de aprendizaje (Learning Rate Scheduling):\n",
    "Es importante ajustar la tasa de aprendizaje durante el entrenamiento para mejorar el rendimiento. Algunas técnicas comunes son:\n",
    "- **Decaimiento por pasos (Step decay)**: Reduce la tasa de aprendizaje en intervalos específicos por un factor.\n",
    "- **Decaimiento exponencial (Exponential decay)**: Reduce la tasa de aprendizaje exponencialmente después de cada época.\n",
    "- **Anillado de tasa de aprendizaje (Learning rate annealing)**: Disminuye gradualmente la tasa de aprendizaje con el tiempo.\n"
   ]
  },
  {
   "cell_type": "markdown",
   "id": "3109c03c",
   "metadata": {},
   "source": [
    "## 🎇 🎆  🌋🧭🚀- 2.16 [Overfitting and Early stoping](#stoping)"
   ]
  },
  {
   "cell_type": "markdown",
   "id": "ac428153",
   "metadata": {},
   "source": [
    "## Sobreajuste (Overfitting)\n",
    "\n",
    "El sobreajuste ocurre cuando un modelo de aprendizaje automático se vuelve demasiado complejo, aprendiendo ruido y detalles específicos del conjunto de entrenamiento que no generalizan bien a datos no vistos. Esto sucede típicamente cuando el modelo ajusta muy bien los datos de entrenamiento pero tiene un rendimiento pobre en datos de prueba.\n",
    "\n",
    "### Causas del sobreajuste:\n",
    "- **Demasiados parámetros** en el modelo en relación con la cantidad de datos de entrenamiento.\n",
    "- **Pocos ejemplos de entrenamiento** o desequilibrio en el conjunto de datos.\n",
    "- **Modelos excesivamente complejos**, como redes neuronales muy profundas con demasiada capacidad para memorizar los datos de entrenamiento.\n",
    "\n",
    "### Señales de sobreajuste:\n",
    "- Error muy bajo en el conjunto de entrenamiento pero error alto en el conjunto de prueba/validación.\n",
    "- Gran brecha entre el rendimiento en entrenamiento y en prueba.\n",
    "\n",
    "---\n",
    "\n",
    "## Detención temprana (Early Stopping) \n",
    "\n",
    "La detención temprana es una técnica de regularización que ayuda a prevenir el sobreajuste en modelos de aprendizaje automático. La idea es monitorear el desempeño del modelo en un conjunto de validación durante el entrenamiento y detener el proceso una vez que el rendimiento en validación comienza a degradarse.\n",
    "\n",
    "### Cómo funciona la detención temprana:\n",
    "1. **Monitorear la pérdida de validación**: Registrar cómo se desempeña el modelo en el conjunto de validación al final de cada época.\n",
    "2. **Detener cuando el rendimiento empeora**: Si la pérdida de validación empieza a aumentar después de cierto punto, indica que el modelo está comenzando a sobreajustar.\n",
    "3. **Guardar el mejor modelo**: Los parámetros del modelo en la época con la mejor pérdida de validación se guardan y se usan como modelo final.\n",
    "\n",
    "### Ventajas de la detención temprana:\n",
    "- Previene el sobreajuste y mejora la generalización en datos no vistos.\n",
    "- Reduce el tiempo de entrenamiento al detener el proceso antes de épocas innecesarias.\n",
    "- Es simple de implementar y comúnmente usada en modelos de deep learning.\n",
    "\n",
    "---\n",
    "\n",
    "### Implementación práctica\n",
    "\n",
    "La mayoría de las librerías de deep learning, como TensorFlow y PyTorch, ofrecen mecanismos sencillos para implementar detención temprana, generalmente especificando un conjunto de validación y un parámetro de paciencia (cuántas épocas esperar antes de detenerse).\n"
   ]
  },
  {
   "cell_type": "markdown",
   "id": "14c93c70",
   "metadata": {},
   "source": [
    "## 🎇 🎆  🌋🧭🚀- 2.17 [Métricas de Evaluación del modelo](#stoping)"
   ]
  },
  {
   "cell_type": "markdown",
   "id": "cbc57747",
   "metadata": {},
   "source": [
    "\n",
    "\n",
    "Las métricas de evaluación permiten cuantificar el desempeño de un modelo de aprendizaje automático. Seleccionar métricas adecuadas es clave para entender su eficacia y áreas de mejora.\n",
    "\n",
    "### Métricas comunes en clasificación:\n",
    "\n",
    "- **Exactitud (Accuracy):**  \n",
    "  Proporción de predicciones correctas sobre el total de casos.  \n",
    "  Fórmula:  \n",
    "  accuracy = (TP + TN) / (TP + TN + FP + FN)\n",
    "\n",
    "- **Precisión (Precision):**  \n",
    "  Proporción de verdaderos positivos sobre todos los positivos predichos.  \n",
    "  Fórmula:  \n",
    "  precision = TP / (TP + FP)\n",
    "\n",
    "- **Recall (Sensibilidad o Exhaustividad):**  \n",
    "  Proporción de verdaderos positivos sobre todos los casos positivos reales.  \n",
    "  Fórmula:  \n",
    "  recall = TP / (TP + FN)\n",
    "\n",
    "- **F1-Score:**  \n",
    "  Media armónica entre precisión y recall, balanceando ambos.  \n",
    "  Fórmula:  \n",
    "  F1 = 2 * (precision * recall) / (precision + recall)\n",
    "\n",
    "- **Matriz de Confusión:**  \n",
    "  Tabla que muestra las cantidades de verdaderos positivos (TP), falsos positivos (FP), verdaderos negativos (TN) y falsos negativos (FN).\n",
    "\n",
    "- **Área Bajo la Curva ROC (AUC-ROC):**  \n",
    "  Mide la capacidad del modelo para distinguir entre clases.  \n",
    "  Valores cercanos a 1 indican buen desempeño.\n",
    "\n",
    "### Métricas para regresión:\n",
    "\n",
    "- **Error Cuadrático Medio (MSE):**  \n",
    "  Promedio del cuadrado de las diferencias entre valores predichos y reales.\n",
    "\n",
    "- **Error Absoluto Medio (MAE):**  \n",
    "  Promedio del valor absoluto de las diferencias entre valores predichos y reales.\n",
    "\n",
    "---\n",
    "\n",
    "### Importancia de las métricas\n",
    "\n",
    "- Ayudan a comparar modelos y elegir el mejor según el problema.  \n",
    "- Algunas métricas son más relevantes según el tipo de problema (clasificación balanceada o desbalanceada, regresión, etc.).  \n",
    "- Permiten detectar problemas como sobreajuste o subajuste.\n",
    "\n",
    "\n"
   ]
  },
  {
   "cell_type": "markdown",
   "id": "4c702ed8",
   "metadata": {},
   "source": [
    "  \n",
    "## 🎇 🎆  🌋🧭🚀  - 2.18[Técnicas comunes para mejorar el rendimiento de redes neuronales y CNN](#techniques)"
   ]
  },
  {
   "cell_type": "markdown",
   "id": "62062182",
   "metadata": {},
   "source": [
    " ### 🎇 🎆  🌋🧭🚀 - 2.19 [Regularización](#regu)"
   ]
  },
  {
   "cell_type": "markdown",
   "id": "1cd80175",
   "metadata": {},
   "source": [
    "# Regularización L1 y L2 en Aprendizaje Automático\n",
    "\n",
    "En aprendizaje automático, la **regularización** es una técnica usada para prevenir el sobreajuste agregando un término de penalización a la función de pérdida. Este término penaliza los modelos complejos, incentivando que sean más simples. Existen dos tipos comunes de regularización: **L1 (Lasso)** y **L2 (Ridge)**.\n",
    "\n",
    "## Regularización L1 (Lasso)\n",
    "- La regularización L1 añade una penalización igual al valor absoluto de la magnitud de los coeficientes.\n",
    "- Se representa como:\n",
    "\n",
    "  λ ∑ |w|\n",
    "\n",
    "  donde \\( w \\) representa los pesos del modelo y \\( \\lambda \\) es el parámetro de regularización.\n",
    "- Fomenta modelos dispersos donde solo las características más importantes tienen pesos distintos de cero, realizando efectivamente una selección de características al llevar algunos pesos a cero.\n",
    "\n",
    "## Regularización L2 (Ridge)\n",
    "- La regularización L2 añade una penalización igual al cuadrado de la magnitud de los coeficientes.\n",
    "- Se representa como:\n",
    "\n",
    "  λ ∑ w²\n",
    "\n",
    "- Desalienta pesos grandes pero, a diferencia de L1, no fuerza a que los pesos sean cero. En cambio, promueve pesos más pequeños, ayudando a reducir la complejidad del modelo sin eliminar características por completo.\n",
    "\n",
    "---\n",
    "\n",
    "Ambos métodos buscan equilibrar la complejidad del modelo y la precisión ajustando el parámetro \\( \\lambda \\). Valores altos de \\( \\lambda \\) implican más regularización y modelos más simples, mientras que valores bajos permiten modelos más complejos.\n"
   ]
  },
  {
   "cell_type": "markdown",
   "id": "6162616a",
   "metadata": {},
   "source": [
    "## 🎇 🎆  🌋🧭🚀- 2.21 [Dropout](#dropout)"
   ]
  },
  {
   "cell_type": "markdown",
   "id": "13066730",
   "metadata": {},
   "source": [
    "# Dropout en Aprendizaje Automático\n",
    "\n",
    "**Dropout** es una técnica de regularización usada para prevenir el sobreajuste en redes neuronales. Funciona \"apagando\" aleatoriamente un conjunto de neuronas durante cada iteración de entrenamiento. Esto evita que la red dependa demasiado de una neurona específica, fomentando que aprenda características más robustas distribuidas en todas las neuronas.\n",
    "\n",
    "## Cómo funciona Dropout\n",
    "- Durante cada iteración de entrenamiento, dropout asigna aleatoriamente a cero un porcentaje de neuronas.\n",
    "- Esto \"elimina\" una fracción de las conexiones de la red, creando una red más delgada en cada paso y obliga a las neuronas restantes a aprender características más generalizadas.\n",
    "\n",
    "## Beneficios de Dropout\n",
    "- Reduce el sobreajuste al asegurar que ninguna neurona se vuelva demasiado especializada.\n",
    "- Ayuda a la red a generalizar mejor, al aprender a hacer predicciones sin depender de neuronas específicas.\n",
    "- Durante la inferencia (predicción), el dropout se desactiva, pero los pesos aprendidos se ajustan (escalan) para compensar el efecto del dropout durante el entrenamiento.\n",
    "\n",
    "El **rate de dropout** (usualmente entre 0.2 y 0.5) determina la fracción de neuronas que se \"apagan\" en cada capa. Tasas más altas aumentan la regularización, mientras que tasas más bajas mantienen más conexiones activas.\n"
   ]
  },
  {
   "cell_type": "markdown",
   "id": "70b44a45",
   "metadata": {},
   "source": [
    "   \n",
    " ##  🎇 🎆  🌋🧭🚀- 2.21 [Aumento de datos](#dataaugmentatio)\n"
   ]
  },
  {
   "cell_type": "markdown",
   "id": "a53b28ef",
   "metadata": {},
   "source": [
    "# Aumento de Datos (Data Augmentation) en Aprendizaje Automático\n",
    "\n",
    "**Aumento de datos** es una técnica usada para aumentar artificialmente el tamaño del conjunto de datos de entrenamiento creando versiones modificadas de muestras existentes. Es especialmente popular en visión por computadora y procesamiento de lenguaje natural para mejorar la generalización del modelo y reducir el sobreajuste al introducir mayor variación.\n",
    "\n",
    "## Cómo funciona el aumento de datos\n",
    "- Aplicando diversas transformaciones (por ejemplo, rotación, escalado, volteo, recorte), el aumento de datos crea versiones alteradas de los datos originales.\n",
    "- Para datos de imágenes, las transformaciones pueden incluir volteo, rotación, ajuste de brillo, zoom e incluso cambios de color.\n",
    "- En procesamiento de lenguaje natural, el aumento puede involucrar reemplazo de sinónimos, reordenamiento de oraciones e inyección de ruido.\n",
    "\n",
    "## Beneficios del aumento de datos\n",
    "- Expande el tamaño efectivo del conjunto de entrenamiento sin necesidad de recolectar nuevos datos.\n",
    "- Ayuda al modelo a aprender características más generalizadas al entrenar con representaciones diversas.\n",
    "- Reduce el sobreajuste, ya que el modelo se expone a una mayor variedad de variaciones en la entrada.\n",
    "\n",
    "El aumento de datos es ampliamente usado en deep learning para mejorar la robustez del modelo al exponerlo a escenarios que podría encontrar en datos reales.\n"
   ]
  },
  {
   "cell_type": "markdown",
   "id": "4e0b8352",
   "metadata": {},
   "source": [
    "# 🎇 🎆  🌋🧭🚀 3. [Applications of CNNs](#applications-of-cnns)\n",
    "  ## 🎇 🎆  🌋🧭🚀- 3.1 [Caso de estudio número 1 MINST calsificación de digitos escritos a mano](#convolution)"
   ]
  },
  {
   "cell_type": "markdown",
   "id": "5a4010ac",
   "metadata": {},
   "source": [
    "En este caso de estudio, abordamos el problema clásico de la clasificación de dígitos escritos a mano utilizando el dataset MNIST. Este conjunto de datos es un estándar en el campo del aprendizaje automático y visión por computadora para evaluar modelos de reconocimiento de patrones.\n",
    "\n",
    "Se presentará el proceso completo desde la preprocesamiento de imágenes, diseño y entrenamiento de una red neuronal convolucional (CNN), hasta la evaluación del modelo con métricas clave, mostrando cómo las CNN pueden capturar características relevantes para distinguir entre dígitos con alta precisión.\n"
   ]
  },
  {
   "cell_type": "markdown",
   "id": "d8d315b8",
   "metadata": {},
   "source": [
    "## 🎇 🎆  🌋🧭🚀- 3.2 [Caso de estudio número 2 detección de malaria en células infectadas](#activation-functions)"
   ]
  },
  {
   "cell_type": "markdown",
   "id": "cbcb34a8",
   "metadata": {},
   "source": [
    "\n",
    "En este caso de estudio, exploraremos la aplicación de técnicas de aprendizaje profundo para la detección automática de malaria en imágenes de células sanguíneas. Utilizando redes neuronales convolucionales (CNN), el objetivo es clasificar correctamente entre células parasitadas e inocuas, facilitando así un diagnóstico más rápido y preciso.\n",
    "\n",
    "Analizaremos el proceso completo, desde la preparación y aumento de datos, hasta el diseño, entrenamiento y evaluación del modelo, destacando las métricas de desempeño más relevantes para problemas médicos de clasificación binaria."
   ]
  },
  {
   "cell_type": "markdown",
   "id": "c0cb2d51",
   "metadata": {},
   "source": [
    "# 🎇 🎆  🌋🧭🚀4. [Caso de estudio número 1 MINST calsificación de digitos escritos a mano](#convolution)\n",
    "   ## 🎇 🎆  🌋🧭🚀- 4.1[Seting up the environment](#SETTING)"
   ]
  },
  {
   "cell_type": "code",
   "execution_count": null,
   "id": "7f814e48",
   "metadata": {},
   "outputs": [
    {
     "name": "stdout",
     "output_type": "stream",
     "text": [
      "Requirement already satisfied: tensorflow in c:\\users\\usuario\\anaconda31\\lib\\site-packages (2.19.0)\n",
      "Requirement already satisfied: absl-py>=1.0.0 in c:\\users\\usuario\\anaconda31\\lib\\site-packages (from tensorflow) (2.2.2)\n",
      "Requirement already satisfied: astunparse>=1.6.0 in c:\\users\\usuario\\anaconda31\\lib\\site-packages (from tensorflow) (1.6.3)\n",
      "Requirement already satisfied: flatbuffers>=24.3.25 in c:\\users\\usuario\\anaconda31\\lib\\site-packages (from tensorflow) (25.2.10)\n",
      "Requirement already satisfied: gast!=0.5.0,!=0.5.1,!=0.5.2,>=0.2.1 in c:\\users\\usuario\\anaconda31\\lib\\site-packages (from tensorflow) (0.6.0)\n",
      "Requirement already satisfied: google-pasta>=0.1.1 in c:\\users\\usuario\\anaconda31\\lib\\site-packages (from tensorflow) (0.2.0)\n",
      "Requirement already satisfied: libclang>=13.0.0 in c:\\users\\usuario\\anaconda31\\lib\\site-packages (from tensorflow) (18.1.1)\n",
      "Requirement already satisfied: opt-einsum>=2.3.2 in c:\\users\\usuario\\anaconda31\\lib\\site-packages (from tensorflow) (3.4.0)\n",
      "Requirement already satisfied: packaging in c:\\users\\usuario\\anaconda31\\lib\\site-packages (from tensorflow) (24.1)\n",
      "Requirement already satisfied: protobuf!=4.21.0,!=4.21.1,!=4.21.2,!=4.21.3,!=4.21.4,!=4.21.5,<6.0.0dev,>=3.20.3 in c:\\users\\usuario\\anaconda31\\lib\\site-packages (from tensorflow) (4.25.3)\n",
      "Requirement already satisfied: requests<3,>=2.21.0 in c:\\users\\usuario\\anaconda31\\lib\\site-packages (from tensorflow) (2.32.3)\n",
      "Requirement already satisfied: setuptools in c:\\users\\usuario\\anaconda31\\lib\\site-packages (from tensorflow) (75.1.0)\n",
      "Requirement already satisfied: six>=1.12.0 in c:\\users\\usuario\\anaconda31\\lib\\site-packages (from tensorflow) (1.16.0)\n",
      "Requirement already satisfied: termcolor>=1.1.0 in c:\\users\\usuario\\anaconda31\\lib\\site-packages (from tensorflow) (3.1.0)\n",
      "Requirement already satisfied: typing-extensions>=3.6.6 in c:\\users\\usuario\\anaconda31\\lib\\site-packages (from tensorflow) (4.11.0)\n",
      "Requirement already satisfied: wrapt>=1.11.0 in c:\\users\\usuario\\anaconda31\\lib\\site-packages (from tensorflow) (1.14.1)\n",
      "Requirement already satisfied: grpcio<2.0,>=1.24.3 in c:\\users\\usuario\\anaconda31\\lib\\site-packages (from tensorflow) (1.71.0)\n",
      "Requirement already satisfied: tensorboard~=2.19.0 in c:\\users\\usuario\\anaconda31\\lib\\site-packages (from tensorflow) (2.19.0)\n",
      "Requirement already satisfied: keras>=3.5.0 in c:\\users\\usuario\\anaconda31\\lib\\site-packages (from tensorflow) (3.10.0)\n",
      "Requirement already satisfied: numpy<2.2.0,>=1.26.0 in c:\\users\\usuario\\anaconda31\\lib\\site-packages (from tensorflow) (1.26.4)\n",
      "Requirement already satisfied: h5py>=3.11.0 in c:\\users\\usuario\\anaconda31\\lib\\site-packages (from tensorflow) (3.11.0)\n",
      "Requirement already satisfied: ml-dtypes<1.0.0,>=0.5.1 in c:\\users\\usuario\\anaconda31\\lib\\site-packages (from tensorflow) (0.5.1)\n",
      "Requirement already satisfied: wheel<1.0,>=0.23.0 in c:\\users\\usuario\\anaconda31\\lib\\site-packages (from astunparse>=1.6.0->tensorflow) (0.44.0)\n",
      "Requirement already satisfied: rich in c:\\users\\usuario\\anaconda31\\lib\\site-packages (from keras>=3.5.0->tensorflow) (13.7.1)\n",
      "Requirement already satisfied: namex in c:\\users\\usuario\\anaconda31\\lib\\site-packages (from keras>=3.5.0->tensorflow) (0.0.9)\n",
      "Requirement already satisfied: optree in c:\\users\\usuario\\anaconda31\\lib\\site-packages (from keras>=3.5.0->tensorflow) (0.15.0)\n",
      "Requirement already satisfied: charset-normalizer<4,>=2 in c:\\users\\usuario\\anaconda31\\lib\\site-packages (from requests<3,>=2.21.0->tensorflow) (3.3.2)\n",
      "Requirement already satisfied: idna<4,>=2.5 in c:\\users\\usuario\\anaconda31\\lib\\site-packages (from requests<3,>=2.21.0->tensorflow) (3.7)\n",
      "Requirement already satisfied: urllib3<3,>=1.21.1 in c:\\users\\usuario\\anaconda31\\lib\\site-packages (from requests<3,>=2.21.0->tensorflow) (2.2.3)\n",
      "Requirement already satisfied: certifi>=2017.4.17 in c:\\users\\usuario\\anaconda31\\lib\\site-packages (from requests<3,>=2.21.0->tensorflow) (2024.12.14)\n",
      "Requirement already satisfied: markdown>=2.6.8 in c:\\users\\usuario\\anaconda31\\lib\\site-packages (from tensorboard~=2.19.0->tensorflow) (3.4.1)\n",
      "Requirement already satisfied: tensorboard-data-server<0.8.0,>=0.7.0 in c:\\users\\usuario\\anaconda31\\lib\\site-packages (from tensorboard~=2.19.0->tensorflow) (0.7.2)\n",
      "Requirement already satisfied: werkzeug>=1.0.1 in c:\\users\\usuario\\anaconda31\\lib\\site-packages (from tensorboard~=2.19.0->tensorflow) (3.0.3)\n",
      "Requirement already satisfied: MarkupSafe>=2.1.1 in c:\\users\\usuario\\anaconda31\\lib\\site-packages (from werkzeug>=1.0.1->tensorboard~=2.19.0->tensorflow) (2.1.3)\n",
      "Requirement already satisfied: markdown-it-py>=2.2.0 in c:\\users\\usuario\\anaconda31\\lib\\site-packages (from rich->keras>=3.5.0->tensorflow) (2.2.0)\n",
      "Requirement already satisfied: pygments<3.0.0,>=2.13.0 in c:\\users\\usuario\\anaconda31\\lib\\site-packages (from rich->keras>=3.5.0->tensorflow) (2.15.1)\n",
      "Requirement already satisfied: mdurl~=0.1 in c:\\users\\usuario\\anaconda31\\lib\\site-packages (from markdown-it-py>=2.2.0->rich->keras>=3.5.0->tensorflow) (0.1.0)\n"
     ]
    }
   ],
   "source": [
    "! pip install tensorflow"
   ]
  },
  {
   "cell_type": "code",
   "execution_count": null,
   "id": "a63a5a38",
   "metadata": {},
   "outputs": [
    {
     "name": "stdout",
     "output_type": "stream",
     "text": [
      "Collecting tensorflow-datasets\n",
      "  Downloading tensorflow_datasets-4.9.9-py3-none-any.whl.metadata (11 kB)\n",
      "Requirement already satisfied: absl-py in c:\\users\\usuario\\anaconda31\\lib\\site-packages (from tensorflow-datasets) (2.2.2)\n",
      "Collecting dm-tree (from tensorflow-datasets)\n",
      "  Downloading dm_tree-0.1.9-cp312-cp312-win_amd64.whl.metadata (2.5 kB)\n",
      "Collecting etils>=1.9.1 (from etils[edc,enp,epath,epy,etree]>=1.9.1; python_version >= \"3.11\"->tensorflow-datasets)\n",
      "  Downloading etils-1.12.2-py3-none-any.whl.metadata (6.5 kB)\n",
      "Collecting immutabledict (from tensorflow-datasets)\n",
      "  Downloading immutabledict-4.2.1-py3-none-any.whl.metadata (3.5 kB)\n",
      "Requirement already satisfied: numpy in c:\\users\\usuario\\anaconda31\\lib\\site-packages (from tensorflow-datasets) (1.26.4)\n",
      "Collecting promise (from tensorflow-datasets)\n",
      "  Downloading promise-2.3.tar.gz (19 kB)\n",
      "  Preparing metadata (setup.py): started\n",
      "  Preparing metadata (setup.py): finished with status 'done'\n",
      "Requirement already satisfied: protobuf>=3.20 in c:\\users\\usuario\\anaconda31\\lib\\site-packages (from tensorflow-datasets) (4.25.3)\n",
      "Requirement already satisfied: psutil in c:\\users\\usuario\\anaconda31\\lib\\site-packages (from tensorflow-datasets) (5.9.0)\n",
      "Requirement already satisfied: pyarrow in c:\\users\\usuario\\anaconda31\\lib\\site-packages (from tensorflow-datasets) (16.1.0)\n",
      "Requirement already satisfied: requests>=2.19.0 in c:\\users\\usuario\\anaconda31\\lib\\site-packages (from tensorflow-datasets) (2.32.3)\n",
      "Collecting simple_parsing (from tensorflow-datasets)\n",
      "  Downloading simple_parsing-0.1.7-py3-none-any.whl.metadata (7.3 kB)\n",
      "Collecting tensorflow-metadata (from tensorflow-datasets)\n",
      "  Downloading tensorflow_metadata-1.17.2-py3-none-any.whl.metadata (2.5 kB)\n",
      "Requirement already satisfied: termcolor in c:\\users\\usuario\\anaconda31\\lib\\site-packages (from tensorflow-datasets) (3.1.0)\n",
      "Requirement already satisfied: toml in c:\\users\\usuario\\anaconda31\\lib\\site-packages (from tensorflow-datasets) (0.10.2)\n",
      "Requirement already satisfied: tqdm in c:\\users\\usuario\\anaconda31\\lib\\site-packages (from tensorflow-datasets) (4.66.5)\n",
      "Requirement already satisfied: wrapt in c:\\users\\usuario\\anaconda31\\lib\\site-packages (from tensorflow-datasets) (1.14.1)\n",
      "Collecting einops (from etils[edc,enp,epath,epy,etree]>=1.9.1; python_version >= \"3.11\"->tensorflow-datasets)\n",
      "  Downloading einops-0.8.1-py3-none-any.whl.metadata (13 kB)\n",
      "Requirement already satisfied: fsspec in c:\\users\\usuario\\anaconda31\\lib\\site-packages (from etils[edc,enp,epath,epy,etree]>=1.9.1; python_version >= \"3.11\"->tensorflow-datasets) (2024.6.1)\n",
      "Requirement already satisfied: importlib_resources in c:\\users\\usuario\\anaconda31\\lib\\site-packages (from etils[edc,enp,epath,epy,etree]>=1.9.1; python_version >= \"3.11\"->tensorflow-datasets) (6.5.2)\n",
      "Requirement already satisfied: typing_extensions in c:\\users\\usuario\\anaconda31\\lib\\site-packages (from etils[edc,enp,epath,epy,etree]>=1.9.1; python_version >= \"3.11\"->tensorflow-datasets) (4.11.0)\n",
      "Requirement already satisfied: zipp in c:\\users\\usuario\\anaconda31\\lib\\site-packages (from etils[edc,enp,epath,epy,etree]>=1.9.1; python_version >= \"3.11\"->tensorflow-datasets) (3.17.0)\n",
      "Requirement already satisfied: charset-normalizer<4,>=2 in c:\\users\\usuario\\anaconda31\\lib\\site-packages (from requests>=2.19.0->tensorflow-datasets) (3.3.2)\n",
      "Requirement already satisfied: idna<4,>=2.5 in c:\\users\\usuario\\anaconda31\\lib\\site-packages (from requests>=2.19.0->tensorflow-datasets) (3.7)\n",
      "Requirement already satisfied: urllib3<3,>=1.21.1 in c:\\users\\usuario\\anaconda31\\lib\\site-packages (from requests>=2.19.0->tensorflow-datasets) (2.2.3)\n",
      "Requirement already satisfied: certifi>=2017.4.17 in c:\\users\\usuario\\anaconda31\\lib\\site-packages (from requests>=2.19.0->tensorflow-datasets) (2024.12.14)\n",
      "Requirement already satisfied: attrs>=18.2.0 in c:\\users\\usuario\\anaconda31\\lib\\site-packages (from dm-tree->tensorflow-datasets) (23.1.0)\n",
      "Requirement already satisfied: six in c:\\users\\usuario\\anaconda31\\lib\\site-packages (from promise->tensorflow-datasets) (1.16.0)\n",
      "Collecting docstring-parser<1.0,>=0.15 (from simple_parsing->tensorflow-datasets)\n",
      "  Downloading docstring_parser-0.16-py3-none-any.whl.metadata (3.0 kB)\n",
      "Collecting googleapis-common-protos<2,>=1.56.4 (from tensorflow-metadata->tensorflow-datasets)\n",
      "  Downloading googleapis_common_protos-1.70.0-py3-none-any.whl.metadata (9.3 kB)\n",
      "Requirement already satisfied: colorama in c:\\users\\usuario\\anaconda31\\lib\\site-packages (from tqdm->tensorflow-datasets) (0.4.6)\n",
      "Downloading tensorflow_datasets-4.9.9-py3-none-any.whl (5.3 MB)\n",
      "   ---------------------------------------- 0.0/5.3 MB ? eta -:--:--\n",
      "   ------------------- -------------------- 2.6/5.3 MB 15.0 MB/s eta 0:00:01\n",
      "   ---------------------------------------- 5.3/5.3 MB 14.0 MB/s eta 0:00:00\n",
      "Downloading etils-1.12.2-py3-none-any.whl (167 kB)\n",
      "Downloading dm_tree-0.1.9-cp312-cp312-win_amd64.whl (102 kB)\n",
      "Downloading immutabledict-4.2.1-py3-none-any.whl (4.7 kB)\n",
      "Downloading simple_parsing-0.1.7-py3-none-any.whl (112 kB)\n",
      "Downloading tensorflow_metadata-1.17.2-py3-none-any.whl (31 kB)\n",
      "Downloading docstring_parser-0.16-py3-none-any.whl (36 kB)\n",
      "Downloading googleapis_common_protos-1.70.0-py3-none-any.whl (294 kB)\n",
      "Downloading einops-0.8.1-py3-none-any.whl (64 kB)\n",
      "Building wheels for collected packages: promise\n",
      "  Building wheel for promise (setup.py): started\n",
      "  Building wheel for promise (setup.py): finished with status 'done'\n",
      "  Created wheel for promise: filename=promise-2.3-py3-none-any.whl size=21544 sha256=e0dfb8bcc1fa9bff97a58d9bf2f80d615add649db1378ad94f495e5eea530773\n",
      "  Stored in directory: c:\\users\\usuario\\appdata\\local\\pip\\cache\\wheels\\e7\\e6\\28\\864bdfee5339dbd6ddcb5a186286a8e217648ec198bdf0097d\n",
      "Successfully built promise\n",
      "Installing collected packages: promise, immutabledict, googleapis-common-protos, etils, einops, docstring-parser, dm-tree, tensorflow-metadata, simple_parsing, tensorflow-datasets\n",
      "Successfully installed dm-tree-0.1.9 docstring-parser-0.16 einops-0.8.1 etils-1.12.2 googleapis-common-protos-1.70.0 immutabledict-4.2.1 promise-2.3 simple_parsing-0.1.7 tensorflow-datasets-4.9.9 tensorflow-metadata-1.17.2\n"
     ]
    }
   ],
   "source": [
    "! pip install tensorflow-datasets"
   ]
  },
  {
   "cell_type": "markdown",
   "id": "966141f7",
   "metadata": {},
   "source": [
    "## 🎇 🎆  🌋🧭🚀- 4.2 [Instalando los paquetes](#instal)"
   ]
  },
  {
   "cell_type": "code",
   "execution_count": null,
   "id": "5f6eb888",
   "metadata": {},
   "outputs": [],
   "source": [
    "import tensorflow as tf\n",
    "from tensorflow.keras.models import Sequential\n",
    "from tensorflow.keras.layers import Conv2D, MaxPooling2D, Flatten, Dense\n",
    "import numpy as np\n",
    "import matplotlib.pyplot as plt\n",
    "import tensorflow_datasets as tfds"
   ]
  },
  {
   "cell_type": "markdown",
   "id": "4131afae",
   "metadata": {},
   "source": [
    "## 🎇 🎆  🌋🧭🚀- 4.3 [Cargando los datos MINST](#instal)"
   ]
  },
  {
   "cell_type": "markdown",
   "id": "5b34bb71",
   "metadata": {},
   "source": [
    "## MNIST Dataset https://www.tensorflow.org/datasets/catalog/mnist"
   ]
  },
  {
   "cell_type": "code",
   "execution_count": null,
   "id": "1db05d2f",
   "metadata": {},
   "outputs": [],
   "source": [
    "# Defining some constants/hyperparameters\n",
    "BUFFER_SIZE = 70_000 # for reshuffling\n",
    "BATCH_SIZE = 128\n",
    "NUM_EPOCHS = 20"
   ]
  },
  {
   "cell_type": "code",
   "execution_count": null,
   "id": "f6694287",
   "metadata": {},
   "outputs": [],
   "source": [
    "# Downloading the MNIST dataset\n",
    "\n",
    "# When 'with_info' is set to True, tfds.load() returns two variables: \n",
    "# - the dataset (including the train and test sets) \n",
    "# - meta info regarding the dataset itself\n",
    "\n",
    "mnist_dataset, mnist_info = tfds.load(name='mnist', with_info=True, as_supervised=True)"
   ]
  },
  {
   "cell_type": "markdown",
   "id": "162a0f13",
   "metadata": {},
   "source": [
    "## 🎇 🎆  🌋🧭🚀- 4.4 [Definiendo los data set, Entrenamiento, Validación, Prueba](#instal)"
   ]
  },
  {
   "cell_type": "code",
   "execution_count": null,
   "id": "4b45e839",
   "metadata": {},
   "outputs": [],
   "source": [
    "# Extracting the train and test datasets\n",
    "mnist_train, mnist_test = mnist_dataset['train'], mnist_dataset['test']"
   ]
  },
  {
   "cell_type": "markdown",
   "id": "9996d65c",
   "metadata": {},
   "source": [
    "## 🎇 🎆  🌋🧭🚀- 4.5 [Escalado de imagenes](#instal)"
   ]
  },
  {
   "cell_type": "code",
   "execution_count": null,
   "id": "7c79cc34",
   "metadata": {},
   "outputs": [],
   "source": [
    "# Creating a function to scale our image data (it is recommended to scale the pixel values in the range [0,1] )\n",
    "def scale(image, label):\n",
    "    image = tf.cast(image, tf.float32)\n",
    "    image /= 255.\n",
    "\n",
    "    return image, label"
   ]
  },
  {
   "cell_type": "code",
   "execution_count": null,
   "id": "2321811e",
   "metadata": {},
   "outputs": [],
   "source": [
    "# Scaling the data\n",
    "train_and_validation_data = mnist_train.map(scale)\n",
    "test_data = mnist_test.map(scale)"
   ]
  },
  {
   "cell_type": "code",
   "execution_count": null,
   "id": "02eabb0f",
   "metadata": {},
   "outputs": [],
   "source": [
    "# Defining the size of the validation set\n",
    "num_validation_samples = 0.1 * mnist_info.splits['train'].num_examples\n",
    "num_validation_samples = tf.cast(num_validation_samples, tf.int64)"
   ]
  },
  {
   "cell_type": "code",
   "execution_count": null,
   "id": "542e8e65",
   "metadata": {},
   "outputs": [],
   "source": [
    "# Defining the size of the test set\n",
    "num_test_samples = mnist_info.splits['test'].num_examples\n",
    "num_test_samples = tf.cast(num_test_samples, tf.int64)"
   ]
  },
  {
   "cell_type": "code",
   "execution_count": null,
   "id": "f938c7b1",
   "metadata": {},
   "outputs": [],
   "source": [
    "# Reshuffling the dataset\n",
    "train_and_validation_data = train_and_validation_data.shuffle(BUFFER_SIZE)"
   ]
  },
  {
   "cell_type": "code",
   "execution_count": null,
   "id": "7b1b49da",
   "metadata": {},
   "outputs": [],
   "source": [
    "# Splitting the dataset into training + validation\n",
    "train_data = train_and_validation_data.skip(num_validation_samples)\n",
    "validation_data = train_and_validation_data.take(num_validation_samples)"
   ]
  },
  {
   "cell_type": "code",
   "execution_count": null,
   "id": "bf9db35e",
   "metadata": {},
   "outputs": [],
   "source": [
    "# Batching the data\n",
    "# NOTE: For proper functioning of the model, we need to create one big batch for the validation and test sets\n",
    "train_data = train_data.batch(BATCH_SIZE)\n",
    "validation_data = validation_data.batch(num_validation_samples) \n",
    "test_data = test_data.batch(num_test_samples)"
   ]
  },
  {
   "cell_type": "code",
   "execution_count": null,
   "id": "32098964",
   "metadata": {},
   "outputs": [],
   "source": [
    "# Extracting the numpy arrays from the validation data for the calculation of the Confusion Matrix\n",
    "for images, labels in validation_data:\n",
    "    images_val = images.numpy()\n",
    "    labels_val = labels.numpy()"
   ]
  },
  {
   "cell_type": "markdown",
   "id": "8e3d3e42",
   "metadata": {},
   "source": [
    "## 🎇 🎆  🌋🧭🚀- 4.6 [Creación y entrenamiento de una red Neuroanl Convolucional ](#architecture)"
   ]
  },
  {
   "cell_type": "code",
   "execution_count": null,
   "id": "341e6882",
   "metadata": {},
   "outputs": [
    {
     "name": "stderr",
     "output_type": "stream",
     "text": [
      "c:\\Users\\usuario\\anaconda31\\Lib\\site-packages\\keras\\src\\layers\\convolutional\\base_conv.py:113: UserWarning: Do not pass an `input_shape`/`input_dim` argument to a layer. When using Sequential models, prefer using an `Input(shape)` object as the first layer in the model instead.\n",
      "  super().__init__(activity_regularizer=activity_regularizer, **kwargs)\n"
     ]
    }
   ],
   "source": [
    "# Outlining the model/architecture of our CNN\n",
    "# CONV -> MAXPOOL -> CONV -> MAXPOOL -> FLATTEN -> DENSE\n",
    "model = tf.keras.Sequential([\n",
    "    tf.keras.layers.Conv2D(50, 5, activation='relu', input_shape=(28, 28, 1)),\n",
    "    tf.keras.layers.MaxPooling2D(pool_size=(2,2)), \n",
    "    # (2,2) is the default pool size so we could have just used MaxPooling2D() with no explicit arguments\n",
    "    tf.keras.layers.Conv2D(50, 3, activation='relu'),\n",
    "    tf.keras.layers.MaxPooling2D(pool_size=(2,2)), \n",
    "    tf.keras.layers.Flatten(),\n",
    "    tf.keras.layers.Dense(10) # You can apply softmax activatio n here, see below for comentary\n",
    "])"
   ]
  },
  {
   "cell_type": "code",
   "execution_count": null,
   "id": "412fce07",
   "metadata": {},
   "outputs": [
    {
     "data": {
      "text/html": [
       "<pre style=\"white-space:pre;overflow-x:auto;line-height:normal;font-family:Menlo,'DejaVu Sans Mono',consolas,'Courier New',monospace\"><span style=\"font-weight: bold\">Model: \"sequential\"</span>\n",
       "</pre>\n"
      ],
      "text/plain": [
       "\u001b[1mModel: \"sequential\"\u001b[0m\n"
      ]
     },
     "metadata": {},
     "output_type": "display_data"
    },
    {
     "data": {
      "text/html": [
       "<pre style=\"white-space:pre;overflow-x:auto;line-height:normal;font-family:Menlo,'DejaVu Sans Mono',consolas,'Courier New',monospace\">┏━━━━━━━━━━━━━━━━━━━━━━━━━━━━━━━━┳━━━━━━━━━━━━━━━━━━━━━━━━━┳━━━━━━━━━━━━━━┓\n",
       "┃<span style=\"font-weight: bold\"> Layer (type)                   </span>┃<span style=\"font-weight: bold\"> Output Shape            </span>┃<span style=\"font-weight: bold\">      Param # </span>┃\n",
       "┡━━━━━━━━━━━━━━━━━━━━━━━━━━━━━━━━╇━━━━━━━━━━━━━━━━━━━━━━━━━╇━━━━━━━━━━━━━━┩\n",
       "│ conv2d (<span style=\"color: #0087ff; text-decoration-color: #0087ff\">Conv2D</span>)                │ (<span style=\"color: #00d7ff; text-decoration-color: #00d7ff\">None</span>, <span style=\"color: #00af00; text-decoration-color: #00af00\">24</span>, <span style=\"color: #00af00; text-decoration-color: #00af00\">24</span>, <span style=\"color: #00af00; text-decoration-color: #00af00\">50</span>)      │        <span style=\"color: #00af00; text-decoration-color: #00af00\">1,300</span> │\n",
       "├────────────────────────────────┼─────────────────────────┼──────────────┤\n",
       "│ max_pooling2d (<span style=\"color: #0087ff; text-decoration-color: #0087ff\">MaxPooling2D</span>)   │ (<span style=\"color: #00d7ff; text-decoration-color: #00d7ff\">None</span>, <span style=\"color: #00af00; text-decoration-color: #00af00\">12</span>, <span style=\"color: #00af00; text-decoration-color: #00af00\">12</span>, <span style=\"color: #00af00; text-decoration-color: #00af00\">50</span>)      │            <span style=\"color: #00af00; text-decoration-color: #00af00\">0</span> │\n",
       "├────────────────────────────────┼─────────────────────────┼──────────────┤\n",
       "│ conv2d_1 (<span style=\"color: #0087ff; text-decoration-color: #0087ff\">Conv2D</span>)              │ (<span style=\"color: #00d7ff; text-decoration-color: #00d7ff\">None</span>, <span style=\"color: #00af00; text-decoration-color: #00af00\">10</span>, <span style=\"color: #00af00; text-decoration-color: #00af00\">10</span>, <span style=\"color: #00af00; text-decoration-color: #00af00\">50</span>)      │       <span style=\"color: #00af00; text-decoration-color: #00af00\">22,550</span> │\n",
       "├────────────────────────────────┼─────────────────────────┼──────────────┤\n",
       "│ max_pooling2d_1 (<span style=\"color: #0087ff; text-decoration-color: #0087ff\">MaxPooling2D</span>) │ (<span style=\"color: #00d7ff; text-decoration-color: #00d7ff\">None</span>, <span style=\"color: #00af00; text-decoration-color: #00af00\">5</span>, <span style=\"color: #00af00; text-decoration-color: #00af00\">5</span>, <span style=\"color: #00af00; text-decoration-color: #00af00\">50</span>)        │            <span style=\"color: #00af00; text-decoration-color: #00af00\">0</span> │\n",
       "├────────────────────────────────┼─────────────────────────┼──────────────┤\n",
       "│ flatten (<span style=\"color: #0087ff; text-decoration-color: #0087ff\">Flatten</span>)              │ (<span style=\"color: #00d7ff; text-decoration-color: #00d7ff\">None</span>, <span style=\"color: #00af00; text-decoration-color: #00af00\">1250</span>)            │            <span style=\"color: #00af00; text-decoration-color: #00af00\">0</span> │\n",
       "├────────────────────────────────┼─────────────────────────┼──────────────┤\n",
       "│ dense (<span style=\"color: #0087ff; text-decoration-color: #0087ff\">Dense</span>)                  │ (<span style=\"color: #00d7ff; text-decoration-color: #00d7ff\">None</span>, <span style=\"color: #00af00; text-decoration-color: #00af00\">10</span>)              │       <span style=\"color: #00af00; text-decoration-color: #00af00\">12,510</span> │\n",
       "└────────────────────────────────┴─────────────────────────┴──────────────┘\n",
       "</pre>\n"
      ],
      "text/plain": [
       "┏━━━━━━━━━━━━━━━━━━━━━━━━━━━━━━━━┳━━━━━━━━━━━━━━━━━━━━━━━━━┳━━━━━━━━━━━━━━┓\n",
       "┃\u001b[1m \u001b[0m\u001b[1mLayer (type)                  \u001b[0m\u001b[1m \u001b[0m┃\u001b[1m \u001b[0m\u001b[1mOutput Shape           \u001b[0m\u001b[1m \u001b[0m┃\u001b[1m \u001b[0m\u001b[1m     Param #\u001b[0m\u001b[1m \u001b[0m┃\n",
       "┡━━━━━━━━━━━━━━━━━━━━━━━━━━━━━━━━╇━━━━━━━━━━━━━━━━━━━━━━━━━╇━━━━━━━━━━━━━━┩\n",
       "│ conv2d (\u001b[38;5;33mConv2D\u001b[0m)                │ (\u001b[38;5;45mNone\u001b[0m, \u001b[38;5;34m24\u001b[0m, \u001b[38;5;34m24\u001b[0m, \u001b[38;5;34m50\u001b[0m)      │        \u001b[38;5;34m1,300\u001b[0m │\n",
       "├────────────────────────────────┼─────────────────────────┼──────────────┤\n",
       "│ max_pooling2d (\u001b[38;5;33mMaxPooling2D\u001b[0m)   │ (\u001b[38;5;45mNone\u001b[0m, \u001b[38;5;34m12\u001b[0m, \u001b[38;5;34m12\u001b[0m, \u001b[38;5;34m50\u001b[0m)      │            \u001b[38;5;34m0\u001b[0m │\n",
       "├────────────────────────────────┼─────────────────────────┼──────────────┤\n",
       "│ conv2d_1 (\u001b[38;5;33mConv2D\u001b[0m)              │ (\u001b[38;5;45mNone\u001b[0m, \u001b[38;5;34m10\u001b[0m, \u001b[38;5;34m10\u001b[0m, \u001b[38;5;34m50\u001b[0m)      │       \u001b[38;5;34m22,550\u001b[0m │\n",
       "├────────────────────────────────┼─────────────────────────┼──────────────┤\n",
       "│ max_pooling2d_1 (\u001b[38;5;33mMaxPooling2D\u001b[0m) │ (\u001b[38;5;45mNone\u001b[0m, \u001b[38;5;34m5\u001b[0m, \u001b[38;5;34m5\u001b[0m, \u001b[38;5;34m50\u001b[0m)        │            \u001b[38;5;34m0\u001b[0m │\n",
       "├────────────────────────────────┼─────────────────────────┼──────────────┤\n",
       "│ flatten (\u001b[38;5;33mFlatten\u001b[0m)              │ (\u001b[38;5;45mNone\u001b[0m, \u001b[38;5;34m1250\u001b[0m)            │            \u001b[38;5;34m0\u001b[0m │\n",
       "├────────────────────────────────┼─────────────────────────┼──────────────┤\n",
       "│ dense (\u001b[38;5;33mDense\u001b[0m)                  │ (\u001b[38;5;45mNone\u001b[0m, \u001b[38;5;34m10\u001b[0m)              │       \u001b[38;5;34m12,510\u001b[0m │\n",
       "└────────────────────────────────┴─────────────────────────┴──────────────┘\n"
      ]
     },
     "metadata": {},
     "output_type": "display_data"
    },
    {
     "data": {
      "text/html": [
       "<pre style=\"white-space:pre;overflow-x:auto;line-height:normal;font-family:Menlo,'DejaVu Sans Mono',consolas,'Courier New',monospace\"><span style=\"font-weight: bold\"> Total params: </span><span style=\"color: #00af00; text-decoration-color: #00af00\">36,360</span> (142.03 KB)\n",
       "</pre>\n"
      ],
      "text/plain": [
       "\u001b[1m Total params: \u001b[0m\u001b[38;5;34m36,360\u001b[0m (142.03 KB)\n"
      ]
     },
     "metadata": {},
     "output_type": "display_data"
    },
    {
     "data": {
      "text/html": [
       "<pre style=\"white-space:pre;overflow-x:auto;line-height:normal;font-family:Menlo,'DejaVu Sans Mono',consolas,'Courier New',monospace\"><span style=\"font-weight: bold\"> Trainable params: </span><span style=\"color: #00af00; text-decoration-color: #00af00\">36,360</span> (142.03 KB)\n",
       "</pre>\n"
      ],
      "text/plain": [
       "\u001b[1m Trainable params: \u001b[0m\u001b[38;5;34m36,360\u001b[0m (142.03 KB)\n"
      ]
     },
     "metadata": {},
     "output_type": "display_data"
    },
    {
     "data": {
      "text/html": [
       "<pre style=\"white-space:pre;overflow-x:auto;line-height:normal;font-family:Menlo,'DejaVu Sans Mono',consolas,'Courier New',monospace\"><span style=\"font-weight: bold\"> Non-trainable params: </span><span style=\"color: #00af00; text-decoration-color: #00af00\">0</span> (0.00 B)\n",
       "</pre>\n"
      ],
      "text/plain": [
       "\u001b[1m Non-trainable params: \u001b[0m\u001b[38;5;34m0\u001b[0m (0.00 B)\n"
      ]
     },
     "metadata": {},
     "output_type": "display_data"
    }
   ],
   "source": [
    "# A brief summary of the model and parameters\n",
    "model.summary(line_length = 75)"
   ]
  },
  {
   "cell_type": "markdown",
   "id": "179f47f3",
   "metadata": {},
   "source": [
    "## - [Creacion de la funcion de Perdidad ](#architecture)"
   ]
  },
  {
   "cell_type": "code",
   "execution_count": null,
   "id": "2ebe64b7",
   "metadata": {},
   "outputs": [],
   "source": [
    "# Defining the loss function\n",
    "\n",
    "# In general, our model needs to output probabilities of each class, \n",
    "# which can be achieved with a softmax activation in the last dense layer\n",
    "\n",
    "# However, when using the softmax activation, the loss can rarely be unstable\n",
    "\n",
    "# Thus, instead of incorporating the softmax into the model itself,\n",
    "# we use a loss calculation that automatically corrects for the missing softmax\n",
    "\n",
    "# That is the reason for 'from_logits=True'\n",
    "loss_fn = tf.keras.losses.SparseCategoricalCrossentropy(from_logits=True)"
   ]
  },
  {
   "cell_type": "markdown",
   "id": "8d041c8f",
   "metadata": {},
   "source": [
    "## - [Compilando el modelo](#architecture)"
   ]
  },
  {
   "cell_type": "code",
   "execution_count": null,
   "id": "83df26e3",
   "metadata": {},
   "outputs": [],
   "source": [
    "# Compiling the model with Adam optimizer and the cathegorical crossentropy as a loss function\n",
    "model.compile(optimizer='adam', loss=loss_fn, metrics=['accuracy'])"
   ]
  },
  {
   "cell_type": "markdown",
   "id": "6b7e9958",
   "metadata": {},
   "source": [
    "## - [Definicion del Early stoping ](#architecture)"
   ]
  },
  {
   "cell_type": "code",
   "execution_count": null,
   "id": "9fe4e091",
   "metadata": {},
   "outputs": [],
   "source": [
    "# Defining early stopping to prevent overfitting\n",
    "early_stopping = tf.keras.callbacks.EarlyStopping(\n",
    "    monitor = 'val_loss',\n",
    "    mode = 'auto',    \n",
    "    min_delta = 0,\n",
    "    patience = 2,\n",
    "    verbose = 0, \n",
    "    restore_best_weights = True\n",
    ")"
   ]
  },
  {
   "cell_type": "markdown",
   "id": "53e16886",
   "metadata": {},
   "source": [
    "## - [Entrenamiento del modelo](#architecture)"
   ]
  },
  {
   "cell_type": "code",
   "execution_count": null,
   "id": "f32a9091",
   "metadata": {},
   "outputs": [
    {
     "name": "stdout",
     "output_type": "stream",
     "text": [
      "Epoch 1/20\n",
      "422/422 - 5s - 12ms/step - accuracy: 0.9264 - loss: 0.2567 - val_accuracy: 0.9753 - val_loss: 0.0887\n",
      "Epoch 2/20\n",
      "422/422 - 4s - 10ms/step - accuracy: 0.9787 - loss: 0.0701 - val_accuracy: 0.9803 - val_loss: 0.0669\n",
      "Epoch 3/20\n",
      "422/422 - 4s - 9ms/step - accuracy: 0.9845 - loss: 0.0514 - val_accuracy: 0.9820 - val_loss: 0.0604\n",
      "Epoch 4/20\n",
      "422/422 - 4s - 9ms/step - accuracy: 0.9878 - loss: 0.0411 - val_accuracy: 0.9843 - val_loss: 0.0564\n",
      "Epoch 5/20\n",
      "422/422 - 4s - 9ms/step - accuracy: 0.9898 - loss: 0.0343 - val_accuracy: 0.9857 - val_loss: 0.0527\n",
      "Epoch 6/20\n",
      "422/422 - 4s - 9ms/step - accuracy: 0.9915 - loss: 0.0289 - val_accuracy: 0.9857 - val_loss: 0.0525\n",
      "Epoch 7/20\n",
      "422/422 - 4s - 9ms/step - accuracy: 0.9927 - loss: 0.0248 - val_accuracy: 0.9853 - val_loss: 0.0533\n",
      "Epoch 8/20\n",
      "422/422 - 4s - 10ms/step - accuracy: 0.9940 - loss: 0.0211 - val_accuracy: 0.9852 - val_loss: 0.0544\n"
     ]
    },
    {
     "data": {
      "text/plain": [
       "<keras.src.callbacks.history.History at 0x165682bfef0>"
      ]
     },
     "execution_count": 24,
     "metadata": {},
     "output_type": "execute_result"
    }
   ],
   "source": [
    "# Train the network\n",
    "model.fit(\n",
    "    train_data, \n",
    "    epochs = NUM_EPOCHS, \n",
    "    callbacks = [early_stopping], \n",
    "    validation_data = validation_data,\n",
    "    verbose = 2\n",
    ")"
   ]
  },
  {
   "cell_type": "markdown",
   "id": "0ea11c99",
   "metadata": {},
   "source": [
    "## 🎇 🎆  🌋🧭🚀4.7- [Prueba del modelo ](#architecture)"
   ]
  },
  {
   "cell_type": "code",
   "execution_count": null,
   "id": "2689eb18",
   "metadata": {},
   "outputs": [
    {
     "name": "stdout",
     "output_type": "stream",
     "text": [
      "\u001b[1m1/1\u001b[0m \u001b[32m━━━━━━━━━━━━━━━━━━━━\u001b[0m\u001b[37m\u001b[0m \u001b[1m3s\u001b[0m 3s/step - accuracy: 0.9865 - loss: 0.0373\n"
     ]
    }
   ],
   "source": [
    "# Testing our model\n",
    "test_loss, test_accuracy = model.evaluate(test_data)"
   ]
  },
  {
   "cell_type": "code",
   "execution_count": null,
   "id": "852cfffc",
   "metadata": {},
   "outputs": [
    {
     "name": "stdout",
     "output_type": "stream",
     "text": [
      "Test loss: 0.0373. Test accuracy: 98.65%\n"
     ]
    }
   ],
   "source": [
    "# Printing the test results\n",
    "print('Test loss: {0:.4f}. Test accuracy: {1:.2f}%'.format(test_loss, test_accuracy*100.))"
   ]
  },
  {
   "cell_type": "markdown",
   "id": "8cfa1ed5",
   "metadata": {},
   "source": [
    "## - [Matriz de Confusion ](#architecture)"
   ]
  },
  {
   "cell_type": "code",
   "execution_count": null,
   "id": "9b52e287",
   "metadata": {},
   "outputs": [
    {
     "name": "stdout",
     "output_type": "stream",
     "text": [
      "\u001b[1m188/188\u001b[0m \u001b[32m━━━━━━━━━━━━━━━━━━━━\u001b[0m\u001b[37m\u001b[0m \u001b[1m0s\u001b[0m 2ms/step\n"
     ]
    },
    {
     "data": {
      "image/png": "[encoded data removed]",
      "text/plain": [
       "<Figure size 640x480 with 2 Axes>"
      ]
     },
     "metadata": {},
     "output_type": "display_data"
    }
   ],
   "source": [
    "import numpy as np\n",
    "import matplotlib.pyplot as plt\n",
    "from sklearn.metrics import confusion_matrix, ConfusionMatrixDisplay\n",
    "\n",
    "# 1. Obtener las predicciones del modelo\n",
    "logits_val = model.predict(images_val)\n",
    "y_pred = np.argmax(logits_val, axis=1)\n",
    "\n",
    "# 2. Calcular la matriz de confusión\n",
    "conf_mat = confusion_matrix(labels_val, y_pred)\n",
    "\n",
    "# 3. Mostrar la matriz de confusión como imagen\n",
    "disp = ConfusionMatrixDisplay(confusion_matrix=conf_mat, display_labels=np.arange(10))\n",
    "disp.plot(cmap=plt.cm.Blues)\n",
    "plt.title(\"Confusion Matrix - Validation Set\")\n",
    "plt.grid(False)\n",
    "plt.show()"
   ]
  },
  {
   "cell_type": "markdown",
   "id": "f075ff3a",
   "metadata": {},
   "source": [
    "## - [Hyperparameter tunning ](#architecture)"
   ]
  },
  {
   "cell_type": "code",
   "execution_count": null,
   "id": "77242ca7",
   "metadata": {},
   "outputs": [],
   "source": [
    "from tensorboard.plugins.hparams import api as hp"
   ]
  },
  {
   "cell_type": "code",
   "execution_count": null,
   "id": "7357ccf6",
   "metadata": {},
   "outputs": [],
   "source": [
    "# Defining the hypermatarest we would test and their range\n",
    "HP_FILTER_SIZE = hp.HParam('filter_size', hp.Discrete([3,5,7]))\n",
    "HP_OPTIMIZER = hp.HParam('optimizer', hp.Discrete(['adam', 'sgd']))\n",
    "\n",
    "METRIC_ACCURACY = 'accuracy'\n",
    "\n",
    "# Logging setup info\n",
    "with tf.summary.create_file_writer('logs/hparam_tuning').as_default():\n",
    "    hp.hparams_config(\n",
    "        hparams=[HP_FILTER_SIZE, HP_OPTIMIZER],\n",
    "        metrics=[hp.Metric(METRIC_ACCURACY, display_name='Accuracy')],\n",
    "    )"
   ]
  },
  {
   "cell_type": "code",
   "execution_count": null,
   "id": "3a18d74e",
   "metadata": {},
   "outputs": [],
   "source": [
    "# Wrapping our model and training in a function\n",
    "def train_test_model(hparams):\n",
    "    \n",
    "    # Outlining the model/architecture of our CNN\n",
    "    model = tf.keras.Sequential([\n",
    "        tf.keras.layers.Conv2D(50, hparams[HP_FILTER_SIZE], activation='relu', input_shape=(28, 28, 1)),\n",
    "        tf.keras.layers.MaxPooling2D(pool_size=(2,2)),\n",
    "        tf.keras.layers.Conv2D(50, hparams[HP_FILTER_SIZE], activation='relu'),\n",
    "        tf.keras.layers.MaxPooling2D(pool_size=(2,2)), \n",
    "        tf.keras.layers.Flatten(),\n",
    "        tf.keras.layers.Dense(10)\n",
    "    ])\n",
    "    \n",
    "    # Defining the loss function\n",
    "    loss_fn = tf.keras.losses.SparseCategoricalCrossentropy(from_logits=True)\n",
    "\n",
    "    # Compiling the model with parameter value for the optimizer\n",
    "    model.compile(optimizer=hparams[HP_OPTIMIZER], loss=loss_fn, metrics=['accuracy'])\n",
    "    \n",
    "    # Defining early stopping to prevent overfitting\n",
    "    early_stopping = tf.keras.callbacks.EarlyStopping(\n",
    "        monitor = 'val_loss',\n",
    "        mode = 'auto',\n",
    "        min_delta = 0,\n",
    "        patience = 2,\n",
    "        verbose = 0, \n",
    "        restore_best_weights = True\n",
    "    )\n",
    "    \n",
    "    # Training the model\n",
    "    model.fit(\n",
    "        train_data, \n",
    "        epochs = NUM_EPOCHS,\n",
    "        callbacks = [early_stopping],\n",
    "        validation_data = validation_data,\n",
    "        verbose = 2\n",
    "    )\n",
    "    \n",
    "    _, accuracy = model.evaluate(test_data)\n",
    "    \n",
    "    return accuracy"
   ]
  },
  {
   "cell_type": "code",
   "execution_count": null,
   "id": "002af9a9",
   "metadata": {},
   "outputs": [],
   "source": [
    "# Creating a function to log the resuls\n",
    "def run(log_dir, hparams):\n",
    "    \n",
    "    with tf.summary.create_file_writer(log_dir).as_default():\n",
    "        hp.hparams(hparams)  # record the values used in this trial\n",
    "        accuracy = train_test_model(hparams)\n",
    "        tf.summary.scalar(METRIC_ACCURACY, accuracy, step=1)"
   ]
  },
  {
   "cell_type": "code",
   "execution_count": null,
   "id": "c10cac6a",
   "metadata": {},
   "outputs": [
    {
     "name": "stdout",
     "output_type": "stream",
     "text": [
      "--- Starting trial: run-0\n",
      "{'filter_size': 3, 'optimizer': 'adam'}\n",
      "Epoch 1/20\n"
     ]
    },
    {
     "name": "stderr",
     "output_type": "stream",
     "text": [
      "c:\\Users\\usuario\\anaconda31\\Lib\\site-packages\\keras\\src\\layers\\convolutional\\base_conv.py:113: UserWarning: Do not pass an `input_shape`/`input_dim` argument to a layer. When using Sequential models, prefer using an `Input(shape)` object as the first layer in the model instead.\n",
      "  super().__init__(activity_regularizer=activity_regularizer, **kwargs)\n"
     ]
    },
    {
     "name": "stdout",
     "output_type": "stream",
     "text": [
      "422/422 - 5s - 13ms/step - accuracy: 0.9161 - loss: 0.2925 - val_accuracy: 0.9717 - val_loss: 0.0984\n",
      "Epoch 2/20\n",
      "422/422 - 4s - 10ms/step - accuracy: 0.9761 - loss: 0.0765 - val_accuracy: 0.9787 - val_loss: 0.0708\n",
      "Epoch 3/20\n",
      "422/422 - 4s - 10ms/step - accuracy: 0.9829 - loss: 0.0553 - val_accuracy: 0.9803 - val_loss: 0.0637\n",
      "Epoch 4/20\n",
      "422/422 - 4s - 9ms/step - accuracy: 0.9865 - loss: 0.0445 - val_accuracy: 0.9825 - val_loss: 0.0586\n",
      "Epoch 5/20\n",
      "422/422 - 4s - 9ms/step - accuracy: 0.9888 - loss: 0.0375 - val_accuracy: 0.9843 - val_loss: 0.0561\n",
      "Epoch 6/20\n",
      "422/422 - 4s - 10ms/step - accuracy: 0.9903 - loss: 0.0323 - val_accuracy: 0.9850 - val_loss: 0.0542\n",
      "Epoch 7/20\n",
      "422/422 - 4s - 10ms/step - accuracy: 0.9914 - loss: 0.0281 - val_accuracy: 0.9848 - val_loss: 0.0526\n",
      "Epoch 8/20\n",
      "422/422 - 4s - 10ms/step - accuracy: 0.9926 - loss: 0.0242 - val_accuracy: 0.9853 - val_loss: 0.0532\n",
      "Epoch 9/20\n",
      "422/422 - 4s - 10ms/step - accuracy: 0.9937 - loss: 0.0210 - val_accuracy: 0.9860 - val_loss: 0.0542\n",
      "\u001b[1m1/1\u001b[0m \u001b[32m━━━━━━━━━━━━━━━━━━━━\u001b[0m\u001b[37m\u001b[0m \u001b[1m0s\u001b[0m 430ms/step - accuracy: 0.9872 - loss: 0.0396\n",
      "--- Starting trial: run-1\n",
      "{'filter_size': 3, 'optimizer': 'sgd'}\n",
      "Epoch 1/20\n",
      "422/422 - 5s - 11ms/step - accuracy: 0.5827 - loss: 1.5692 - val_accuracy: 0.8442 - val_loss: 0.5447\n",
      "Epoch 2/20\n",
      "422/422 - 4s - 10ms/step - accuracy: 0.8798 - loss: 0.4164 - val_accuracy: 0.8990 - val_loss: 0.3404\n",
      "Epoch 3/20\n",
      "422/422 - 4s - 10ms/step - accuracy: 0.9085 - loss: 0.3087 - val_accuracy: 0.9192 - val_loss: 0.2702\n",
      "Epoch 4/20\n",
      "422/422 - 5s - 11ms/step - accuracy: 0.9250 - loss: 0.2536 - val_accuracy: 0.9328 - val_loss: 0.2249\n",
      "Epoch 5/20\n",
      "422/422 - 5s - 11ms/step - accuracy: 0.9364 - loss: 0.2147 - val_accuracy: 0.9428 - val_loss: 0.1933\n",
      "Epoch 6/20\n",
      "422/422 - 5s - 12ms/step - accuracy: 0.9455 - loss: 0.1860 - val_accuracy: 0.9488 - val_loss: 0.1708\n",
      "Epoch 7/20\n",
      "422/422 - 5s - 11ms/step - accuracy: 0.9524 - loss: 0.1644 - val_accuracy: 0.9535 - val_loss: 0.1546\n",
      "Epoch 8/20\n",
      "422/422 - 5s - 12ms/step - accuracy: 0.9575 - loss: 0.1480 - val_accuracy: 0.9597 - val_loss: 0.1424\n",
      "Epoch 9/20\n",
      "422/422 - 5s - 11ms/step - accuracy: 0.9613 - loss: 0.1352 - val_accuracy: 0.9633 - val_loss: 0.1330\n",
      "Epoch 10/20\n",
      "422/422 - 5s - 11ms/step - accuracy: 0.9641 - loss: 0.1250 - val_accuracy: 0.9653 - val_loss: 0.1255\n",
      "Epoch 11/20\n",
      "422/422 - 5s - 11ms/step - accuracy: 0.9662 - loss: 0.1167 - val_accuracy: 0.9672 - val_loss: 0.1194\n",
      "Epoch 12/20\n",
      "422/422 - 5s - 12ms/step - accuracy: 0.9679 - loss: 0.1097 - val_accuracy: 0.9693 - val_loss: 0.1143\n",
      "Epoch 13/20\n",
      "422/422 - 5s - 11ms/step - accuracy: 0.9696 - loss: 0.1038 - val_accuracy: 0.9702 - val_loss: 0.1100\n",
      "Epoch 14/20\n",
      "422/422 - 5s - 11ms/step - accuracy: 0.9709 - loss: 0.0987 - val_accuracy: 0.9713 - val_loss: 0.1062\n",
      "Epoch 15/20\n",
      "422/422 - 5s - 11ms/step - accuracy: 0.9721 - loss: 0.0943 - val_accuracy: 0.9717 - val_loss: 0.1030\n",
      "Epoch 16/20\n",
      "422/422 - 5s - 11ms/step - accuracy: 0.9732 - loss: 0.0904 - val_accuracy: 0.9725 - val_loss: 0.1001\n",
      "Epoch 17/20\n",
      "422/422 - 4s - 10ms/step - accuracy: 0.9743 - loss: 0.0869 - val_accuracy: 0.9733 - val_loss: 0.0975\n",
      "Epoch 18/20\n",
      "422/422 - 4s - 10ms/step - accuracy: 0.9751 - loss: 0.0838 - val_accuracy: 0.9742 - val_loss: 0.0952\n",
      "Epoch 19/20\n",
      "422/422 - 5s - 12ms/step - accuracy: 0.9758 - loss: 0.0810 - val_accuracy: 0.9743 - val_loss: 0.0931\n",
      "Epoch 20/20\n",
      "422/422 - 6s - 15ms/step - accuracy: 0.9765 - loss: 0.0785 - val_accuracy: 0.9748 - val_loss: 0.0911\n",
      "\u001b[1m1/1\u001b[0m \u001b[32m━━━━━━━━━━━━━━━━━━━━\u001b[0m\u001b[37m\u001b[0m \u001b[1m0s\u001b[0m 376ms/step - accuracy: 0.9790 - loss: 0.0730\n",
      "--- Starting trial: run-2\n",
      "{'filter_size': 5, 'optimizer': 'adam'}\n",
      "Epoch 1/20\n",
      "422/422 - 9s - 21ms/step - accuracy: 0.9317 - loss: 0.2355 - val_accuracy: 0.9742 - val_loss: 0.0867\n",
      "Epoch 2/20\n",
      "422/422 - 8s - 19ms/step - accuracy: 0.9805 - loss: 0.0638 - val_accuracy: 0.9815 - val_loss: 0.0600\n",
      "Epoch 3/20\n",
      "422/422 - 8s - 18ms/step - accuracy: 0.9864 - loss: 0.0445 - val_accuracy: 0.9842 - val_loss: 0.0522\n",
      "Epoch 4/20\n",
      "422/422 - 8s - 18ms/step - accuracy: 0.9893 - loss: 0.0353 - val_accuracy: 0.9872 - val_loss: 0.0461\n",
      "Epoch 5/20\n",
      "422/422 - 8s - 18ms/step - accuracy: 0.9914 - loss: 0.0287 - val_accuracy: 0.9885 - val_loss: 0.0434\n",
      "Epoch 6/20\n",
      "422/422 - 8s - 19ms/step - accuracy: 0.9928 - loss: 0.0235 - val_accuracy: 0.9882 - val_loss: 0.0452\n",
      "Epoch 7/20\n",
      "422/422 - 8s - 19ms/step - accuracy: 0.9944 - loss: 0.0192 - val_accuracy: 0.9887 - val_loss: 0.0469\n",
      "\u001b[1m1/1\u001b[0m \u001b[32m━━━━━━━━━━━━━━━━━━━━\u001b[0m\u001b[37m\u001b[0m \u001b[1m0s\u001b[0m 369ms/step - accuracy: 0.9889 - loss: 0.0322\n",
      "--- Starting trial: run-3\n",
      "{'filter_size': 5, 'optimizer': 'sgd'}\n",
      "Epoch 1/20\n",
      "422/422 - 6s - 15ms/step - accuracy: 0.6853 - loss: 1.2030 - val_accuracy: 0.8912 - val_loss: 0.3895\n",
      "Epoch 2/20\n",
      "422/422 - 5s - 12ms/step - accuracy: 0.9096 - loss: 0.3115 - val_accuracy: 0.9262 - val_loss: 0.2487\n",
      "Epoch 3/20\n",
      "422/422 - 5s - 12ms/step - accuracy: 0.9333 - loss: 0.2257 - val_accuracy: 0.9420 - val_loss: 0.1961\n",
      "Epoch 4/20\n",
      "422/422 - 5s - 12ms/step - accuracy: 0.9456 - loss: 0.1836 - val_accuracy: 0.9522 - val_loss: 0.1674\n",
      "Epoch 5/20\n",
      "422/422 - 5s - 12ms/step - accuracy: 0.9539 - loss: 0.1575 - val_accuracy: 0.9565 - val_loss: 0.1490\n",
      "Epoch 6/20\n",
      "422/422 - 5s - 12ms/step - accuracy: 0.9592 - loss: 0.1393 - val_accuracy: 0.9595 - val_loss: 0.1361\n",
      "Epoch 7/20\n",
      "422/422 - 5s - 12ms/step - accuracy: 0.9629 - loss: 0.1259 - val_accuracy: 0.9623 - val_loss: 0.1265\n",
      "Epoch 8/20\n",
      "422/422 - 5s - 12ms/step - accuracy: 0.9662 - loss: 0.1154 - val_accuracy: 0.9645 - val_loss: 0.1190\n",
      "Epoch 9/20\n",
      "422/422 - 5s - 12ms/step - accuracy: 0.9684 - loss: 0.1072 - val_accuracy: 0.9660 - val_loss: 0.1131\n",
      "Epoch 10/20\n",
      "422/422 - 5s - 12ms/step - accuracy: 0.9704 - loss: 0.1004 - val_accuracy: 0.9668 - val_loss: 0.1081\n",
      "Epoch 11/20\n",
      "422/422 - 5s - 12ms/step - accuracy: 0.9716 - loss: 0.0947 - val_accuracy: 0.9688 - val_loss: 0.1038\n",
      "Epoch 12/20\n",
      "422/422 - 5s - 12ms/step - accuracy: 0.9729 - loss: 0.0898 - val_accuracy: 0.9707 - val_loss: 0.1000\n",
      "Epoch 13/20\n",
      "422/422 - 5s - 13ms/step - accuracy: 0.9745 - loss: 0.0856 - val_accuracy: 0.9720 - val_loss: 0.0967\n",
      "Epoch 14/20\n",
      "422/422 - 6s - 13ms/step - accuracy: 0.9756 - loss: 0.0819 - val_accuracy: 0.9733 - val_loss: 0.0936\n",
      "Epoch 15/20\n",
      "422/422 - 6s - 14ms/step - accuracy: 0.9764 - loss: 0.0786 - val_accuracy: 0.9745 - val_loss: 0.0908\n",
      "Epoch 16/20\n",
      "422/422 - 6s - 15ms/step - accuracy: 0.9771 - loss: 0.0757 - val_accuracy: 0.9745 - val_loss: 0.0883\n",
      "Epoch 17/20\n",
      "422/422 - 6s - 15ms/step - accuracy: 0.9779 - loss: 0.0730 - val_accuracy: 0.9748 - val_loss: 0.0859\n",
      "Epoch 18/20\n",
      "422/422 - 6s - 15ms/step - accuracy: 0.9786 - loss: 0.0705 - val_accuracy: 0.9753 - val_loss: 0.0839\n",
      "Epoch 19/20\n",
      "422/422 - 6s - 15ms/step - accuracy: 0.9792 - loss: 0.0682 - val_accuracy: 0.9757 - val_loss: 0.0819\n",
      "Epoch 20/20\n",
      "422/422 - 6s - 15ms/step - accuracy: 0.9799 - loss: 0.0661 - val_accuracy: 0.9758 - val_loss: 0.0801\n",
      "\u001b[1m1/1\u001b[0m \u001b[32m━━━━━━━━━━━━━━━━━━━━\u001b[0m\u001b[37m\u001b[0m \u001b[1m0s\u001b[0m 370ms/step - accuracy: 0.9820 - loss: 0.0601\n",
      "--- Starting trial: run-4\n",
      "{'filter_size': 7, 'optimizer': 'adam'}\n",
      "Epoch 1/20\n",
      "422/422 - 6s - 15ms/step - accuracy: 0.9297 - loss: 0.2442 - val_accuracy: 0.9733 - val_loss: 0.0920\n",
      "Epoch 2/20\n",
      "422/422 - 6s - 14ms/step - accuracy: 0.9789 - loss: 0.0707 - val_accuracy: 0.9793 - val_loss: 0.0694\n",
      "Epoch 3/20\n",
      "422/422 - 6s - 14ms/step - accuracy: 0.9846 - loss: 0.0497 - val_accuracy: 0.9840 - val_loss: 0.0555\n",
      "Epoch 4/20\n",
      "422/422 - 6s - 14ms/step - accuracy: 0.9885 - loss: 0.0377 - val_accuracy: 0.9865 - val_loss: 0.0483\n",
      "Epoch 5/20\n",
      "422/422 - 6s - 13ms/step - accuracy: 0.9906 - loss: 0.0304 - val_accuracy: 0.9878 - val_loss: 0.0456\n",
      "Epoch 6/20\n",
      "422/422 - 5s - 12ms/step - accuracy: 0.9926 - loss: 0.0244 - val_accuracy: 0.9878 - val_loss: 0.0437\n",
      "Epoch 7/20\n",
      "422/422 - 5s - 12ms/step - accuracy: 0.9943 - loss: 0.0198 - val_accuracy: 0.9887 - val_loss: 0.0436\n",
      "Epoch 8/20\n",
      "422/422 - 5s - 12ms/step - accuracy: 0.9955 - loss: 0.0159 - val_accuracy: 0.9878 - val_loss: 0.0470\n",
      "Epoch 9/20\n",
      "422/422 - 5s - 11ms/step - accuracy: 0.9963 - loss: 0.0132 - val_accuracy: 0.9882 - val_loss: 0.0511\n",
      "\u001b[1m1/1\u001b[0m \u001b[32m━━━━━━━━━━━━━━━━━━━━\u001b[0m\u001b[37m\u001b[0m \u001b[1m0s\u001b[0m 273ms/step - accuracy: 0.9884 - loss: 0.0370\n",
      "--- Starting trial: run-5\n",
      "{'filter_size': 7, 'optimizer': 'sgd'}\n",
      "Epoch 1/20\n",
      "422/422 - 5s - 12ms/step - accuracy: 0.7442 - loss: 1.0075 - val_accuracy: 0.8858 - val_loss: 0.3920\n",
      "Epoch 2/20\n",
      "422/422 - 5s - 11ms/step - accuracy: 0.9056 - loss: 0.3320 - val_accuracy: 0.9178 - val_loss: 0.2716\n",
      "Epoch 3/20\n",
      "422/422 - 5s - 11ms/step - accuracy: 0.9260 - loss: 0.2538 - val_accuracy: 0.9363 - val_loss: 0.2189\n",
      "Epoch 4/20\n",
      "422/422 - 5s - 11ms/step - accuracy: 0.9379 - loss: 0.2109 - val_accuracy: 0.9462 - val_loss: 0.1883\n",
      "Epoch 5/20\n",
      "422/422 - 5s - 12ms/step - accuracy: 0.9459 - loss: 0.1823 - val_accuracy: 0.9523 - val_loss: 0.1681\n",
      "Epoch 6/20\n",
      "422/422 - 5s - 11ms/step - accuracy: 0.9526 - loss: 0.1614 - val_accuracy: 0.9537 - val_loss: 0.1533\n",
      "Epoch 7/20\n",
      "422/422 - 5s - 12ms/step - accuracy: 0.9571 - loss: 0.1453 - val_accuracy: 0.9567 - val_loss: 0.1422\n",
      "Epoch 8/20\n",
      "422/422 - 5s - 12ms/step - accuracy: 0.9608 - loss: 0.1328 - val_accuracy: 0.9602 - val_loss: 0.1335\n",
      "Epoch 9/20\n",
      "422/422 - 5s - 13ms/step - accuracy: 0.9641 - loss: 0.1225 - val_accuracy: 0.9615 - val_loss: 0.1263\n",
      "Epoch 10/20\n",
      "422/422 - 6s - 13ms/step - accuracy: 0.9664 - loss: 0.1141 - val_accuracy: 0.9628 - val_loss: 0.1201\n",
      "Epoch 11/20\n",
      "422/422 - 5s - 13ms/step - accuracy: 0.9684 - loss: 0.1070 - val_accuracy: 0.9642 - val_loss: 0.1148\n",
      "Epoch 12/20\n",
      "422/422 - 6s - 15ms/step - accuracy: 0.9701 - loss: 0.1009 - val_accuracy: 0.9658 - val_loss: 0.1103\n",
      "Epoch 13/20\n",
      "422/422 - 6s - 15ms/step - accuracy: 0.9716 - loss: 0.0956 - val_accuracy: 0.9668 - val_loss: 0.1062\n",
      "Epoch 14/20\n",
      "422/422 - 6s - 15ms/step - accuracy: 0.9728 - loss: 0.0909 - val_accuracy: 0.9685 - val_loss: 0.1025\n",
      "Epoch 15/20\n",
      "422/422 - 6s - 15ms/step - accuracy: 0.9739 - loss: 0.0867 - val_accuracy: 0.9697 - val_loss: 0.0993\n",
      "Epoch 16/20\n",
      "422/422 - 6s - 15ms/step - accuracy: 0.9752 - loss: 0.0829 - val_accuracy: 0.9710 - val_loss: 0.0963\n",
      "Epoch 17/20\n",
      "422/422 - 6s - 14ms/step - accuracy: 0.9761 - loss: 0.0795 - val_accuracy: 0.9717 - val_loss: 0.0935\n",
      "Epoch 18/20\n",
      "422/422 - 6s - 14ms/step - accuracy: 0.9770 - loss: 0.0764 - val_accuracy: 0.9722 - val_loss: 0.0910\n",
      "Epoch 19/20\n",
      "422/422 - 6s - 14ms/step - accuracy: 0.9778 - loss: 0.0735 - val_accuracy: 0.9728 - val_loss: 0.0886\n",
      "Epoch 20/20\n",
      "422/422 - 6s - 14ms/step - accuracy: 0.9786 - loss: 0.0709 - val_accuracy: 0.9733 - val_loss: 0.0865\n",
      "\u001b[1m1/1\u001b[0m \u001b[32m━━━━━━━━━━━━━━━━━━━━\u001b[0m\u001b[37m\u001b[0m \u001b[1m0s\u001b[0m 332ms/step - accuracy: 0.9807 - loss: 0.0689\n"
     ]
    }
   ],
   "source": [
    "# Performing a grid search on the hyperparameters we need to test\n",
    "session_num = 0\n",
    "\n",
    "for filter_size in HP_FILTER_SIZE.domain.values:\n",
    "    for optimizer in HP_OPTIMIZER.domain.values:\n",
    "    \n",
    "        hparams = {\n",
    "            HP_FILTER_SIZE: filter_size,\n",
    "            HP_OPTIMIZER: optimizer\n",
    "        }\n",
    "        run_name = \"run-%d\" % session_num\n",
    "        print('--- Starting trial: %s' % run_name)\n",
    "        print({h.name: hparams[h] for h in hparams})\n",
    "        run('logs/hparam_tuning/' + run_name, hparams)\n",
    "\n",
    "        session_num += 1"
   ]
  },
  {
   "cell_type": "markdown",
   "id": "e2005530",
   "metadata": {},
   "source": [
    "## - [Visualizing the hyperparameter results with Tensorboard](#architecture)"
   ]
  },
  {
   "cell_type": "code",
   "execution_count": null,
   "id": "728b0902",
   "metadata": {},
   "outputs": [
    {
     "data": {
      "text/html": [
       "\n",
       "      <iframe id=\"tensorboard-frame-ea5bbc81fb458e4\" width=\"100%\" height=\"800\" frameborder=\"0\">\n",
       "      </iframe>\n",
       "      <script>\n",
       "        (function() {\n",
       "          const frame = document.getElementById(\"tensorboard-frame-ea5bbc81fb458e4\");\n",
       "          const url = new URL(\"/\", window.location);\n",
       "          const port = 6006;\n",
       "          if (port) {\n",
       "            url.port = port;\n",
       "          }\n",
       "          frame.src = url;\n",
       "        })();\n",
       "      </script>\n",
       "    "
      ],
      "text/plain": [
       "<IPython.core.display.HTML object>"
      ]
     },
     "metadata": {},
     "output_type": "display_data"
    }
   ],
   "source": [
    "# Loading the Tensorboard extension\n",
    "%load_ext tensorboard\n",
    "%tensorboard --logdir \"logs/hparam_tuning\""
   ]
  },
  {
   "cell_type": "markdown",
   "id": "7dbc917b",
   "metadata": {},
   "source": [
    "# 🎇 🎆  🌋🧭🚀5. [Caso de estudio número 2 detección de malaria en células infectadas](#convolution)\n"
   ]
  },
  {
   "cell_type": "code",
   "execution_count": null,
   "id": "055ae44a",
   "metadata": {},
   "outputs": [
    {
     "name": "stdout",
     "output_type": "stream",
     "text": [
      "Collecting opencv-python\n",
      "  Downloading opencv_python-4.11.0.86-cp37-abi3-win_amd64.whl.metadata (20 kB)\n",
      "Requirement already satisfied: numpy>=1.21.2 in c:\\users\\usuario\\anaconda31\\lib\\site-packages (from opencv-python) (1.26.4)\n",
      "Downloading opencv_python-4.11.0.86-cp37-abi3-win_amd64.whl (39.5 MB)\n",
      "   ---------------------------------------- 0.0/39.5 MB ? eta -:--:--\n",
      "   -- ------------------------------------- 2.4/39.5 MB 12.2 MB/s eta 0:00:04\n",
      "   ----- ---------------------------------- 5.5/39.5 MB 14.6 MB/s eta 0:00:03\n",
      "   -------- ------------------------------- 8.4/39.5 MB 14.4 MB/s eta 0:00:03\n",
      "   ----------- ---------------------------- 11.8/39.5 MB 14.8 MB/s eta 0:00:02\n",
      "   --------------- ------------------------ 15.2/39.5 MB 14.9 MB/s eta 0:00:02\n",
      "   ------------------ --------------------- 18.4/39.5 MB 15.0 MB/s eta 0:00:02\n",
      "   ---------------------- ----------------- 21.8/39.5 MB 15.1 MB/s eta 0:00:02\n",
      "   ------------------------- -------------- 25.2/39.5 MB 15.2 MB/s eta 0:00:01\n",
      "   ---------------------------- ----------- 28.3/39.5 MB 15.3 MB/s eta 0:00:01\n",
      "   -------------------------------- ------- 32.0/39.5 MB 15.5 MB/s eta 0:00:01\n",
      "   ----------------------------------- ---- 35.4/39.5 MB 15.5 MB/s eta 0:00:01\n",
      "   ---------------------------------------  38.5/39.5 MB 15.5 MB/s eta 0:00:01\n",
      "   ---------------------------------------- 39.5/39.5 MB 15.1 MB/s eta 0:00:00\n",
      "Installing collected packages: opencv-python\n",
      "Successfully installed opencv-python-4.11.0.86\n"
     ]
    }
   ],
   "source": [
    "!pip install opencv-python"
   ]
  },
  {
   "cell_type": "code",
   "execution_count": null,
   "id": "9229a8d3",
   "metadata": {},
   "outputs": [],
   "source": [
    "import numpy as np\n",
    "#Set the `numpy` pseudo-random generator at a fixed value\n",
    "#This helps with repeatable results everytime you run the code.\n",
    "np.random.seed(1000)\n",
    "import matplotlib.pyplot as plt\n",
    "import os\n",
    "import cv2\n",
    "from PIL import Image\n",
    "import keras\n",
    "from tensorflow.keras.models import Sequential\n",
    "from tensorflow.keras.layers import Dense, Flatten\n",
    "from sklearn.metrics import confusion_matrix, classification_report\n",
    "import seaborn as sns"
   ]
  },
  {
   "cell_type": "markdown",
   "id": "81c01d98",
   "metadata": {},
   "source": [
    " ## 🎇 🎆  🌋🧭🚀- 5.1[Cargando las imagnes](#SETTING)"
   ]
  },
  {
   "cell_type": "markdown",
   "id": "9264128c",
   "metadata": {},
   "source": [
    "[Datos de delulas infectadas de malaria ](https://drive.google.com/file/d/1HbCQQv4AlkCkl0hlg94C7oJmNxEFtxNA/view?usp=sharing)\n",
    "\n",
    "[Datos de delulas no infectadas de malaria ](https://drive.google.com/file/d/1GoUSmP4oCVJJGrDkZd9JoMUpMCUtuDXw/view?usp=sharing)"
   ]
  },
  {
   "cell_type": "code",
   "execution_count": null,
   "id": "9466a676",
   "metadata": {},
   "outputs": [],
   "source": [
    "#image_directory = '/content/drive/MyDrive/REDES_NEURONALES/Datasets/Unit_6_Deep_Generative_Models/Convolutional_AutoEncoder/cell_images2/'\n",
    "image_directory = 'C:/Users/usuario/Desktop/Intelignecia Artificial y Machine Learning/Maestria en Inteligencia Artificial/Asignatura 4/Clasificacion de Malaria CNN/Reduced_data-20241129T182028Z-001/Reduced_data'\n",
    "SIZE = 64\n",
    "dataset = []  #Many ways to handle data, you can use pandas. Here, we are using a list format.\n",
    "label = []  #Place holders to define add labels. We will add 0 to all parasitized images and 1 to uninfected."
   ]
  },
  {
   "cell_type": "code",
   "execution_count": null,
   "id": "7b2ba937",
   "metadata": {},
   "outputs": [],
   "source": [
    "#parasitized_images = os.listdir(image_directory + 'parasitized/images/')\n",
    "parasitized_images = os.listdir(image_directory + '/Parasitized/')\n",
    "for i, image_name in enumerate(parasitized_images):    #Remember enumerate method adds a counter and returns the enumerate object\n",
    "\n",
    "    if (image_name.split('.')[1] == 'png'):\n",
    "        #image = cv2.imread(image_directory + 'parasitized/images/' + image_name)\n",
    "        image = cv2.imread(image_directory + '/Parasitized/' + image_name)\n",
    "        image = Image.fromarray(image, 'RGB')\n",
    "        image = image.resize((SIZE, SIZE))\n",
    "        dataset.append(np.array(image))\n",
    "        label.append(0)"
   ]
  },
  {
   "cell_type": "code",
   "execution_count": null,
   "id": "16a6674b",
   "metadata": {},
   "outputs": [
    {
     "data": {
      "image/png": "[encoded data removed]",
      "text/plain": [
       "<Figure size 640x480 with 1 Axes>"
      ]
     },
     "metadata": {},
     "output_type": "display_data"
    }
   ],
   "source": [
    "\n",
    "# Visualiza la imagen guardada en 'image'\n",
    "plt.imshow(image)\n",
    "plt.axis()  # 'off' Oculta los ejes para una mejor visualización\n",
    "plt.show()"
   ]
  },
  {
   "cell_type": "code",
   "execution_count": null,
   "id": "8299627a",
   "metadata": {},
   "outputs": [],
   "source": [
    "#Iterate through all images in Uninfected folder, resize to 64 x 64\n",
    "#Then save into the same numpy array 'dataset' but with label 1\n",
    "\n",
    "#uninfected_images = os.listdir(image_directory + 'uninfected_train/images/')\n",
    "uninfected_images = os.listdir(image_directory + '/Uninfected/')\n",
    "for i, image_name in enumerate(uninfected_images):\n",
    "    if (image_name.split('.')[1] == 'png'):\n",
    "        #image = cv2.imread(image_directory + 'uninfected_train/images/' + image_name)\n",
    "        image = cv2.imread(image_directory + '/Uninfected/' + image_name)\n",
    "        image = Image.fromarray(image, 'RGB')\n",
    "        image = image.resize((SIZE, SIZE))\n",
    "        dataset.append(np.array(image))\n",
    "        label.append(1)"
   ]
  },
  {
   "cell_type": "code",
   "execution_count": null,
   "id": "6193c9ea",
   "metadata": {},
   "outputs": [
    {
     "data": {
      "image/png": "[encoded data removed]",
      "text/plain": [
       "<Figure size 640x480 with 1 Axes>"
      ]
     },
     "metadata": {},
     "output_type": "display_data"
    }
   ],
   "source": [
    "\n",
    "# Visualiza la imagen guardada en 'image'\n",
    "plt.imshow(image)\n",
    "plt.axis()  # 'off' Oculta los ejes para una mejor visualización\n",
    "plt.show()"
   ]
  },
  {
   "cell_type": "markdown",
   "id": "441ca073",
   "metadata": {},
   "source": [
    " ## 🎇 🎆  🌋🧭🚀- 5.2 [Definiendo los data set, Entrenamiento, Validación, Prueba](#instal)"
   ]
  },
  {
   "cell_type": "code",
   "execution_count": null,
   "id": "e9f9f09d",
   "metadata": {},
   "outputs": [],
   "source": [
    "# Split the dataset\n",
    "\n",
    "# I split the dataset into training and testing dataset.\n",
    "# 1. Training data: 80%\n",
    "# 2. Testing data: 20%\n",
    "from sklearn.model_selection import train_test_split\n",
    "from keras.utils import to_categorical\n",
    "\n",
    "dataset = np.array(dataset)\n",
    "label = np.array(label)\n",
    "\n",
    "X_train, X_test, y_train, y_test = train_test_split(dataset, to_categorical(np.array(label)), test_size = 0.20, random_state = 0)\n"
   ]
  },
  {
   "cell_type": "markdown",
   "id": "206256d1",
   "metadata": {},
   "source": [
    "## 🎇 🎆  🌋🧭🚀- 5.3 [Entrenamiento de una red neuroanl Feed Foward para clasificación y evalución del modelo](#instal)"
   ]
  },
  {
   "cell_type": "code",
   "execution_count": null,
   "id": "bd0170b9",
   "metadata": {},
   "outputs": [
    {
     "name": "stdout",
     "output_type": "stream",
     "text": [
      "Epoch 1/30\n"
     ]
    },
    {
     "name": "stderr",
     "output_type": "stream",
     "text": [
      "c:\\Users\\usuario\\anaconda31\\Lib\\site-packages\\keras\\src\\layers\\reshaping\\flatten.py:37: UserWarning: Do not pass an `input_shape`/`input_dim` argument to a layer. When using Sequential models, prefer using an `Input(shape)` object as the first layer in the model instead.\n",
      "  super().__init__(**kwargs)\n"
     ]
    },
    {
     "name": "stdout",
     "output_type": "stream",
     "text": [
      "\u001b[1m22/22\u001b[0m \u001b[32m━━━━━━━━━━━━━━━━━━━━\u001b[0m\u001b[37m\u001b[0m \u001b[1m2s\u001b[0m 22ms/step - AUC: 0.4966 - Precision: 0.4937 - Recall: 0.4937 - accuracy: 0.4937 - loss: 143.9634 - val_AUC: 0.6219 - val_Precision: 0.6140 - val_Recall: 0.6140 - val_accuracy: 0.6140 - val_loss: 12.0341\n",
      "Epoch 2/30\n",
      "\u001b[1m22/22\u001b[0m \u001b[32m━━━━━━━━━━━━━━━━━━━━\u001b[0m\u001b[37m\u001b[0m \u001b[1m0s\u001b[0m 6ms/step - AUC: 0.5733 - Precision: 0.5779 - Recall: 0.5779 - accuracy: 0.5779 - loss: 20.1527 - val_AUC: 0.4556 - val_Precision: 0.4503 - val_Recall: 0.4503 - val_accuracy: 0.4503 - val_loss: 43.1343\n",
      "Epoch 3/30\n",
      "\u001b[1m22/22\u001b[0m \u001b[32m━━━━━━━━━━━━━━━━━━━━\u001b[0m\u001b[37m\u001b[0m \u001b[1m0s\u001b[0m 6ms/step - AUC: 0.5832 - Precision: 0.5679 - Recall: 0.5679 - accuracy: 0.5679 - loss: 20.8526 - val_AUC: 0.6942 - val_Precision: 0.6784 - val_Recall: 0.6784 - val_accuracy: 0.6784 - val_loss: 11.1327\n",
      "Epoch 4/30\n",
      "\u001b[1m22/22\u001b[0m \u001b[32m━━━━━━━━━━━━━━━━━━━━\u001b[0m\u001b[37m\u001b[0m \u001b[1m0s\u001b[0m 6ms/step - AUC: 0.6008 - Precision: 0.5949 - Recall: 0.5949 - accuracy: 0.5949 - loss: 28.2905 - val_AUC: 0.6951 - val_Precision: 0.6901 - val_Recall: 0.6901 - val_accuracy: 0.6901 - val_loss: 16.0548\n",
      "Epoch 5/30\n",
      "\u001b[1m22/22\u001b[0m \u001b[32m━━━━━━━━━━━━━━━━━━━━\u001b[0m\u001b[37m\u001b[0m \u001b[1m0s\u001b[0m 7ms/step - AUC: 0.6264 - Precision: 0.6255 - Recall: 0.6255 - accuracy: 0.6255 - loss: 32.3916 - val_AUC: 0.6120 - val_Precision: 0.6140 - val_Recall: 0.6140 - val_accuracy: 0.6140 - val_loss: 49.9221\n",
      "Epoch 6/30\n",
      "\u001b[1m22/22\u001b[0m \u001b[32m━━━━━━━━━━━━━━━━━━━━\u001b[0m\u001b[37m\u001b[0m \u001b[1m0s\u001b[0m 7ms/step - AUC: 0.6582 - Precision: 0.6515 - Recall: 0.6515 - accuracy: 0.6515 - loss: 22.1259 - val_AUC: 0.6882 - val_Precision: 0.6725 - val_Recall: 0.6725 - val_accuracy: 0.6725 - val_loss: 18.2180\n",
      "Epoch 7/30\n",
      "\u001b[1m22/22\u001b[0m \u001b[32m━━━━━━━━━━━━━━━━━━━━\u001b[0m\u001b[37m\u001b[0m \u001b[1m0s\u001b[0m 6ms/step - AUC: 0.6452 - Precision: 0.6374 - Recall: 0.6374 - accuracy: 0.6374 - loss: 23.2312 - val_AUC: 0.6905 - val_Precision: 0.6725 - val_Recall: 0.6725 - val_accuracy: 0.6725 - val_loss: 15.3127\n",
      "Epoch 8/30\n",
      "\u001b[1m22/22\u001b[0m \u001b[32m━━━━━━━━━━━━━━━━━━━━\u001b[0m\u001b[37m\u001b[0m \u001b[1m0s\u001b[0m 6ms/step - AUC: 0.7573 - Precision: 0.7433 - Recall: 0.7433 - accuracy: 0.7433 - loss: 12.2674 - val_AUC: 0.6884 - val_Precision: 0.6725 - val_Recall: 0.6725 - val_accuracy: 0.6725 - val_loss: 12.8884\n",
      "Epoch 9/30\n",
      "\u001b[1m22/22\u001b[0m \u001b[32m━━━━━━━━━━━━━━━━━━━━\u001b[0m\u001b[37m\u001b[0m \u001b[1m0s\u001b[0m 7ms/step - AUC: 0.8071 - Precision: 0.7903 - Recall: 0.7903 - accuracy: 0.7903 - loss: 5.9589 - val_AUC: 0.6746 - val_Precision: 0.6491 - val_Recall: 0.6491 - val_accuracy: 0.6491 - val_loss: 14.6886\n",
      "Epoch 10/30\n",
      "\u001b[1m22/22\u001b[0m \u001b[32m━━━━━━━━━━━━━━━━━━━━\u001b[0m\u001b[37m\u001b[0m \u001b[1m0s\u001b[0m 9ms/step - AUC: 0.7213 - Precision: 0.7084 - Recall: 0.7084 - accuracy: 0.7084 - loss: 10.6037 - val_AUC: 0.6845 - val_Precision: 0.6725 - val_Recall: 0.6725 - val_accuracy: 0.6725 - val_loss: 10.3339\n",
      "Epoch 11/30\n",
      "\u001b[1m22/22\u001b[0m \u001b[32m━━━━━━━━━━━━━━━━━━━━\u001b[0m\u001b[37m\u001b[0m \u001b[1m0s\u001b[0m 7ms/step - AUC: 0.7966 - Precision: 0.7838 - Recall: 0.7838 - accuracy: 0.7838 - loss: 6.5074 - val_AUC: 0.5058 - val_Precision: 0.5029 - val_Recall: 0.5029 - val_accuracy: 0.5029 - val_loss: 28.4190\n",
      "Epoch 12/30\n",
      "\u001b[1m22/22\u001b[0m \u001b[32m━━━━━━━━━━━━━━━━━━━━\u001b[0m\u001b[37m\u001b[0m \u001b[1m0s\u001b[0m 7ms/step - AUC: 0.6690 - Precision: 0.6494 - Recall: 0.6494 - accuracy: 0.6494 - loss: 11.8551 - val_AUC: 0.6929 - val_Precision: 0.6784 - val_Recall: 0.6784 - val_accuracy: 0.6784 - val_loss: 11.9926\n",
      "Epoch 13/30\n",
      "\u001b[1m22/22\u001b[0m \u001b[32m━━━━━━━━━━━━━━━━━━━━\u001b[0m\u001b[37m\u001b[0m \u001b[1m0s\u001b[0m 7ms/step - AUC: 0.7852 - Precision: 0.7726 - Recall: 0.7726 - accuracy: 0.7726 - loss: 6.6203 - val_AUC: 0.6275 - val_Precision: 0.6199 - val_Recall: 0.6199 - val_accuracy: 0.6199 - val_loss: 19.3905\n",
      "Epoch 14/30\n",
      "\u001b[1m22/22\u001b[0m \u001b[32m━━━━━━━━━━━━━━━━━━━━\u001b[0m\u001b[37m\u001b[0m \u001b[1m0s\u001b[0m 7ms/step - AUC: 0.7832 - Precision: 0.7656 - Recall: 0.7656 - accuracy: 0.7656 - loss: 6.9212 - val_AUC: 0.6487 - val_Precision: 0.6257 - val_Recall: 0.6257 - val_accuracy: 0.6257 - val_loss: 12.0605\n",
      "Epoch 15/30\n",
      "\u001b[1m22/22\u001b[0m \u001b[32m━━━━━━━━━━━━━━━━━━━━\u001b[0m\u001b[37m\u001b[0m \u001b[1m0s\u001b[0m 7ms/step - AUC: 0.8010 - Precision: 0.7813 - Recall: 0.7813 - accuracy: 0.7813 - loss: 6.5316 - val_AUC: 0.4530 - val_Precision: 0.4561 - val_Recall: 0.4561 - val_accuracy: 0.4561 - val_loss: 54.4216\n",
      "Epoch 16/30\n",
      "\u001b[1m22/22\u001b[0m \u001b[32m━━━━━━━━━━━━━━━━━━━━\u001b[0m\u001b[37m\u001b[0m \u001b[1m0s\u001b[0m 7ms/step - AUC: 0.6419 - Precision: 0.6366 - Recall: 0.6366 - accuracy: 0.6366 - loss: 28.3086 - val_AUC: 0.5888 - val_Precision: 0.5848 - val_Recall: 0.5848 - val_accuracy: 0.5848 - val_loss: 28.3176\n",
      "Epoch 17/30\n",
      "\u001b[1m22/22\u001b[0m \u001b[32m━━━━━━━━━━━━━━━━━━━━\u001b[0m\u001b[37m\u001b[0m \u001b[1m0s\u001b[0m 6ms/step - AUC: 0.7432 - Precision: 0.7287 - Recall: 0.7287 - accuracy: 0.7287 - loss: 12.0540 - val_AUC: 0.6608 - val_Precision: 0.6608 - val_Recall: 0.6608 - val_accuracy: 0.6608 - val_loss: 12.7343\n",
      "Epoch 18/30\n",
      "\u001b[1m22/22\u001b[0m \u001b[32m━━━━━━━━━━━━━━━━━━━━\u001b[0m\u001b[37m\u001b[0m \u001b[1m0s\u001b[0m 6ms/step - AUC: 0.8684 - Precision: 0.8539 - Recall: 0.8539 - accuracy: 0.8539 - loss: 2.7560 - val_AUC: 0.6788 - val_Precision: 0.6667 - val_Recall: 0.6667 - val_accuracy: 0.6667 - val_loss: 12.5879\n",
      "Epoch 19/30\n",
      "\u001b[1m22/22\u001b[0m \u001b[32m━━━━━━━━━━━━━━━━━━━━\u001b[0m\u001b[37m\u001b[0m \u001b[1m0s\u001b[0m 6ms/step - AUC: 0.8386 - Precision: 0.8163 - Recall: 0.8163 - accuracy: 0.8163 - loss: 4.0740 - val_AUC: 0.6701 - val_Precision: 0.6608 - val_Recall: 0.6608 - val_accuracy: 0.6608 - val_loss: 10.0609\n",
      "Epoch 20/30\n",
      "\u001b[1m22/22\u001b[0m \u001b[32m━━━━━━━━━━━━━━━━━━━━\u001b[0m\u001b[37m\u001b[0m \u001b[1m0s\u001b[0m 6ms/step - AUC: 0.8700 - Precision: 0.8510 - Recall: 0.8510 - accuracy: 0.8510 - loss: 2.8355 - val_AUC: 0.6056 - val_Precision: 0.5965 - val_Recall: 0.5965 - val_accuracy: 0.5965 - val_loss: 19.2900\n",
      "Epoch 21/30\n",
      "\u001b[1m22/22\u001b[0m \u001b[32m━━━━━━━━━━━━━━━━━━━━\u001b[0m\u001b[37m\u001b[0m \u001b[1m0s\u001b[0m 7ms/step - AUC: 0.7495 - Precision: 0.7281 - Recall: 0.7281 - accuracy: 0.7281 - loss: 7.8807 - val_AUC: 0.5798 - val_Precision: 0.5789 - val_Recall: 0.5789 - val_accuracy: 0.5789 - val_loss: 34.0469\n",
      "Epoch 22/30\n",
      "\u001b[1m22/22\u001b[0m \u001b[32m━━━━━━━━━━━━━━━━━━━━\u001b[0m\u001b[37m\u001b[0m \u001b[1m0s\u001b[0m 10ms/step - AUC: 0.7127 - Precision: 0.6970 - Recall: 0.6970 - accuracy: 0.6970 - loss: 11.5208 - val_AUC: 0.6704 - val_Precision: 0.6667 - val_Recall: 0.6667 - val_accuracy: 0.6667 - val_loss: 13.6216\n",
      "Epoch 23/30\n",
      "\u001b[1m22/22\u001b[0m \u001b[32m━━━━━━━━━━━━━━━━━━━━\u001b[0m\u001b[37m\u001b[0m \u001b[1m0s\u001b[0m 8ms/step - AUC: 0.8320 - Precision: 0.8199 - Recall: 0.8199 - accuracy: 0.8199 - loss: 5.1739 - val_AUC: 0.6580 - val_Precision: 0.6433 - val_Recall: 0.6433 - val_accuracy: 0.6433 - val_loss: 14.3512\n",
      "Epoch 24/30\n",
      "\u001b[1m22/22\u001b[0m \u001b[32m━━━━━━━━━━━━━━━━━━━━\u001b[0m\u001b[37m\u001b[0m \u001b[1m0s\u001b[0m 6ms/step - AUC: 0.7523 - Precision: 0.7484 - Recall: 0.7484 - accuracy: 0.7484 - loss: 8.3139 - val_AUC: 0.6790 - val_Precision: 0.6784 - val_Recall: 0.6784 - val_accuracy: 0.6784 - val_loss: 13.3864\n",
      "Epoch 25/30\n",
      "\u001b[1m22/22\u001b[0m \u001b[32m━━━━━━━━━━━━━━━━━━━━\u001b[0m\u001b[37m\u001b[0m \u001b[1m0s\u001b[0m 7ms/step - AUC: 0.7853 - Precision: 0.7701 - Recall: 0.7701 - accuracy: 0.7701 - loss: 11.8499 - val_AUC: 0.6789 - val_Precision: 0.6667 - val_Recall: 0.6667 - val_accuracy: 0.6667 - val_loss: 13.8810\n",
      "Epoch 26/30\n",
      "\u001b[1m22/22\u001b[0m \u001b[32m━━━━━━━━━━━━━━━━━━━━\u001b[0m\u001b[37m\u001b[0m \u001b[1m0s\u001b[0m 6ms/step - AUC: 0.8822 - Precision: 0.8656 - Recall: 0.8656 - accuracy: 0.8656 - loss: 2.8921 - val_AUC: 0.5647 - val_Precision: 0.5614 - val_Recall: 0.5614 - val_accuracy: 0.5614 - val_loss: 30.0459\n",
      "Epoch 27/30\n",
      "\u001b[1m22/22\u001b[0m \u001b[32m━━━━━━━━━━━━━━━━━━━━\u001b[0m\u001b[37m\u001b[0m \u001b[1m0s\u001b[0m 6ms/step - AUC: 0.7443 - Precision: 0.7317 - Recall: 0.7317 - accuracy: 0.7317 - loss: 9.3648 - val_AUC: 0.6587 - val_Precision: 0.6608 - val_Recall: 0.6608 - val_accuracy: 0.6608 - val_loss: 17.5926\n",
      "Epoch 28/30\n",
      "\u001b[1m22/22\u001b[0m \u001b[32m━━━━━━━━━━━━━━━━━━━━\u001b[0m\u001b[37m\u001b[0m \u001b[1m0s\u001b[0m 6ms/step - AUC: 0.8102 - Precision: 0.7986 - Recall: 0.7986 - accuracy: 0.7986 - loss: 4.3068 - val_AUC: 0.6297 - val_Precision: 0.6140 - val_Recall: 0.6140 - val_accuracy: 0.6140 - val_loss: 19.3147\n",
      "Epoch 29/30\n",
      "\u001b[1m22/22\u001b[0m \u001b[32m━━━━━━━━━━━━━━━━━━━━\u001b[0m\u001b[37m\u001b[0m \u001b[1m0s\u001b[0m 6ms/step - AUC: 0.7655 - Precision: 0.7448 - Recall: 0.7448 - accuracy: 0.7448 - loss: 6.5014 - val_AUC: 0.5848 - val_Precision: 0.5848 - val_Recall: 0.5848 - val_accuracy: 0.5848 - val_loss: 40.2624\n",
      "Epoch 30/30\n",
      "\u001b[1m22/22\u001b[0m \u001b[32m━━━━━━━━━━━━━━━━━━━━\u001b[0m\u001b[37m\u001b[0m \u001b[1m0s\u001b[0m 6ms/step - AUC: 0.6010 - Precision: 0.6010 - Recall: 0.6010 - accuracy: 0.6010 - loss: 30.1361 - val_AUC: 0.4647 - val_Precision: 0.4620 - val_Recall: 0.4620 - val_accuracy: 0.4620 - val_loss: 73.8651\n"
     ]
    }
   ],
   "source": [
    "# Define the corrected model\n",
    "model_feedFoward = Sequential([\n",
    "    Flatten(input_shape=(64, 64, 3)),  # Flatten the input to 1D\n",
    "    Dense(64, activation='relu'),     # Hidden layer\n",
    "    Dense(32, activation='relu'),     # Hidden layer\n",
    "    Dense(y_train.shape[1], activation='softmax')  # Output layer # softmax\n",
    "])\n",
    "\n",
    "# Compile the model\n",
    "model_feedFoward.compile(\n",
    "    optimizer='adam',\n",
    "    loss='categorical_crossentropy', # 'categorical_crossentropy'\n",
    "      metrics=[\n",
    "        'accuracy',  # Precisión\n",
    "        'Precision',  # Métrica de precisión\n",
    "        'Recall',  # Métrica de recall\n",
    "        'AUC'  # Área bajo la curva ROC\n",
    "    ]\n",
    ")\n",
    "\n",
    "# Train the model\n",
    "history = model_feedFoward.fit(\n",
    "    X_train, y_train,\n",
    "    epochs=30,\n",
    "    batch_size=32,\n",
    "    validation_split=0.2\n",
    ")\n"
   ]
  },
  {
   "cell_type": "code",
   "execution_count": null,
   "id": "1209be55",
   "metadata": {},
   "outputs": [
    {
     "name": "stdout",
     "output_type": "stream",
     "text": [
      "Test Loss: 85.0684\n",
      "Test Accuracy: 0.4533\n",
      "Test Precision: 0.4533\n",
      "Test Recall: 0.4533\n",
      "Test AUC: 0.4528\n"
     ]
    }
   ],
   "source": [
    "# Evaluar el modelo en el conjunto de prueba\n",
    "test_loss, test_accuracy, test_precision, test_recall, test_auc = model_feedFoward.evaluate(X_test, y_test, verbose=0)\n",
    "\n",
    "# Mostrar las métricas finales\n",
    "print(f\"Test Loss: {test_loss:.4f}\")\n",
    "print(f\"Test Accuracy: {test_accuracy:.4f}\")\n",
    "print(f\"Test Precision: {test_precision:.4f}\")\n",
    "print(f\"Test Recall: {test_recall:.4f}\")\n",
    "print(f\"Test AUC: {test_auc:.4f}\")"
   ]
  },
  {
   "cell_type": "code",
   "execution_count": null,
   "id": "15631385",
   "metadata": {},
   "outputs": [
    {
     "name": "stdout",
     "output_type": "stream",
     "text": [
      "\u001b[1m7/7\u001b[0m \u001b[32m━━━━━━━━━━━━━━━━━━━━\u001b[0m\u001b[37m\u001b[0m \u001b[1m0s\u001b[0m 4ms/step \n",
      "Predicted labels: [0 0 0 0 0 0 0 0 0 0]\n",
      "Actual labels: [1 0 1 1 1 0 0 1 0 1]\n"
     ]
    }
   ],
   "source": [
    "# Predict probabilities for test set\n",
    "y_pred_probs = model_feedFoward.predict(X_test)\n",
    "\n",
    "# Convert probabilities to class labels\n",
    "y_pred = np.argmax(y_pred_probs, axis=1)\n",
    "\n",
    "# Convert one-hot encoded test labels to class labels\n",
    "y_true = np.argmax(y_test, axis=1)\n",
    "\n",
    "# Print a sample of predictions vs actual labels\n",
    "print(\"Predicted labels:\", y_pred[:10])\n",
    "print(\"Actual labels:\", y_true[:10])"
   ]
  },
  {
   "cell_type": "markdown",
   "id": "0f56bd34",
   "metadata": {},
   "source": [
    "## - [Matriz de Confucion](#instal)"
   ]
  },
  {
   "cell_type": "code",
   "execution_count": null,
   "id": "a1031ac4",
   "metadata": {},
   "outputs": [
    {
     "data": {
      "image/png": "[encoded data removed]",
      "text/plain": [
       "<Figure size 800x600 with 2 Axes>"
      ]
     },
     "metadata": {},
     "output_type": "display_data"
    },
    {
     "name": "stdout",
     "output_type": "stream",
     "text": [
      "              precision    recall  f1-score   support\n",
      "\n",
      " Parasitized       0.44      1.00      0.61        91\n",
      "  Uninfected       1.00      0.05      0.09       123\n",
      "\n",
      "    accuracy                           0.45       214\n",
      "   macro avg       0.72      0.52      0.35       214\n",
      "weighted avg       0.76      0.45      0.31       214\n",
      "\n"
     ]
    }
   ],
   "source": [
    "# Compute the confusion matrix\n",
    "conf_matrix = confusion_matrix(y_true, y_pred)\n",
    "\n",
    "class_names = [\"Parasitized\", \"Uninfected\"]\n",
    "# Visualize the confusion matrix\n",
    "plt.figure(figsize=(8, 6))\n",
    "sns.heatmap(conf_matrix, annot=True, fmt='d', cmap='Blues', xticklabels=class_names, yticklabels=class_names)\n",
    "plt.xlabel('Predicted Labels')\n",
    "plt.ylabel('True Labels')\n",
    "plt.title('Confusion Matrix')\n",
    "plt.show()\n",
    "\n",
    "# Classification report for precision, recall, f1-score\n",
    "print(classification_report(y_true, y_pred, target_names=class_names))"
   ]
  },
  {
   "cell_type": "markdown",
   "id": "fc607c4d",
   "metadata": {},
   "source": [
    "##  🎇 🎆  🌋🧭🚀- 5.4 [Entrenamiento de una red neuroanl Convolucional para clasificación y evalución del modelo ](#instal)"
   ]
  },
  {
   "cell_type": "code",
   "execution_count": null,
   "id": "067150ec",
   "metadata": {},
   "outputs": [],
   "source": [
    "from tensorflow.keras.models import Sequential\n",
    "from tensorflow.keras.layers import Conv2D, MaxPooling2D, Flatten, Dense, Dropout\n",
    "from tensorflow.keras.optimizers import Adam\n",
    "from tensorflow.keras.metrics import AUC\n",
    "from sklearn.metrics import classification_report"
   ]
  },
  {
   "cell_type": "code",
   "execution_count": null,
   "id": "ad3f4e1d",
   "metadata": {},
   "outputs": [
    {
     "name": "stdout",
     "output_type": "stream",
     "text": [
      "Epoch 1/30\n"
     ]
    },
    {
     "name": "stderr",
     "output_type": "stream",
     "text": [
      "c:\\Users\\usuario\\anaconda31\\Lib\\site-packages\\keras\\src\\layers\\convolutional\\base_conv.py:113: UserWarning: Do not pass an `input_shape`/`input_dim` argument to a layer. When using Sequential models, prefer using an `Input(shape)` object as the first layer in the model instead.\n",
      "  super().__init__(activity_regularizer=activity_regularizer, **kwargs)\n"
     ]
    },
    {
     "name": "stdout",
     "output_type": "stream",
     "text": [
      "\u001b[1m22/22\u001b[0m \u001b[32m━━━━━━━━━━━━━━━━━━━━\u001b[0m\u001b[37m\u001b[0m \u001b[1m3s\u001b[0m 32ms/step - accuracy: 0.4037 - auc_1: 0.3989 - loss: 103.8647 - precision_1: 0.4037 - recall_1: 0.4037 - val_accuracy: 0.6140 - val_auc_1: 0.6060 - val_loss: 0.6850 - val_precision_1: 0.6140 - val_recall_1: 0.6140\n",
      "Epoch 2/30\n",
      "\u001b[1m22/22\u001b[0m \u001b[32m━━━━━━━━━━━━━━━━━━━━\u001b[0m\u001b[37m\u001b[0m \u001b[1m0s\u001b[0m 19ms/step - accuracy: 0.5729 - auc_1: 0.5898 - loss: 0.7021 - precision_1: 0.5729 - recall_1: 0.5729 - val_accuracy: 0.5556 - val_auc_1: 0.6068 - val_loss: 0.6772 - val_precision_1: 0.5556 - val_recall_1: 0.5556\n",
      "Epoch 3/30\n",
      "\u001b[1m22/22\u001b[0m \u001b[32m━━━━━━━━━━━━━━━━━━━━\u001b[0m\u001b[37m\u001b[0m \u001b[1m0s\u001b[0m 17ms/step - accuracy: 0.6393 - auc_1: 0.6981 - loss: 0.6378 - precision_1: 0.6393 - recall_1: 0.6393 - val_accuracy: 0.5731 - val_auc_1: 0.5890 - val_loss: 0.6838 - val_precision_1: 0.5731 - val_recall_1: 0.5731\n",
      "Epoch 4/30\n",
      "\u001b[1m22/22\u001b[0m \u001b[32m━━━━━━━━━━━━━━━━━━━━\u001b[0m\u001b[37m\u001b[0m \u001b[1m0s\u001b[0m 18ms/step - accuracy: 0.6491 - auc_1: 0.7189 - loss: 0.6208 - precision_1: 0.6491 - recall_1: 0.6491 - val_accuracy: 0.6082 - val_auc_1: 0.6586 - val_loss: 0.6554 - val_precision_1: 0.6082 - val_recall_1: 0.6082\n",
      "Epoch 5/30\n",
      "\u001b[1m22/22\u001b[0m \u001b[32m━━━━━━━━━━━━━━━━━━━━\u001b[0m\u001b[37m\u001b[0m \u001b[1m0s\u001b[0m 16ms/step - accuracy: 0.6942 - auc_1: 0.7539 - loss: 0.5896 - precision_1: 0.6942 - recall_1: 0.6942 - val_accuracy: 0.6374 - val_auc_1: 0.6456 - val_loss: 0.6598 - val_precision_1: 0.6374 - val_recall_1: 0.6374\n",
      "Epoch 6/30\n",
      "\u001b[1m22/22\u001b[0m \u001b[32m━━━━━━━━━━━━━━━━━━━━\u001b[0m\u001b[37m\u001b[0m \u001b[1m0s\u001b[0m 16ms/step - accuracy: 0.7516 - auc_1: 0.8300 - loss: 0.5222 - precision_1: 0.7516 - recall_1: 0.7516 - val_accuracy: 0.6784 - val_auc_1: 0.6902 - val_loss: 0.6404 - val_precision_1: 0.6784 - val_recall_1: 0.6784\n",
      "Epoch 7/30\n",
      "\u001b[1m22/22\u001b[0m \u001b[32m━━━━━━━━━━━━━━━━━━━━\u001b[0m\u001b[37m\u001b[0m \u001b[1m0s\u001b[0m 17ms/step - accuracy: 0.7436 - auc_1: 0.8451 - loss: 0.4870 - precision_1: 0.7436 - recall_1: 0.7436 - val_accuracy: 0.6082 - val_auc_1: 0.6647 - val_loss: 0.6656 - val_precision_1: 0.6082 - val_recall_1: 0.6082\n",
      "Epoch 8/30\n",
      "\u001b[1m22/22\u001b[0m \u001b[32m━━━━━━━━━━━━━━━━━━━━\u001b[0m\u001b[37m\u001b[0m \u001b[1m0s\u001b[0m 17ms/step - accuracy: 0.7850 - auc_1: 0.8643 - loss: 0.4717 - precision_1: 0.7850 - recall_1: 0.7850 - val_accuracy: 0.6316 - val_auc_1: 0.6773 - val_loss: 0.6579 - val_precision_1: 0.6316 - val_recall_1: 0.6316\n",
      "Epoch 9/30\n",
      "\u001b[1m22/22\u001b[0m \u001b[32m━━━━━━━━━━━━━━━━━━━━\u001b[0m\u001b[37m\u001b[0m \u001b[1m0s\u001b[0m 17ms/step - accuracy: 0.7989 - auc_1: 0.8950 - loss: 0.4268 - precision_1: 0.7989 - recall_1: 0.7989 - val_accuracy: 0.6257 - val_auc_1: 0.6952 - val_loss: 0.6406 - val_precision_1: 0.6257 - val_recall_1: 0.6257\n",
      "Epoch 10/30\n",
      "\u001b[1m22/22\u001b[0m \u001b[32m━━━━━━━━━━━━━━━━━━━━\u001b[0m\u001b[37m\u001b[0m \u001b[1m0s\u001b[0m 17ms/step - accuracy: 0.7959 - auc_1: 0.8979 - loss: 0.4207 - precision_1: 0.7959 - recall_1: 0.7959 - val_accuracy: 0.6316 - val_auc_1: 0.6620 - val_loss: 0.6880 - val_precision_1: 0.6316 - val_recall_1: 0.6316\n",
      "Epoch 11/30\n",
      "\u001b[1m22/22\u001b[0m \u001b[32m━━━━━━━━━━━━━━━━━━━━\u001b[0m\u001b[37m\u001b[0m \u001b[1m0s\u001b[0m 19ms/step - accuracy: 0.8137 - auc_1: 0.8998 - loss: 0.4092 - precision_1: 0.8137 - recall_1: 0.8137 - val_accuracy: 0.6550 - val_auc_1: 0.6672 - val_loss: 0.7161 - val_precision_1: 0.6550 - val_recall_1: 0.6550\n",
      "Epoch 12/30\n",
      "\u001b[1m22/22\u001b[0m \u001b[32m━━━━━━━━━━━━━━━━━━━━\u001b[0m\u001b[37m\u001b[0m \u001b[1m0s\u001b[0m 17ms/step - accuracy: 0.8194 - auc_1: 0.9095 - loss: 0.3866 - precision_1: 0.8194 - recall_1: 0.8194 - val_accuracy: 0.6550 - val_auc_1: 0.6747 - val_loss: 0.7031 - val_precision_1: 0.6550 - val_recall_1: 0.6550\n",
      "Epoch 13/30\n",
      "\u001b[1m22/22\u001b[0m \u001b[32m━━━━━━━━━━━━━━━━━━━━\u001b[0m\u001b[37m\u001b[0m \u001b[1m0s\u001b[0m 19ms/step - accuracy: 0.8558 - auc_1: 0.9361 - loss: 0.3298 - precision_1: 0.8558 - recall_1: 0.8558 - val_accuracy: 0.6725 - val_auc_1: 0.7115 - val_loss: 0.7295 - val_precision_1: 0.6725 - val_recall_1: 0.6725\n",
      "Epoch 14/30\n",
      "\u001b[1m22/22\u001b[0m \u001b[32m━━━━━━━━━━━━━━━━━━━━\u001b[0m\u001b[37m\u001b[0m \u001b[1m0s\u001b[0m 17ms/step - accuracy: 0.8672 - auc_1: 0.9494 - loss: 0.3000 - precision_1: 0.8672 - recall_1: 0.8672 - val_accuracy: 0.6433 - val_auc_1: 0.6774 - val_loss: 0.8390 - val_precision_1: 0.6433 - val_recall_1: 0.6433\n",
      "Epoch 15/30\n",
      "\u001b[1m22/22\u001b[0m \u001b[32m━━━━━━━━━━━━━━━━━━━━\u001b[0m\u001b[37m\u001b[0m \u001b[1m0s\u001b[0m 17ms/step - accuracy: 0.8768 - auc_1: 0.9538 - loss: 0.2805 - precision_1: 0.8768 - recall_1: 0.8768 - val_accuracy: 0.6608 - val_auc_1: 0.6750 - val_loss: 0.7982 - val_precision_1: 0.6608 - val_recall_1: 0.6608\n",
      "Epoch 16/30\n",
      "\u001b[1m22/22\u001b[0m \u001b[32m━━━━━━━━━━━━━━━━━━━━\u001b[0m\u001b[37m\u001b[0m \u001b[1m0s\u001b[0m 19ms/step - accuracy: 0.9051 - auc_1: 0.9640 - loss: 0.2552 - precision_1: 0.9051 - recall_1: 0.9051 - val_accuracy: 0.6257 - val_auc_1: 0.6597 - val_loss: 0.8464 - val_precision_1: 0.6257 - val_recall_1: 0.6257\n",
      "Epoch 17/30\n",
      "\u001b[1m22/22\u001b[0m \u001b[32m━━━━━━━━━━━━━━━━━━━━\u001b[0m\u001b[37m\u001b[0m \u001b[1m0s\u001b[0m 18ms/step - accuracy: 0.9059 - auc_1: 0.9727 - loss: 0.2443 - precision_1: 0.9059 - recall_1: 0.9059 - val_accuracy: 0.6199 - val_auc_1: 0.6949 - val_loss: 0.9182 - val_precision_1: 0.6199 - val_recall_1: 0.6199\n",
      "Epoch 18/30\n",
      "\u001b[1m22/22\u001b[0m \u001b[32m━━━━━━━━━━━━━━━━━━━━\u001b[0m\u001b[37m\u001b[0m \u001b[1m0s\u001b[0m 17ms/step - accuracy: 0.9137 - auc_1: 0.9726 - loss: 0.2171 - precision_1: 0.9137 - recall_1: 0.9137 - val_accuracy: 0.6433 - val_auc_1: 0.6938 - val_loss: 0.9506 - val_precision_1: 0.6433 - val_recall_1: 0.6433\n",
      "Epoch 19/30\n",
      "\u001b[1m22/22\u001b[0m \u001b[32m━━━━━━━━━━━━━━━━━━━━\u001b[0m\u001b[37m\u001b[0m \u001b[1m0s\u001b[0m 17ms/step - accuracy: 0.8941 - auc_1: 0.9752 - loss: 0.2079 - precision_1: 0.8941 - recall_1: 0.8941 - val_accuracy: 0.6316 - val_auc_1: 0.6643 - val_loss: 1.0921 - val_precision_1: 0.6316 - val_recall_1: 0.6316\n",
      "Epoch 20/30\n",
      "\u001b[1m22/22\u001b[0m \u001b[32m━━━━━━━━━━━━━━━━━━━━\u001b[0m\u001b[37m\u001b[0m \u001b[1m0s\u001b[0m 17ms/step - accuracy: 0.9278 - auc_1: 0.9831 - loss: 0.1768 - precision_1: 0.9278 - recall_1: 0.9278 - val_accuracy: 0.6374 - val_auc_1: 0.6813 - val_loss: 1.0540 - val_precision_1: 0.6374 - val_recall_1: 0.6374\n",
      "Epoch 21/30\n",
      "\u001b[1m22/22\u001b[0m \u001b[32m━━━━━━━━━━━━━━━━━━━━\u001b[0m\u001b[37m\u001b[0m \u001b[1m0s\u001b[0m 17ms/step - accuracy: 0.9242 - auc_1: 0.9819 - loss: 0.1770 - precision_1: 0.9242 - recall_1: 0.9242 - val_accuracy: 0.6433 - val_auc_1: 0.6794 - val_loss: 1.0648 - val_precision_1: 0.6433 - val_recall_1: 0.6433\n",
      "Epoch 22/30\n",
      "\u001b[1m22/22\u001b[0m \u001b[32m━━━━━━━━━━━━━━━━━━━━\u001b[0m\u001b[37m\u001b[0m \u001b[1m0s\u001b[0m 20ms/step - accuracy: 0.9236 - auc_1: 0.9847 - loss: 0.1677 - precision_1: 0.9236 - recall_1: 0.9236 - val_accuracy: 0.6550 - val_auc_1: 0.6883 - val_loss: 1.1172 - val_precision_1: 0.6550 - val_recall_1: 0.6550\n",
      "Epoch 23/30\n",
      "\u001b[1m22/22\u001b[0m \u001b[32m━━━━━━━━━━━━━━━━━━━━\u001b[0m\u001b[37m\u001b[0m \u001b[1m0s\u001b[0m 21ms/step - accuracy: 0.9274 - auc_1: 0.9861 - loss: 0.1564 - precision_1: 0.9274 - recall_1: 0.9274 - val_accuracy: 0.6608 - val_auc_1: 0.7001 - val_loss: 1.1374 - val_precision_1: 0.6608 - val_recall_1: 0.6608\n",
      "Epoch 24/30\n",
      "\u001b[1m22/22\u001b[0m \u001b[32m━━━━━━━━━━━━━━━━━━━━\u001b[0m\u001b[37m\u001b[0m \u001b[1m0s\u001b[0m 19ms/step - accuracy: 0.9501 - auc_1: 0.9929 - loss: 0.1229 - precision_1: 0.9501 - recall_1: 0.9501 - val_accuracy: 0.6667 - val_auc_1: 0.7005 - val_loss: 1.1684 - val_precision_1: 0.6667 - val_recall_1: 0.6667\n",
      "Epoch 25/30\n",
      "\u001b[1m22/22\u001b[0m \u001b[32m━━━━━━━━━━━━━━━━━━━━\u001b[0m\u001b[37m\u001b[0m \u001b[1m0s\u001b[0m 18ms/step - accuracy: 0.9357 - auc_1: 0.9876 - loss: 0.1448 - precision_1: 0.9357 - recall_1: 0.9357 - val_accuracy: 0.6316 - val_auc_1: 0.6810 - val_loss: 1.1762 - val_precision_1: 0.6316 - val_recall_1: 0.6316\n",
      "Epoch 26/30\n",
      "\u001b[1m22/22\u001b[0m \u001b[32m━━━━━━━━━━━━━━━━━━━━\u001b[0m\u001b[37m\u001b[0m \u001b[1m0s\u001b[0m 19ms/step - accuracy: 0.9540 - auc_1: 0.9936 - loss: 0.1138 - precision_1: 0.9540 - recall_1: 0.9540 - val_accuracy: 0.6491 - val_auc_1: 0.7001 - val_loss: 1.1714 - val_precision_1: 0.6491 - val_recall_1: 0.6491\n",
      "Epoch 27/30\n",
      "\u001b[1m22/22\u001b[0m \u001b[32m━━━━━━━━━━━━━━━━━━━━\u001b[0m\u001b[37m\u001b[0m \u001b[1m0s\u001b[0m 20ms/step - accuracy: 0.9401 - auc_1: 0.9922 - loss: 0.1182 - precision_1: 0.9401 - recall_1: 0.9401 - val_accuracy: 0.6842 - val_auc_1: 0.7368 - val_loss: 1.0989 - val_precision_1: 0.6842 - val_recall_1: 0.6842\n",
      "Epoch 28/30\n",
      "\u001b[1m22/22\u001b[0m \u001b[32m━━━━━━━━━━━━━━━━━━━━\u001b[0m\u001b[37m\u001b[0m \u001b[1m0s\u001b[0m 19ms/step - accuracy: 0.9611 - auc_1: 0.9932 - loss: 0.1143 - precision_1: 0.9611 - recall_1: 0.9611 - val_accuracy: 0.6082 - val_auc_1: 0.6627 - val_loss: 1.3022 - val_precision_1: 0.6082 - val_recall_1: 0.6082\n",
      "Epoch 29/30\n",
      "\u001b[1m22/22\u001b[0m \u001b[32m━━━━━━━━━━━━━━━━━━━━\u001b[0m\u001b[37m\u001b[0m \u001b[1m0s\u001b[0m 20ms/step - accuracy: 0.9630 - auc_1: 0.9935 - loss: 0.1125 - precision_1: 0.9630 - recall_1: 0.9630 - val_accuracy: 0.6725 - val_auc_1: 0.6806 - val_loss: 1.3415 - val_precision_1: 0.6725 - val_recall_1: 0.6725\n",
      "Epoch 30/30\n",
      "\u001b[1m22/22\u001b[0m \u001b[32m━━━━━━━━━━━━━━━━━━━━\u001b[0m\u001b[37m\u001b[0m \u001b[1m0s\u001b[0m 18ms/step - accuracy: 0.9402 - auc_1: 0.9881 - loss: 0.1440 - precision_1: 0.9402 - recall_1: 0.9402 - val_accuracy: 0.6316 - val_auc_1: 0.6841 - val_loss: 1.3928 - val_precision_1: 0.6316 - val_recall_1: 0.6316\n",
      "Test Loss: 1.4349009990692139\n",
      "Test Accuracy: 0.6028037667274475\n",
      "Test Precision: 0.6028037667274475\n",
      "Test Recall: 0.6028037667274475\n",
      "Test AUC: 0.6661607623100281\n"
     ]
    }
   ],
   "source": [
    "from tensorflow.keras.optimizers import Adam\n",
    "from tensorflow.keras import metrics\n",
    "# Definición de la arquitectura de una CNN\n",
    "model_CNN = Sequential([\n",
    "    # Capa convolucional con 32 filtros, tamaño de kernel 3x3, y activación ReLU\n",
    "    Conv2D(32, (3, 3), activation='relu', input_shape=(64, 64, 3)),\n",
    "    MaxPooling2D(pool_size=(2, 2)),  # Capa de pooling para reducir dimensiones\n",
    "\n",
    "    # Segunda capa convolucional con 64 filtros\n",
    "    Conv2D(64, (3, 3), activation='relu'),\n",
    "    MaxPooling2D(pool_size=(2, 2)),\n",
    "\n",
    "    # Capa de flattening para convertir la salida 2D en un vector 1D\n",
    "    Flatten(),\n",
    "\n",
    "    # Capa densa con 128 neuronas y activación ReLU\n",
    "    Dense(128, activation='relu'),\n",
    "    Dropout(0.5),  # Regularización con Dropout para evitar sobreajuste\n",
    "\n",
    "    # Capa de salida con 2 neuronas (uno para cada clase) y activación softmax\n",
    "    Dense(2, activation='softmax')\n",
    "])\n",
    "\n",
    "# Compilar el modelo\n",
    "model_CNN.compile(optimizer=Adam(), loss='categorical_crossentropy', metrics=[\n",
    "        'accuracy',  # Precisión\n",
    "        metrics.Precision(),  # Métrica de precisión\n",
    "        metrics.Recall(),  # Métrica de recall\n",
    "        metrics.AUC()  # Área bajo la curva ROC\n",
    "    ])\n",
    "\n",
    "# Entrenar el modelo\n",
    "history_no_augmentation = model_CNN.fit(\n",
    "    X_train, y_train,\n",
    "    epochs=30,\n",
    "    batch_size=32,\n",
    "    validation_split=0.2\n",
    ")\n",
    "\n",
    "# Evaluar el modelo en los datos de prueba\n",
    "test_loss, test_accuracy, test_precision, test_recall, test_auc = model_CNN.evaluate(X_test, y_test, verbose=0)\n",
    "\n",
    "print(f\"Test Loss: {test_loss}\")\n",
    "print(f\"Test Accuracy: {test_accuracy}\")\n",
    "print(f\"Test Precision: {test_precision}\")\n",
    "print(f\"Test Recall: {test_recall}\")\n",
    "print(f\"Test AUC: {test_auc}\")"
   ]
  },
  {
   "cell_type": "code",
   "execution_count": null,
   "id": "579f45c7",
   "metadata": {},
   "outputs": [
    {
     "name": "stdout",
     "output_type": "stream",
     "text": [
      "\u001b[1m7/7\u001b[0m \u001b[32m━━━━━━━━━━━━━━━━━━━━\u001b[0m\u001b[37m\u001b[0m \u001b[1m0s\u001b[0m 12ms/step\n",
      "              precision    recall  f1-score   support\n",
      "\n",
      "           0       0.53      0.52      0.53        91\n",
      "           1       0.65      0.67      0.66       123\n",
      "\n",
      "    accuracy                           0.60       214\n",
      "   macro avg       0.59      0.59      0.59       214\n",
      "weighted avg       0.60      0.60      0.60       214\n",
      "\n"
     ]
    }
   ],
   "source": [
    "# Realizar las predicciones\n",
    "y_pred = model_CNN.predict(X_test)\n",
    "y_pred_classes = y_pred.argmax(axis=1)\n",
    "y_true = y_test.argmax(axis=1)\n",
    "\n",
    "# Reporte de clasificación con precision, recall y f1-score\n",
    "print(classification_report(y_true, y_pred_classes))"
   ]
  },
  {
   "cell_type": "code",
   "execution_count": null,
   "id": "50fc7f26",
   "metadata": {},
   "outputs": [
    {
     "name": "stdout",
     "output_type": "stream",
     "text": [
      "Test Loss: 1.4349\n",
      "Test Accuracy: 0.6028\n",
      "Test Precision: 0.6028\n",
      "Test Recall: 0.6028\n",
      "Test AUC: 0.6662\n"
     ]
    }
   ],
   "source": [
    "# Evaluar el modelo en el conjunto de prueba\n",
    "test_loss1, test_accuracy1, test_precision1, test_recall1, test_auc1 = model_CNN.evaluate(X_test, y_test, verbose=0)\n",
    "\n",
    "# Mostrar las métricas finales\n",
    "print(f\"Test Loss: {test_loss1:.4f}\")\n",
    "print(f\"Test Accuracy: {test_accuracy1:.4f}\")\n",
    "print(f\"Test Precision: {test_precision1:.4f}\")\n",
    "print(f\"Test Recall: {test_recall1:.4f}\")\n",
    "print(f\"Test AUC: {test_auc1:.4f}\")"
   ]
  },
  {
   "cell_type": "markdown",
   "id": "de119eaf",
   "metadata": {},
   "source": [
    "## - [Matriz de Confucion](#instal)"
   ]
  },
  {
   "cell_type": "code",
   "execution_count": null,
   "id": "de159eea",
   "metadata": {},
   "outputs": [
    {
     "name": "stdout",
     "output_type": "stream",
     "text": [
      "\u001b[1m7/7\u001b[0m \u001b[32m━━━━━━━━━━━━━━━━━━━━\u001b[0m\u001b[37m\u001b[0m \u001b[1m0s\u001b[0m 8ms/step \n",
      "Reporte de clasificación:\n",
      "              precision    recall  f1-score   support\n",
      "\n",
      " Parasitized       0.53      0.52      0.53        91\n",
      "  Uninfected       0.65      0.67      0.66       123\n",
      "\n",
      "    accuracy                           0.60       214\n",
      "   macro avg       0.59      0.59      0.59       214\n",
      "weighted avg       0.60      0.60      0.60       214\n",
      "\n"
     ]
    },
    {
     "data": {
      "image/png": "[encoded data removed]",
      "text/plain": [
       "<Figure size 640x480 with 2 Axes>"
      ]
     },
     "metadata": {},
     "output_type": "display_data"
    }
   ],
   "source": [
    "# Predicciones del modelo\n",
    "y_pred = model_CNN.predict(X_test)\n",
    "y_pred_classes = y_pred.argmax(axis=1)  # Clases predichas (0 o 1)\n",
    "y_true = y_test.argmax(axis=1)          # Clases verdaderas (0 o 1)\n",
    "\n",
    "# Reporte de métricas\n",
    "print(\"Reporte de clasificación:\")\n",
    "print(classification_report(y_true, y_pred_classes, target_names=[\"Parasitized\", \"Uninfected\"]))\n",
    "\n",
    "# (Opcional) Matriz de confusión\n",
    "conf_mat = confusion_matrix(y_true, y_pred_classes)\n",
    "disp = ConfusionMatrixDisplay(confusion_matrix=conf_mat, display_labels=[\"Parasitized\", \"Uninfected\"])\n",
    "disp.plot(cmap=plt.cm.Blues)\n",
    "plt.title(\"Matriz de Confusión\")\n",
    "plt.show()"
   ]
  },
  {
   "cell_type": "markdown",
   "id": "5829b0d6",
   "metadata": {},
   "source": [
    " ##  🎇 🎆  🌋🧭🚀- 5.5 [Entrenamiento de una red neuronanl Convolucional para clasificación y evalución del modelo con aumento de datos](#instal)"
   ]
  },
  {
   "cell_type": "code",
   "execution_count": null,
   "id": "6a8709cf",
   "metadata": {},
   "outputs": [
    {
     "name": "stdout",
     "output_type": "stream",
     "text": [
      "Epoch 1/30\n"
     ]
    },
    {
     "name": "stderr",
     "output_type": "stream",
     "text": [
      "c:\\Users\\usuario\\anaconda31\\Lib\\site-packages\\keras\\src\\trainers\\data_adapters\\py_dataset_adapter.py:121: UserWarning: Your `PyDataset` class should call `super().__init__(**kwargs)` in its constructor. `**kwargs` can include `workers`, `use_multiprocessing`, `max_queue_size`. Do not pass these arguments to `fit()`, as they will be ignored.\n",
      "  self._warn_if_super_not_called()\n"
     ]
    },
    {
     "name": "stdout",
     "output_type": "stream",
     "text": [
      "\u001b[1m27/27\u001b[0m \u001b[32m━━━━━━━━━━━━━━━━━━━━\u001b[0m\u001b[37m\u001b[0m \u001b[1m1s\u001b[0m 32ms/step - accuracy: 0.5267 - auc_1: 0.5460 - loss: 1.4054 - precision_1: 0.5267 - recall_1: 0.5267 - val_accuracy: 0.6121 - val_auc_1: 0.6731 - val_loss: 0.6342 - val_precision_1: 0.6121 - val_recall_1: 0.6121\n",
      "Epoch 2/30\n",
      "\u001b[1m27/27\u001b[0m \u001b[32m━━━━━━━━━━━━━━━━━━━━\u001b[0m\u001b[37m\u001b[0m \u001b[1m1s\u001b[0m 32ms/step - accuracy: 0.5076 - auc_1: 0.5119 - loss: 0.6953 - precision_1: 0.5076 - recall_1: 0.5076 - val_accuracy: 0.4486 - val_auc_1: 0.4609 - val_loss: 0.6945 - val_precision_1: 0.4486 - val_recall_1: 0.4486\n",
      "Epoch 3/30\n",
      "\u001b[1m27/27\u001b[0m \u001b[32m━━━━━━━━━━━━━━━━━━━━\u001b[0m\u001b[37m\u001b[0m \u001b[1m1s\u001b[0m 32ms/step - accuracy: 0.4991 - auc_1: 0.5031 - loss: 0.6941 - precision_1: 0.4991 - recall_1: 0.4991 - val_accuracy: 0.5748 - val_auc_1: 0.5063 - val_loss: 0.6935 - val_precision_1: 0.5748 - val_recall_1: 0.5748\n",
      "Epoch 4/30\n",
      "\u001b[1m27/27\u001b[0m \u001b[32m━━━━━━━━━━━━━━━━━━━━\u001b[0m\u001b[37m\u001b[0m \u001b[1m1s\u001b[0m 31ms/step - accuracy: 0.5169 - auc_1: 0.5032 - loss: 0.7196 - precision_1: 0.5169 - recall_1: 0.5169 - val_accuracy: 0.5935 - val_auc_1: 0.6521 - val_loss: 0.6468 - val_precision_1: 0.5935 - val_recall_1: 0.5935\n",
      "Epoch 5/30\n",
      "\u001b[1m27/27\u001b[0m \u001b[32m━━━━━━━━━━━━━━━━━━━━\u001b[0m\u001b[37m\u001b[0m \u001b[1m1s\u001b[0m 32ms/step - accuracy: 0.5581 - auc_1: 0.5872 - loss: 0.6767 - precision_1: 0.5581 - recall_1: 0.5581 - val_accuracy: 0.6215 - val_auc_1: 0.6718 - val_loss: 0.6403 - val_precision_1: 0.6215 - val_recall_1: 0.6215\n",
      "Epoch 6/30\n",
      "\u001b[1m27/27\u001b[0m \u001b[32m━━━━━━━━━━━━━━━━━━━━\u001b[0m\u001b[37m\u001b[0m \u001b[1m1s\u001b[0m 30ms/step - accuracy: 0.5378 - auc_1: 0.5454 - loss: 0.6901 - precision_1: 0.5378 - recall_1: 0.5378 - val_accuracy: 0.6028 - val_auc_1: 0.6705 - val_loss: 0.6410 - val_precision_1: 0.6028 - val_recall_1: 0.6028\n",
      "Epoch 7/30\n",
      "\u001b[1m27/27\u001b[0m \u001b[32m━━━━━━━━━━━━━━━━━━━━\u001b[0m\u001b[37m\u001b[0m \u001b[1m1s\u001b[0m 29ms/step - accuracy: 0.5239 - auc_1: 0.5396 - loss: 0.6902 - precision_1: 0.5239 - recall_1: 0.5239 - val_accuracy: 0.5935 - val_auc_1: 0.6717 - val_loss: 0.6467 - val_precision_1: 0.5935 - val_recall_1: 0.5935\n",
      "Epoch 8/30\n",
      "\u001b[1m27/27\u001b[0m \u001b[32m━━━━━━━━━━━━━━━━━━━━\u001b[0m\u001b[37m\u001b[0m \u001b[1m1s\u001b[0m 31ms/step - accuracy: 0.5066 - auc_1: 0.5218 - loss: 0.6856 - precision_1: 0.5066 - recall_1: 0.5066 - val_accuracy: 0.6495 - val_auc_1: 0.6957 - val_loss: 0.6359 - val_precision_1: 0.6495 - val_recall_1: 0.6495\n",
      "Epoch 9/30\n",
      "\u001b[1m27/27\u001b[0m \u001b[32m━━━━━━━━━━━━━━━━━━━━\u001b[0m\u001b[37m\u001b[0m \u001b[1m1s\u001b[0m 30ms/step - accuracy: 0.5549 - auc_1: 0.5628 - loss: 0.6868 - precision_1: 0.5549 - recall_1: 0.5549 - val_accuracy: 0.6262 - val_auc_1: 0.6689 - val_loss: 0.6811 - val_precision_1: 0.6262 - val_recall_1: 0.6262\n",
      "Epoch 10/30\n",
      "\u001b[1m27/27\u001b[0m \u001b[32m━━━━━━━━━━━━━━━━━━━━\u001b[0m\u001b[37m\u001b[0m \u001b[1m1s\u001b[0m 32ms/step - accuracy: 0.5309 - auc_1: 0.5639 - loss: 0.6871 - precision_1: 0.5309 - recall_1: 0.5309 - val_accuracy: 0.6308 - val_auc_1: 0.6779 - val_loss: 0.6419 - val_precision_1: 0.6308 - val_recall_1: 0.6308\n",
      "Epoch 11/30\n",
      "\u001b[1m27/27\u001b[0m \u001b[32m━━━━━━━━━━━━━━━━━━━━\u001b[0m\u001b[37m\u001b[0m \u001b[1m1s\u001b[0m 32ms/step - accuracy: 0.5229 - auc_1: 0.5391 - loss: 0.6900 - precision_1: 0.5229 - recall_1: 0.5229 - val_accuracy: 0.6402 - val_auc_1: 0.6905 - val_loss: 0.6384 - val_precision_1: 0.6402 - val_recall_1: 0.6402\n",
      "Epoch 12/30\n",
      "\u001b[1m27/27\u001b[0m \u001b[32m━━━━━━━━━━━━━━━━━━━━\u001b[0m\u001b[37m\u001b[0m \u001b[1m1s\u001b[0m 31ms/step - accuracy: 0.5323 - auc_1: 0.5446 - loss: 0.6874 - precision_1: 0.5323 - recall_1: 0.5323 - val_accuracy: 0.5935 - val_auc_1: 0.6774 - val_loss: 0.6718 - val_precision_1: 0.5935 - val_recall_1: 0.5935\n",
      "Epoch 13/30\n",
      "\u001b[1m27/27\u001b[0m \u001b[32m━━━━━━━━━━━━━━━━━━━━\u001b[0m\u001b[37m\u001b[0m \u001b[1m1s\u001b[0m 32ms/step - accuracy: 0.5969 - auc_1: 0.6215 - loss: 0.6743 - precision_1: 0.5969 - recall_1: 0.5969 - val_accuracy: 0.6075 - val_auc_1: 0.6733 - val_loss: 0.6644 - val_precision_1: 0.6075 - val_recall_1: 0.6075\n",
      "Epoch 14/30\n",
      "\u001b[1m27/27\u001b[0m \u001b[32m━━━━━━━━━━━━━━━━━━━━\u001b[0m\u001b[37m\u001b[0m \u001b[1m1s\u001b[0m 32ms/step - accuracy: 0.5690 - auc_1: 0.5843 - loss: 0.6873 - precision_1: 0.5690 - recall_1: 0.5690 - val_accuracy: 0.5888 - val_auc_1: 0.6647 - val_loss: 0.7119 - val_precision_1: 0.5888 - val_recall_1: 0.5888\n",
      "Epoch 15/30\n",
      "\u001b[1m27/27\u001b[0m \u001b[32m━━━━━━━━━━━━━━━━━━━━\u001b[0m\u001b[37m\u001b[0m \u001b[1m1s\u001b[0m 34ms/step - accuracy: 0.5684 - auc_1: 0.5963 - loss: 0.6741 - precision_1: 0.5684 - recall_1: 0.5684 - val_accuracy: 0.6402 - val_auc_1: 0.7276 - val_loss: 0.6059 - val_precision_1: 0.6402 - val_recall_1: 0.6402\n",
      "Epoch 16/30\n",
      "\u001b[1m27/27\u001b[0m \u001b[32m━━━━━━━━━━━━━━━━━━━━\u001b[0m\u001b[37m\u001b[0m \u001b[1m1s\u001b[0m 32ms/step - accuracy: 0.5836 - auc_1: 0.6167 - loss: 0.6781 - precision_1: 0.5836 - recall_1: 0.5836 - val_accuracy: 0.6776 - val_auc_1: 0.7396 - val_loss: 0.7049 - val_precision_1: 0.6776 - val_recall_1: 0.6776\n",
      "Epoch 17/30\n",
      "\u001b[1m27/27\u001b[0m \u001b[32m━━━━━━━━━━━━━━━━━━━━\u001b[0m\u001b[37m\u001b[0m \u001b[1m1s\u001b[0m 32ms/step - accuracy: 0.6051 - auc_1: 0.6617 - loss: 0.6443 - precision_1: 0.6051 - recall_1: 0.6051 - val_accuracy: 0.6028 - val_auc_1: 0.6561 - val_loss: 0.7168 - val_precision_1: 0.6028 - val_recall_1: 0.6028\n",
      "Epoch 18/30\n",
      "\u001b[1m27/27\u001b[0m \u001b[32m━━━━━━━━━━━━━━━━━━━━\u001b[0m\u001b[37m\u001b[0m \u001b[1m1s\u001b[0m 30ms/step - accuracy: 0.5142 - auc_1: 0.5448 - loss: 0.6898 - precision_1: 0.5142 - recall_1: 0.5142 - val_accuracy: 0.5888 - val_auc_1: 0.6607 - val_loss: 0.6905 - val_precision_1: 0.5888 - val_recall_1: 0.5888\n",
      "Epoch 19/30\n",
      "\u001b[1m27/27\u001b[0m \u001b[32m━━━━━━━━━━━━━━━━━━━━\u001b[0m\u001b[37m\u001b[0m \u001b[1m1s\u001b[0m 30ms/step - accuracy: 0.5203 - auc_1: 0.5284 - loss: 0.7064 - precision_1: 0.5203 - recall_1: 0.5203 - val_accuracy: 0.5841 - val_auc_1: 0.6326 - val_loss: 0.6644 - val_precision_1: 0.5841 - val_recall_1: 0.5841\n",
      "Epoch 20/30\n",
      "\u001b[1m27/27\u001b[0m \u001b[32m━━━━━━━━━━━━━━━━━━━━\u001b[0m\u001b[37m\u001b[0m \u001b[1m1s\u001b[0m 33ms/step - accuracy: 0.4986 - auc_1: 0.5069 - loss: 0.6999 - precision_1: 0.4986 - recall_1: 0.4986 - val_accuracy: 0.5841 - val_auc_1: 0.6567 - val_loss: 0.6557 - val_precision_1: 0.5841 - val_recall_1: 0.5841\n",
      "Epoch 21/30\n",
      "\u001b[1m27/27\u001b[0m \u001b[32m━━━━━━━━━━━━━━━━━━━━\u001b[0m\u001b[37m\u001b[0m \u001b[1m1s\u001b[0m 30ms/step - accuracy: 0.5172 - auc_1: 0.5268 - loss: 0.6948 - precision_1: 0.5172 - recall_1: 0.5172 - val_accuracy: 0.6168 - val_auc_1: 0.6464 - val_loss: 0.6587 - val_precision_1: 0.6168 - val_recall_1: 0.6168\n",
      "Epoch 22/30\n",
      "\u001b[1m27/27\u001b[0m \u001b[32m━━━━━━━━━━━━━━━━━━━━\u001b[0m\u001b[37m\u001b[0m \u001b[1m1s\u001b[0m 31ms/step - accuracy: 0.5058 - auc_1: 0.4978 - loss: 0.6973 - precision_1: 0.5058 - recall_1: 0.5058 - val_accuracy: 0.5841 - val_auc_1: 0.6465 - val_loss: 0.6578 - val_precision_1: 0.5841 - val_recall_1: 0.5841\n",
      "Epoch 23/30\n",
      "\u001b[1m27/27\u001b[0m \u001b[32m━━━━━━━━━━━━━━━━━━━━\u001b[0m\u001b[37m\u001b[0m \u001b[1m1s\u001b[0m 35ms/step - accuracy: 0.5345 - auc_1: 0.5579 - loss: 0.6874 - precision_1: 0.5345 - recall_1: 0.5345 - val_accuracy: 0.5841 - val_auc_1: 0.6430 - val_loss: 0.6647 - val_precision_1: 0.5841 - val_recall_1: 0.5841\n",
      "Epoch 24/30\n",
      "\u001b[1m27/27\u001b[0m \u001b[32m━━━━━━━━━━━━━━━━━━━━\u001b[0m\u001b[37m\u001b[0m \u001b[1m1s\u001b[0m 32ms/step - accuracy: 0.5664 - auc_1: 0.5769 - loss: 0.6840 - precision_1: 0.5664 - recall_1: 0.5664 - val_accuracy: 0.5888 - val_auc_1: 0.6387 - val_loss: 0.6678 - val_precision_1: 0.5888 - val_recall_1: 0.5888\n",
      "Epoch 25/30\n",
      "\u001b[1m27/27\u001b[0m \u001b[32m━━━━━━━━━━━━━━━━━━━━\u001b[0m\u001b[37m\u001b[0m \u001b[1m1s\u001b[0m 35ms/step - accuracy: 0.5280 - auc_1: 0.5337 - loss: 0.6997 - precision_1: 0.5280 - recall_1: 0.5280 - val_accuracy: 0.6121 - val_auc_1: 0.6408 - val_loss: 0.6653 - val_precision_1: 0.6121 - val_recall_1: 0.6121\n",
      "Epoch 26/30\n",
      "\u001b[1m27/27\u001b[0m \u001b[32m━━━━━━━━━━━━━━━━━━━━\u001b[0m\u001b[37m\u001b[0m \u001b[1m1s\u001b[0m 32ms/step - accuracy: 0.5082 - auc_1: 0.5355 - loss: 0.6883 - precision_1: 0.5082 - recall_1: 0.5082 - val_accuracy: 0.5981 - val_auc_1: 0.6628 - val_loss: 0.6496 - val_precision_1: 0.5981 - val_recall_1: 0.5981\n",
      "Epoch 27/30\n",
      "\u001b[1m27/27\u001b[0m \u001b[32m━━━━━━━━━━━━━━━━━━━━\u001b[0m\u001b[37m\u001b[0m \u001b[1m1s\u001b[0m 33ms/step - accuracy: 0.5544 - auc_1: 0.5725 - loss: 0.6860 - precision_1: 0.5544 - recall_1: 0.5544 - val_accuracy: 0.5794 - val_auc_1: 0.6276 - val_loss: 0.6616 - val_precision_1: 0.5794 - val_recall_1: 0.5794\n",
      "Epoch 28/30\n",
      "\u001b[1m27/27\u001b[0m \u001b[32m━━━━━━━━━━━━━━━━━━━━\u001b[0m\u001b[37m\u001b[0m \u001b[1m1s\u001b[0m 32ms/step - accuracy: 0.5566 - auc_1: 0.5636 - loss: 0.6889 - precision_1: 0.5566 - recall_1: 0.5566 - val_accuracy: 0.5654 - val_auc_1: 0.6377 - val_loss: 0.6621 - val_precision_1: 0.5654 - val_recall_1: 0.5654\n",
      "Epoch 29/30\n",
      "\u001b[1m27/27\u001b[0m \u001b[32m━━━━━━━━━━━━━━━━━━━━\u001b[0m\u001b[37m\u001b[0m \u001b[1m1s\u001b[0m 31ms/step - accuracy: 0.5535 - auc_1: 0.5836 - loss: 0.6863 - precision_1: 0.5535 - recall_1: 0.5535 - val_accuracy: 0.6121 - val_auc_1: 0.6388 - val_loss: 0.6637 - val_precision_1: 0.6121 - val_recall_1: 0.6121\n",
      "Epoch 30/30\n",
      "\u001b[1m27/27\u001b[0m \u001b[32m━━━━━━━━━━━━━━━━━━━━\u001b[0m\u001b[37m\u001b[0m \u001b[1m1s\u001b[0m 31ms/step - accuracy: 0.5646 - auc_1: 0.5847 - loss: 0.6846 - precision_1: 0.5646 - recall_1: 0.5646 - val_accuracy: 0.5701 - val_auc_1: 0.6560 - val_loss: 0.6525 - val_precision_1: 0.5701 - val_recall_1: 0.5701\n"
     ]
    }
   ],
   "source": [
    "from tensorflow.keras.preprocessing.image import ImageDataGenerator\n",
    "\n",
    "datagen = ImageDataGenerator(\n",
    "    rotation_range=30,\n",
    "    width_shift_range=0.2,\n",
    "    height_shift_range=0.2,\n",
    "    shear_range=0.2,\n",
    "    zoom_range=0.2,\n",
    "    horizontal_flip=True,\n",
    "    fill_mode='nearest'\n",
    ")\n",
    "\n",
    "# Ajuste del generador de datos para entrenar el modelo\n",
    "datagen.fit(X_train)\n",
    "history_with_augmentation = model_CNN.fit(\n",
    "    datagen.flow(X_train, y_train, batch_size=32),\n",
    "    epochs=30,\n",
    "    validation_data=(X_test, y_test)\n",
    ")"
   ]
  },
  {
   "cell_type": "code",
   "execution_count": null,
   "id": "520253a3",
   "metadata": {},
   "outputs": [
    {
     "name": "stdout",
     "output_type": "stream",
     "text": [
      "Test Loss: 0.6525\n",
      "Test Accuracy: 0.5701\n",
      "Test Precision: 0.5701\n",
      "Test Recall: 0.5701\n",
      "Test AUC: 0.6560\n"
     ]
    }
   ],
   "source": [
    "# Evaluar el modelo en el conjunto de prueba\n",
    "test_loss2, test_accuracy2, test_precision2, test_recall2, test_auc2 = model_CNN.evaluate(X_test, y_test, verbose=0)\n",
    "\n",
    "# Mostrar las métricas finales\n",
    "print(f\"Test Loss: {test_loss2:.4f}\")\n",
    "print(f\"Test Accuracy: {test_accuracy2:.4f}\")\n",
    "print(f\"Test Precision: {test_precision2:.4f}\")\n",
    "print(f\"Test Recall: {test_recall2:.4f}\")\n",
    "print(f\"Test AUC: {test_auc2:.4f}\")"
   ]
  },
  {
   "cell_type": "code",
   "execution_count": null,
   "id": "2cf729b4",
   "metadata": {},
   "outputs": [
    {
     "data": {
      "image/png": "[encoded data removed]",
      "text/plain": [
       "<Figure size 1200x600 with 1 Axes>"
      ]
     },
     "metadata": {},
     "output_type": "display_data"
    }
   ],
   "source": [
    "# Graficar la precisión de entrenamiento\n",
    "plt.figure(figsize=(12, 6))\n",
    "\n",
    "# Precisión sin data augmentation\n",
    "plt.plot(history_no_augmentation.history['accuracy'], label='Train Accuracy (No Augmentation)')\n",
    "plt.plot(history_no_augmentation.history['val_accuracy'], label='Validation Accuracy (No Augmentation)')\n",
    "\n",
    "# Precisión con data augmentation\n",
    "plt.plot(history_with_augmentation.history['accuracy'], label='Train Accuracy (With Augmentation)')\n",
    "plt.plot(history_with_augmentation.history['val_accuracy'], label='Validation Accuracy (With Augmentation)')\n",
    "\n",
    "plt.title('Accuracy Comparison: No Augmentation vs Augmentation')\n",
    "plt.xlabel('Epochs')\n",
    "plt.ylabel('Accuracy')\n",
    "plt.legend()\n",
    "plt.show()"
   ]
  },
  {
   "cell_type": "markdown",
   "id": "3bfe4ee4",
   "metadata": {},
   "source": [
    "## - [Matriz de Confucion](#instal)"
   ]
  },
  {
   "cell_type": "code",
   "execution_count": null,
   "id": "06c39c18",
   "metadata": {},
   "outputs": [
    {
     "name": "stdout",
     "output_type": "stream",
     "text": [
      "\u001b[1m7/7\u001b[0m \u001b[32m━━━━━━━━━━━━━━━━━━━━\u001b[0m\u001b[37m\u001b[0m \u001b[1m0s\u001b[0m 6ms/step \n",
      "Reporte de clasificación:\n",
      "              precision    recall  f1-score   support\n",
      "\n",
      " Parasitized       0.47      0.08      0.13        91\n",
      "  Uninfected       0.58      0.93      0.71       123\n",
      "\n",
      "    accuracy                           0.57       214\n",
      "   macro avg       0.52      0.51      0.42       214\n",
      "weighted avg       0.53      0.57      0.47       214\n",
      "\n"
     ]
    },
    {
     "data": {
      "image/png": "[encoded data removed]",
      "text/plain": [
       "<Figure size 640x480 with 2 Axes>"
      ]
     },
     "metadata": {},
     "output_type": "display_data"
    }
   ],
   "source": [
    "# Predicciones del modelo\n",
    "y_pred = model_CNN.predict(X_test)\n",
    "y_pred_classes = y_pred.argmax(axis=1)  # Clases predichas (0 o 1)\n",
    "y_true = y_test.argmax(axis=1)          # Clases verdaderas (0 o 1)\n",
    "\n",
    "# Reporte de métricas\n",
    "print(\"Reporte de clasificación:\")\n",
    "print(classification_report(y_true, y_pred_classes, target_names=[\"Parasitized\", \"Uninfected\"]))\n",
    "\n",
    "# (Opcional) Matriz de confusión\n",
    "conf_mat = confusion_matrix(y_true, y_pred_classes)\n",
    "disp = ConfusionMatrixDisplay(confusion_matrix=conf_mat, display_labels=[\"Parasitized\", \"Uninfected\"])\n",
    "disp.plot(cmap=plt.cm.Blues)\n",
    "plt.title(\"Matriz de Confusión\")\n",
    "plt.show()"
   ]
  },
  {
   "cell_type": "markdown",
   "id": "be047422",
   "metadata": {},
   "source": [
    "## 🎇 🎆  🌋🧭🚀- 5.6 [4-VGG16 como Feature Extractor (Aprendizaje Automático)](#)"
   ]
  },
  {
   "cell_type": "code",
   "execution_count": null,
   "id": "feebf12d",
   "metadata": {},
   "outputs": [],
   "source": [
    "from tensorflow.keras.applications import VGG16\n",
    "from tensorflow.keras.applications.vgg16 import preprocess_input\n",
    "from tensorflow.keras.models import Model\n",
    "from tensorflow.keras.preprocessing.image import ImageDataGenerator"
   ]
  },
  {
   "cell_type": "code",
   "execution_count": null,
   "id": "ce7cd0e2",
   "metadata": {},
   "outputs": [
    {
     "name": "stderr",
     "output_type": "stream",
     "text": [
      "c:\\Users\\usuario\\anaconda31\\Lib\\site-packages\\keras\\src\\trainers\\data_adapters\\py_dataset_adapter.py:121: UserWarning: Your `PyDataset` class should call `super().__init__(**kwargs)` in its constructor. `**kwargs` can include `workers`, `use_multiprocessing`, `max_queue_size`. Do not pass these arguments to `fit()`, as they will be ignored.\n",
      "  self._warn_if_super_not_called()\n"
     ]
    },
    {
     "name": "stdout",
     "output_type": "stream",
     "text": [
      "\u001b[1m27/27\u001b[0m \u001b[32m━━━━━━━━━━━━━━━━━━━━\u001b[0m\u001b[37m\u001b[0m \u001b[1m3s\u001b[0m 124ms/step\n",
      "\u001b[1m7/7\u001b[0m \u001b[32m━━━━━━━━━━━━━━━━━━━━\u001b[0m\u001b[37m\u001b[0m \u001b[1m1s\u001b[0m 113ms/step\n"
     ]
    }
   ],
   "source": [
    "# Cargar VGG16 sin las capas finales (fully connected)\n",
    "vgg16 = VGG16(weights='imagenet', include_top=False, input_shape=(64, 64, 3))\n",
    "\n",
    "# Congelar las capas de VGG16 para no entrenarlas\n",
    "for layer in vgg16.layers:\n",
    "    layer.trainable = False\n",
    "\n",
    "# Definir el modelo que devolverá las características extraídas\n",
    "feature_extractor = Model(inputs=vgg16.input, outputs=vgg16.output)\n",
    "\n",
    "# Preprocesamiento de imágenes\n",
    "datagen = ImageDataGenerator(preprocessing_function=preprocess_input)\n",
    "\n",
    "# Extraer características de entrenamiento\n",
    "train_generator = datagen.flow(X_train, y_train, batch_size=32, shuffle=False)\n",
    "train_features = feature_extractor.predict(train_generator)\n",
    "\n",
    "# Extraer características de prueba\n",
    "test_generator = datagen.flow(X_test, y_test, batch_size=32, shuffle=False)\n",
    "test_features = feature_extractor.predict(test_generator)\n",
    "\n",
    "# Aplanar las características\n",
    "X_train_features = train_features.reshape(train_features.shape[0], -1)\n",
    "X_test_features = test_features.reshape(test_features.shape[0], -1)"
   ]
  },
  {
   "cell_type": "markdown",
   "id": "2577f9ba",
   "metadata": {},
   "source": [
    "## 🎇 🎆  🌋🧭🚀- 5.7 [Entrenar un modelo SVM con las características extraídas ](#architecture)"
   ]
  },
  {
   "cell_type": "code",
   "execution_count": null,
   "id": "c52c7f6f",
   "metadata": {},
   "outputs": [
    {
     "name": "stdout",
     "output_type": "stream",
     "text": [
      "Accuracy: 0.9439252336448598\n",
      "              precision    recall  f1-score   support\n",
      "\n",
      " Parasitized       0.94      0.92      0.93        91\n",
      "  Uninfected       0.94      0.96      0.95       123\n",
      "\n",
      "    accuracy                           0.94       214\n",
      "   macro avg       0.94      0.94      0.94       214\n",
      "weighted avg       0.94      0.94      0.94       214\n",
      "\n"
     ]
    }
   ],
   "source": [
    "from sklearn.svm import SVC\n",
    "from sklearn.metrics import classification_report, accuracy_score\n",
    "\n",
    "# Entrenar un modelo SVM con las características extraídas\n",
    "svm = SVC(kernel='linear', probability=True)\n",
    "svm.fit(X_train_features, y_train.argmax(axis=1))  # Usar etiquetas categóricas\n",
    "\n",
    "# Evaluar en datos de prueba\n",
    "y_pred = svm.predict(X_test_features)\n",
    "\n",
    "# Métricas de desempeño\n",
    "print(\"Accuracy:\", accuracy_score(y_test.argmax(axis=1), y_pred))\n",
    "print(classification_report(y_test.argmax(axis=1), y_pred, target_names=['Parasitized', 'Uninfected']))"
   ]
  },
  {
   "cell_type": "markdown",
   "id": "1fcd64cb",
   "metadata": {},
   "source": [
    "## - [Matriz de Confucion](#instal)"
   ]
  },
  {
   "cell_type": "code",
   "execution_count": null,
   "id": "5406b69d",
   "metadata": {},
   "outputs": [
    {
     "data": {
      "image/png": "[encoded data removed]",
      "text/plain": [
       "<Figure size 800x600 with 2 Axes>"
      ]
     },
     "metadata": {},
     "output_type": "display_data"
    }
   ],
   "source": [
    "# Compute the confusion matrix\n",
    "conf_matrix = confusion_matrix(y_test.argmax(axis=1), y_pred)\n",
    "\n",
    "class_names = [\"Parasitized\", \"Uninfected\"]\n",
    "# Visualize the confusion matrix\n",
    "plt.figure(figsize=(8, 6))\n",
    "sns.heatmap(conf_matrix, annot=True, fmt='d', cmap='Blues', xticklabels=class_names, yticklabels=class_names)\n",
    "plt.xlabel('Predicted Labels')\n",
    "plt.ylabel('True Labels')\n",
    "plt.title('Confusion Matrix for SVC')\n",
    "plt.show()"
   ]
  },
  {
   "cell_type": "markdown",
   "id": "9cd21517",
   "metadata": {},
   "source": [
    " ## 🎇 🎆  🌋🧭🚀- 5.8 [Entrenar un modelo FeedFoward con las características extraídas](#preprocesing)"
   ]
  },
  {
   "cell_type": "code",
   "execution_count": null,
   "id": "5193e91f",
   "metadata": {},
   "outputs": [
    {
     "name": "stderr",
     "output_type": "stream",
     "text": [
      "c:\\Users\\usuario\\anaconda31\\Lib\\site-packages\\keras\\src\\trainers\\data_adapters\\py_dataset_adapter.py:121: UserWarning: Your `PyDataset` class should call `super().__init__(**kwargs)` in its constructor. `**kwargs` can include `workers`, `use_multiprocessing`, `max_queue_size`. Do not pass these arguments to `fit()`, as they will be ignored.\n",
      "  self._warn_if_super_not_called()\n"
     ]
    },
    {
     "name": "stdout",
     "output_type": "stream",
     "text": [
      "\u001b[1m27/27\u001b[0m \u001b[32m━━━━━━━━━━━━━━━━━━━━\u001b[0m\u001b[37m\u001b[0m \u001b[1m3s\u001b[0m 121ms/step\n",
      "\u001b[1m7/7\u001b[0m \u001b[32m━━━━━━━━━━━━━━━━━━━━\u001b[0m\u001b[37m\u001b[0m \u001b[1m1s\u001b[0m 111ms/step\n"
     ]
    }
   ],
   "source": [
    "# Cargar VGG16 sin las capas finales (fully connected)\n",
    "vgg16 = VGG16(weights='imagenet', include_top=False, input_shape=(64, 64, 3))\n",
    "\n",
    "# Congelar las capas de VGG16 para no entrenarlas\n",
    "for layer in vgg16.layers:\n",
    "    layer.trainable = False\n",
    "\n",
    "# Definir el modelo que devolverá las características extraídas\n",
    "feature_extractor = Model(inputs=vgg16.input, outputs=vgg16.output)\n",
    "\n",
    "# Preprocesamiento de imágenes\n",
    "datagen = ImageDataGenerator(preprocessing_function=preprocess_input)\n",
    "\n",
    "# Extraer características de entrenamiento\n",
    "train_generator = datagen.flow(X_train, y_train, batch_size=32, shuffle=False)\n",
    "train_features = feature_extractor.predict(train_generator)\n",
    "\n",
    "# Extraer características de prueba\n",
    "test_generator = datagen.flow(X_test, y_test, batch_size=32, shuffle=False)\n",
    "test_features = feature_extractor.predict(test_generator)\n",
    "\n",
    "# Aplanar las características\n",
    "X_train_features = train_features.reshape(train_features.shape[0], -1)\n",
    "X_test_features = test_features.reshape(test_features.shape[0], -1)"
   ]
  },
  {
   "cell_type": "code",
   "execution_count": null,
   "id": "48b00cab",
   "metadata": {},
   "outputs": [
    {
     "name": "stdout",
     "output_type": "stream",
     "text": [
      "Epoch 1/30\n"
     ]
    },
    {
     "name": "stderr",
     "output_type": "stream",
     "text": [
      "c:\\Users\\usuario\\anaconda31\\Lib\\site-packages\\keras\\src\\layers\\core\\dense.py:93: UserWarning: Do not pass an `input_shape`/`input_dim` argument to a layer. When using Sequential models, prefer using an `Input(shape)` object as the first layer in the model instead.\n",
      "  super().__init__(activity_regularizer=activity_regularizer, **kwargs)\n"
     ]
    },
    {
     "name": "stdout",
     "output_type": "stream",
     "text": [
      "\u001b[1m22/22\u001b[0m \u001b[32m━━━━━━━━━━━━━━━━━━━━\u001b[0m\u001b[37m\u001b[0m \u001b[1m2s\u001b[0m 19ms/step - AUC: 0.5768 - Precision: 0.5911 - Recall: 0.5911 - accuracy: 0.5911 - loss: 1.7391 - val_AUC: 0.8747 - val_Precision: 0.8012 - val_Recall: 0.8012 - val_accuracy: 0.8012 - val_loss: 0.4545\n",
      "Epoch 2/30\n",
      "\u001b[1m22/22\u001b[0m \u001b[32m━━━━━━━━━━━━━━━━━━━━\u001b[0m\u001b[37m\u001b[0m \u001b[1m0s\u001b[0m 5ms/step - AUC: 0.8795 - Precision: 0.8086 - Recall: 0.8086 - accuracy: 0.8086 - loss: 0.4959 - val_AUC: 0.9571 - val_Precision: 0.9064 - val_Recall: 0.9064 - val_accuracy: 0.9064 - val_loss: 0.2663\n",
      "Epoch 3/30\n",
      "\u001b[1m22/22\u001b[0m \u001b[32m━━━━━━━━━━━━━━━━━━━━\u001b[0m\u001b[37m\u001b[0m \u001b[1m0s\u001b[0m 5ms/step - AUC: 0.9305 - Precision: 0.8482 - Recall: 0.8482 - accuracy: 0.8482 - loss: 0.3462 - val_AUC: 0.9738 - val_Precision: 0.9181 - val_Recall: 0.9181 - val_accuracy: 0.9181 - val_loss: 0.2060\n",
      "Epoch 4/30\n",
      "\u001b[1m22/22\u001b[0m \u001b[32m━━━━━━━━━━━━━━━━━━━━\u001b[0m\u001b[37m\u001b[0m \u001b[1m0s\u001b[0m 5ms/step - AUC: 0.9298 - Precision: 0.8477 - Recall: 0.8477 - accuracy: 0.8477 - loss: 0.3638 - val_AUC: 0.9730 - val_Precision: 0.9064 - val_Recall: 0.9064 - val_accuracy: 0.9064 - val_loss: 0.2109\n",
      "Epoch 5/30\n",
      "\u001b[1m22/22\u001b[0m \u001b[32m━━━━━━━━━━━━━━━━━━━━\u001b[0m\u001b[37m\u001b[0m \u001b[1m0s\u001b[0m 5ms/step - AUC: 0.9614 - Precision: 0.8857 - Recall: 0.8857 - accuracy: 0.8857 - loss: 0.2626 - val_AUC: 0.9826 - val_Precision: 0.9357 - val_Recall: 0.9357 - val_accuracy: 0.9357 - val_loss: 0.1805\n",
      "Epoch 6/30\n",
      "\u001b[1m22/22\u001b[0m \u001b[32m━━━━━━━━━━━━━━━━━━━━\u001b[0m\u001b[37m\u001b[0m \u001b[1m0s\u001b[0m 5ms/step - AUC: 0.9727 - Precision: 0.9333 - Recall: 0.9333 - accuracy: 0.9333 - loss: 0.2193 - val_AUC: 0.9906 - val_Precision: 0.9357 - val_Recall: 0.9357 - val_accuracy: 0.9357 - val_loss: 0.1322\n",
      "Epoch 7/30\n",
      "\u001b[1m22/22\u001b[0m \u001b[32m━━━━━━━━━━━━━━━━━━━━\u001b[0m\u001b[37m\u001b[0m \u001b[1m0s\u001b[0m 5ms/step - AUC: 0.9884 - Precision: 0.9569 - Recall: 0.9569 - accuracy: 0.9569 - loss: 0.1353 - val_AUC: 0.9860 - val_Precision: 0.9240 - val_Recall: 0.9240 - val_accuracy: 0.9240 - val_loss: 0.1526\n",
      "Epoch 8/30\n",
      "\u001b[1m22/22\u001b[0m \u001b[32m━━━━━━━━━━━━━━━━━━━━\u001b[0m\u001b[37m\u001b[0m \u001b[1m0s\u001b[0m 5ms/step - AUC: 0.9853 - Precision: 0.9326 - Recall: 0.9326 - accuracy: 0.9326 - loss: 0.1516 - val_AUC: 0.9879 - val_Precision: 0.9298 - val_Recall: 0.9298 - val_accuracy: 0.9298 - val_loss: 0.1462\n",
      "Epoch 9/30\n",
      "\u001b[1m22/22\u001b[0m \u001b[32m━━━━━━━━━━━━━━━━━━━━\u001b[0m\u001b[37m\u001b[0m \u001b[1m0s\u001b[0m 5ms/step - AUC: 0.9880 - Precision: 0.9471 - Recall: 0.9471 - accuracy: 0.9471 - loss: 0.1375 - val_AUC: 0.9924 - val_Precision: 0.9591 - val_Recall: 0.9591 - val_accuracy: 0.9591 - val_loss: 0.1157\n",
      "Epoch 10/30\n",
      "\u001b[1m22/22\u001b[0m \u001b[32m━━━━━━━━━━━━━━━━━━━━\u001b[0m\u001b[37m\u001b[0m \u001b[1m0s\u001b[0m 4ms/step - AUC: 0.9817 - Precision: 0.9380 - Recall: 0.9380 - accuracy: 0.9380 - loss: 0.1525 - val_AUC: 0.9830 - val_Precision: 0.9298 - val_Recall: 0.9298 - val_accuracy: 0.9298 - val_loss: 0.2064\n",
      "Epoch 11/30\n",
      "\u001b[1m22/22\u001b[0m \u001b[32m━━━━━━━━━━━━━━━━━━━━\u001b[0m\u001b[37m\u001b[0m \u001b[1m0s\u001b[0m 5ms/step - AUC: 0.9969 - Precision: 0.9684 - Recall: 0.9684 - accuracy: 0.9684 - loss: 0.0761 - val_AUC: 0.9739 - val_Precision: 0.9474 - val_Recall: 0.9474 - val_accuracy: 0.9474 - val_loss: 0.2518\n",
      "Epoch 12/30\n",
      "\u001b[1m22/22\u001b[0m \u001b[32m━━━━━━━━━━━━━━━━━━━━\u001b[0m\u001b[37m\u001b[0m \u001b[1m0s\u001b[0m 4ms/step - AUC: 0.9952 - Precision: 0.9653 - Recall: 0.9653 - accuracy: 0.9653 - loss: 0.0863 - val_AUC: 0.9774 - val_Precision: 0.9415 - val_Recall: 0.9415 - val_accuracy: 0.9415 - val_loss: 0.2119\n",
      "Epoch 13/30\n",
      "\u001b[1m22/22\u001b[0m \u001b[32m━━━━━━━━━━━━━━━━━━━━\u001b[0m\u001b[37m\u001b[0m \u001b[1m0s\u001b[0m 4ms/step - AUC: 0.9982 - Precision: 0.9746 - Recall: 0.9746 - accuracy: 0.9746 - loss: 0.0564 - val_AUC: 0.9714 - val_Precision: 0.9357 - val_Recall: 0.9357 - val_accuracy: 0.9357 - val_loss: 0.2716\n",
      "Epoch 14/30\n",
      "\u001b[1m22/22\u001b[0m \u001b[32m━━━━━━━━━━━━━━━━━━━━\u001b[0m\u001b[37m\u001b[0m \u001b[1m0s\u001b[0m 5ms/step - AUC: 0.9960 - Precision: 0.9712 - Recall: 0.9712 - accuracy: 0.9712 - loss: 0.0686 - val_AUC: 0.9921 - val_Precision: 0.9591 - val_Recall: 0.9591 - val_accuracy: 0.9591 - val_loss: 0.1214\n",
      "Epoch 15/30\n",
      "\u001b[1m22/22\u001b[0m \u001b[32m━━━━━━━━━━━━━━━━━━━━\u001b[0m\u001b[37m\u001b[0m \u001b[1m0s\u001b[0m 4ms/step - AUC: 0.9985 - Precision: 0.9882 - Recall: 0.9882 - accuracy: 0.9882 - loss: 0.0419 - val_AUC: 0.9668 - val_Precision: 0.9298 - val_Recall: 0.9298 - val_accuracy: 0.9298 - val_loss: 0.2979\n",
      "Epoch 16/30\n",
      "\u001b[1m22/22\u001b[0m \u001b[32m━━━━━━━━━━━━━━━━━━━━\u001b[0m\u001b[37m\u001b[0m \u001b[1m0s\u001b[0m 4ms/step - AUC: 0.9981 - Precision: 0.9708 - Recall: 0.9708 - accuracy: 0.9708 - loss: 0.0570 - val_AUC: 0.9766 - val_Precision: 0.9240 - val_Recall: 0.9240 - val_accuracy: 0.9240 - val_loss: 0.2606\n",
      "Epoch 17/30\n",
      "\u001b[1m22/22\u001b[0m \u001b[32m━━━━━━━━━━━━━━━━━━━━\u001b[0m\u001b[37m\u001b[0m \u001b[1m0s\u001b[0m 4ms/step - AUC: 0.9982 - Precision: 0.9886 - Recall: 0.9886 - accuracy: 0.9886 - loss: 0.0469 - val_AUC: 0.9887 - val_Precision: 0.9708 - val_Recall: 0.9708 - val_accuracy: 0.9708 - val_loss: 0.1157\n",
      "Epoch 18/30\n",
      "\u001b[1m22/22\u001b[0m \u001b[32m━━━━━━━━━━━━━━━━━━━━\u001b[0m\u001b[37m\u001b[0m \u001b[1m0s\u001b[0m 5ms/step - AUC: 0.9933 - Precision: 0.9919 - Recall: 0.9919 - accuracy: 0.9919 - loss: 0.0548 - val_AUC: 0.9847 - val_Precision: 0.9415 - val_Recall: 0.9415 - val_accuracy: 0.9415 - val_loss: 0.1957\n",
      "Epoch 19/30\n",
      "\u001b[1m22/22\u001b[0m \u001b[32m━━━━━━━━━━━━━━━━━━━━\u001b[0m\u001b[37m\u001b[0m \u001b[1m0s\u001b[0m 4ms/step - AUC: 0.9983 - Precision: 0.9763 - Recall: 0.9763 - accuracy: 0.9763 - loss: 0.0521 - val_AUC: 0.9771 - val_Precision: 0.9357 - val_Recall: 0.9357 - val_accuracy: 0.9357 - val_loss: 0.2632\n",
      "Epoch 20/30\n",
      "\u001b[1m22/22\u001b[0m \u001b[32m━━━━━━━━━━━━━━━━━━━━\u001b[0m\u001b[37m\u001b[0m \u001b[1m0s\u001b[0m 4ms/step - AUC: 0.9995 - Precision: 0.9875 - Recall: 0.9875 - accuracy: 0.9875 - loss: 0.0328 - val_AUC: 0.9859 - val_Precision: 0.9357 - val_Recall: 0.9357 - val_accuracy: 0.9357 - val_loss: 0.1660\n",
      "Epoch 21/30\n",
      "\u001b[1m22/22\u001b[0m \u001b[32m━━━━━━━━━━━━━━━━━━━━\u001b[0m\u001b[37m\u001b[0m \u001b[1m0s\u001b[0m 4ms/step - AUC: 0.9993 - Precision: 0.9830 - Recall: 0.9830 - accuracy: 0.9830 - loss: 0.0344 - val_AUC: 0.9895 - val_Precision: 0.9415 - val_Recall: 0.9415 - val_accuracy: 0.9415 - val_loss: 0.1592\n",
      "Epoch 22/30\n",
      "\u001b[1m22/22\u001b[0m \u001b[32m━━━━━━━━━━━━━━━━━━━━\u001b[0m\u001b[37m\u001b[0m \u001b[1m0s\u001b[0m 4ms/step - AUC: 0.9998 - Precision: 0.9959 - Recall: 0.9959 - accuracy: 0.9959 - loss: 0.0201 - val_AUC: 0.9892 - val_Precision: 0.9357 - val_Recall: 0.9357 - val_accuracy: 0.9357 - val_loss: 0.1789\n",
      "Epoch 23/30\n",
      "\u001b[1m22/22\u001b[0m \u001b[32m━━━━━━━━━━━━━━━━━━━━\u001b[0m\u001b[37m\u001b[0m \u001b[1m0s\u001b[0m 5ms/step - AUC: 0.9998 - Precision: 0.9967 - Recall: 0.9967 - accuracy: 0.9967 - loss: 0.0170 - val_AUC: 0.9863 - val_Precision: 0.9415 - val_Recall: 0.9415 - val_accuracy: 0.9415 - val_loss: 0.1880\n",
      "Epoch 24/30\n",
      "\u001b[1m22/22\u001b[0m \u001b[32m━━━━━━━━━━━━━━━━━━━━\u001b[0m\u001b[37m\u001b[0m \u001b[1m0s\u001b[0m 5ms/step - AUC: 0.9986 - Precision: 0.9845 - Recall: 0.9845 - accuracy: 0.9845 - loss: 0.0511 - val_AUC: 0.9844 - val_Precision: 0.9357 - val_Recall: 0.9357 - val_accuracy: 0.9357 - val_loss: 0.1652\n",
      "Epoch 25/30\n",
      "\u001b[1m22/22\u001b[0m \u001b[32m━━━━━━━━━━━━━━━━━━━━\u001b[0m\u001b[37m\u001b[0m \u001b[1m0s\u001b[0m 6ms/step - AUC: 0.9994 - Precision: 0.9845 - Recall: 0.9845 - accuracy: 0.9845 - loss: 0.0343 - val_AUC: 0.9829 - val_Precision: 0.9298 - val_Recall: 0.9298 - val_accuracy: 0.9298 - val_loss: 0.1990\n",
      "Epoch 26/30\n",
      "\u001b[1m22/22\u001b[0m \u001b[32m━━━━━━━━━━━━━━━━━━━━\u001b[0m\u001b[37m\u001b[0m \u001b[1m0s\u001b[0m 5ms/step - AUC: 0.9998 - Precision: 0.9950 - Recall: 0.9950 - accuracy: 0.9950 - loss: 0.0224 - val_AUC: 0.9867 - val_Precision: 0.9415 - val_Recall: 0.9415 - val_accuracy: 0.9415 - val_loss: 0.1665\n",
      "Epoch 27/30\n",
      "\u001b[1m22/22\u001b[0m \u001b[32m━━━━━━━━━━━━━━━━━━━━\u001b[0m\u001b[37m\u001b[0m \u001b[1m0s\u001b[0m 5ms/step - AUC: 0.9999 - Precision: 0.9979 - Recall: 0.9979 - accuracy: 0.9979 - loss: 0.0124 - val_AUC: 0.9817 - val_Precision: 0.9474 - val_Recall: 0.9474 - val_accuracy: 0.9474 - val_loss: 0.1821\n",
      "Epoch 28/30\n",
      "\u001b[1m22/22\u001b[0m \u001b[32m━━━━━━━━━━━━━━━━━━━━\u001b[0m\u001b[37m\u001b[0m \u001b[1m0s\u001b[0m 5ms/step - AUC: 0.9995 - Precision: 0.9904 - Recall: 0.9904 - accuracy: 0.9904 - loss: 0.0262 - val_AUC: 0.9742 - val_Precision: 0.9298 - val_Recall: 0.9298 - val_accuracy: 0.9298 - val_loss: 0.2318\n",
      "Epoch 29/30\n",
      "\u001b[1m22/22\u001b[0m \u001b[32m━━━━━━━━━━━━━━━━━━━━\u001b[0m\u001b[37m\u001b[0m \u001b[1m0s\u001b[0m 4ms/step - AUC: 0.9999 - Precision: 0.9937 - Recall: 0.9937 - accuracy: 0.9937 - loss: 0.0130 - val_AUC: 0.9783 - val_Precision: 0.9415 - val_Recall: 0.9415 - val_accuracy: 0.9415 - val_loss: 0.2715\n",
      "Epoch 30/30\n",
      "\u001b[1m22/22\u001b[0m \u001b[32m━━━━━━━━━━━━━━━━━━━━\u001b[0m\u001b[37m\u001b[0m \u001b[1m0s\u001b[0m 4ms/step - AUC: 0.9998 - Precision: 0.9962 - Recall: 0.9962 - accuracy: 0.9962 - loss: 0.0137 - val_AUC: 0.9867 - val_Precision: 0.9532 - val_Recall: 0.9532 - val_accuracy: 0.9532 - val_loss: 0.2015\n",
      "Test Loss: 1.4349\n",
      "Test Accuracy: 0.6028\n",
      "\u001b[1m7/7\u001b[0m \u001b[32m━━━━━━━━━━━━━━━━━━━━\u001b[0m\u001b[37m\u001b[0m \u001b[1m0s\u001b[0m 7ms/step \n",
      "Predicted labels: [1 0 1 1 1 0 0 1 0 1]\n",
      "Actual labels: [1 0 1 1 1 0 0 1 0 1]\n"
     ]
    }
   ],
   "source": [
    "model_VGG16_feedfoward_fixed = Sequential([\n",
    "    Dense(128, activation='relu', input_shape=(X_train_features.shape[1],)),\n",
    "    Dropout(0.5),\n",
    "    Dense(64, activation='relu'),\n",
    "    Dense(64, activation='relu'),\n",
    "    Dense(64, activation='relu'),\n",
    "    Dense(y_train.shape[1], activation='softmax')\n",
    "])\n",
    "\n",
    "# Compile the model\n",
    "model_VGG16_feedfoward_fixed.compile(optimizer='adam', loss='categorical_crossentropy', metrics=[\n",
    "        'accuracy',  # Precisión\n",
    "        'Precision',  # Métrica de precisión\n",
    "        'Recall',  # Métrica de recall\n",
    "        'AUC'  # Área bajo la curva ROC\n",
    "    ])\n",
    "\n",
    "# Train the model\n",
    "history_VGG16_feedfoward_fixed = model_VGG16_feedfoward_fixed.fit(X_train_features, y_train, epochs=30, batch_size=32, validation_split=0.2)\n",
    "\n",
    "# Evaluate the model\n",
    "test_loss4, test_accuracy4, test_precision4, test_recall4, test_auc4 = model_VGG16_feedfoward_fixed.evaluate(X_test_features, y_test, verbose=0)\n",
    "print(f\"Test Loss: {test_loss:.4f}\")\n",
    "print(f\"Test Accuracy: {test_accuracy:.4f}\")\n",
    "\n",
    "# Predict probabilities for test set\n",
    "y_pred_probs = model_VGG16_feedfoward_fixed.predict(X_test_features)\n",
    "\n",
    "# Convert probabilities to class labels\n",
    "y_pred = np.argmax(y_pred_probs, axis=1)\n",
    "\n",
    "# Convert one-hot encoded test labels to class labels\n",
    "y_true = np.argmax(y_test, axis=1)\n",
    "\n",
    "# Print a sample of predictions vs actual labels\n",
    "print(\"Predicted labels:\", y_pred[:10])\n",
    "print(\"Actual labels:\", y_true[:10])"
   ]
  },
  {
   "cell_type": "markdown",
   "id": "b3c964cd",
   "metadata": {},
   "source": [
    "## - [Matriz de Confucion](#instal)"
   ]
  },
  {
   "cell_type": "code",
   "execution_count": null,
   "id": "a117d2f0",
   "metadata": {},
   "outputs": [
    {
     "data": {
      "image/png": "[encoded data removed]",
      "text/plain": [
       "<Figure size 800x600 with 2 Axes>"
      ]
     },
     "metadata": {},
     "output_type": "display_data"
    },
    {
     "name": "stdout",
     "output_type": "stream",
     "text": [
      "Accuracy: 0.9579439252336449\n",
      "              precision    recall  f1-score   support\n",
      "\n",
      " Parasitized       0.97      0.93      0.95        91\n",
      "  Uninfected       0.95      0.98      0.96       123\n",
      "\n",
      "    accuracy                           0.96       214\n",
      "   macro avg       0.96      0.95      0.96       214\n",
      "weighted avg       0.96      0.96      0.96       214\n",
      "\n"
     ]
    }
   ],
   "source": [
    "# Confusion matrix\n",
    "conf_matrix = confusion_matrix(y_true, y_pred)\n",
    "\n",
    "class_names = [\"Parasitized\", \"Uninfected\"]\n",
    "\n",
    "# Visualize the confusion matrix\n",
    "plt.figure(figsize=(8, 6))\n",
    "sns.heatmap(conf_matrix, annot=True, fmt='d', cmap='Blues', xticklabels=class_names, yticklabels=class_names)\n",
    "plt.xlabel('Predicted Labels')\n",
    "plt.ylabel('True Labels')\n",
    "plt.title('Confusion Matrix for Deep Learning Classifier')\n",
    "plt.show()\n",
    "\n",
    "# Classification report for precision, recall, f1-score\n",
    "print(\"Accuracy:\", accuracy_score(y_test.argmax(axis=1), y_pred))\n",
    "print(classification_report(y_true, y_pred, target_names=class_names))"
   ]
  },
  {
   "cell_type": "markdown",
   "id": "babd0dd4",
   "metadata": {},
   "source": [
    " ## 🎇 🎆  🌋🧭🚀- 5.9 [Hyperband y VGG16](#preprocesing)"
   ]
  },
  {
   "cell_type": "code",
   "execution_count": null,
   "id": "dc00d11e",
   "metadata": {},
   "outputs": [
    {
     "name": "stdout",
     "output_type": "stream",
     "text": [
      "Collecting keras-tuner\n",
      "  Downloading keras_tuner-1.4.7-py3-none-any.whl.metadata (5.4 kB)\n",
      "Requirement already satisfied: keras in c:\\users\\usuario\\anaconda31\\lib\\site-packages (from keras-tuner) (3.10.0)\n",
      "Requirement already satisfied: packaging in c:\\users\\usuario\\anaconda31\\lib\\site-packages (from keras-tuner) (24.1)\n",
      "Requirement already satisfied: requests in c:\\users\\usuario\\anaconda31\\lib\\site-packages (from keras-tuner) (2.32.3)\n",
      "Collecting kt-legacy (from keras-tuner)\n",
      "  Downloading kt_legacy-1.0.5-py3-none-any.whl.metadata (221 bytes)\n",
      "Requirement already satisfied: absl-py in c:\\users\\usuario\\anaconda31\\lib\\site-packages (from keras->keras-tuner) (2.2.2)\n",
      "Requirement already satisfied: numpy in c:\\users\\usuario\\anaconda31\\lib\\site-packages (from keras->keras-tuner) (1.26.4)\n",
      "Requirement already satisfied: rich in c:\\users\\usuario\\anaconda31\\lib\\site-packages (from keras->keras-tuner) (13.7.1)\n",
      "Requirement already satisfied: namex in c:\\users\\usuario\\anaconda31\\lib\\site-packages (from keras->keras-tuner) (0.0.9)\n",
      "Requirement already satisfied: h5py in c:\\users\\usuario\\anaconda31\\lib\\site-packages (from keras->keras-tuner) (3.11.0)\n",
      "Requirement already satisfied: optree in c:\\users\\usuario\\anaconda31\\lib\\site-packages (from keras->keras-tuner) (0.15.0)\n",
      "Requirement already satisfied: ml-dtypes in c:\\users\\usuario\\anaconda31\\lib\\site-packages (from keras->keras-tuner) (0.5.1)\n",
      "Requirement already satisfied: charset-normalizer<4,>=2 in c:\\users\\usuario\\anaconda31\\lib\\site-packages (from requests->keras-tuner) (3.3.2)\n",
      "Requirement already satisfied: idna<4,>=2.5 in c:\\users\\usuario\\anaconda31\\lib\\site-packages (from requests->keras-tuner) (3.7)\n",
      "Requirement already satisfied: urllib3<3,>=1.21.1 in c:\\users\\usuario\\anaconda31\\lib\\site-packages (from requests->keras-tuner) (2.2.3)\n",
      "Requirement already satisfied: certifi>=2017.4.17 in c:\\users\\usuario\\anaconda31\\lib\\site-packages (from requests->keras-tuner) (2024.12.14)\n",
      "Requirement already satisfied: typing-extensions>=4.5.0 in c:\\users\\usuario\\anaconda31\\lib\\site-packages (from optree->keras->keras-tuner) (4.11.0)\n",
      "Requirement already satisfied: markdown-it-py>=2.2.0 in c:\\users\\usuario\\anaconda31\\lib\\site-packages (from rich->keras->keras-tuner) (2.2.0)\n",
      "Requirement already satisfied: pygments<3.0.0,>=2.13.0 in c:\\users\\usuario\\anaconda31\\lib\\site-packages (from rich->keras->keras-tuner) (2.15.1)\n",
      "Requirement already satisfied: mdurl~=0.1 in c:\\users\\usuario\\anaconda31\\lib\\site-packages (from markdown-it-py>=2.2.0->rich->keras->keras-tuner) (0.1.0)\n",
      "Downloading keras_tuner-1.4.7-py3-none-any.whl (129 kB)\n",
      "Downloading kt_legacy-1.0.5-py3-none-any.whl (9.6 kB)\n",
      "Installing collected packages: kt-legacy, keras-tuner\n",
      "Successfully installed keras-tuner-1.4.7 kt-legacy-1.0.5\n"
     ]
    },
    {
     "name": "stderr",
     "output_type": "stream",
     "text": [
      "C:\\Users\\usuario\\AppData\\Local\\Temp\\ipykernel_32820\\1657191961.py:2: DeprecationWarning: `import kerastuner` is deprecated, please use `import keras_tuner`.\n",
      "  import kerastuner as kt\n"
     ]
    }
   ],
   "source": [
    "!pip install keras-tuner\n",
    "import kerastuner as kt"
   ]
  },
  {
   "cell_type": "code",
   "execution_count": null,
   "id": "ee6255da",
   "metadata": {},
   "outputs": [],
   "source": [
    "from tensorflow.keras import layers, models\n",
    "\n",
    "import tensorflow as tf\n",
    "import keras\n",
    "import keras_tuner as kt"
   ]
  },
  {
   "cell_type": "code",
   "execution_count": null,
   "id": "b9c0b337",
   "metadata": {},
   "outputs": [],
   "source": [
    "# Define the model builder function with VGG16 as a feature extractor\n",
    "def model_builder(hp):\n",
    "    # Load VGG16 pre-trained model (excluding the top layers)\n",
    "    base_model = VGG16(weights='imagenet', include_top=False, input_shape=(64, 64, 3))\n",
    "    \n",
    "    # Freeze the VGG16 layers so they are not trained\n",
    "    base_model.trainable = False\n",
    "    \n",
    "    # Define the model\n",
    "    model = models.Sequential()\n",
    "    \n",
    "    # Add VGG16 as a feature extractor\n",
    "    model.add(base_model)\n",
    "    \n",
    "    # Add a global average pooling layer to flatten the features\n",
    "    model.add(layers.GlobalAveragePooling2D())\n",
    "    \n",
    "    # Tuning the number of neurons for the hidden layers\n",
    "    hp_units = hp.Int('units', min_value=8, max_value=128, step=8)\n",
    "    \n",
    "    # Tuning the number of layers\n",
    "    hp_layers = hp.Int('layers', min_value=1, max_value=8, step=1)\n",
    "    \n",
    "    # Adding activation function as a hyperparameter\n",
    "    hp_activation = hp.Choice('activation', values=['relu', 'tanh', 'sigmoid'])\n",
    "    \n",
    "    # Tuning the dropout rate as a hyperparameter\n",
    "    hp_dropout_rate = hp.Float('dropout_rate', min_value=0, max_value=0.5, step=0.05)\n",
    "    \n",
    "    # Hidden layers with tunable units and dropout rate\n",
    "    for _ in range(hp_layers):\n",
    "        model.add(layers.Dense(units=hp_units, activation=hp_activation))\n",
    "        model.add(layers.Dropout(rate=hp_dropout_rate))\n",
    "    \n",
    "    # Output layer\n",
    "    model.add(layers.Dense(y_train.shape[1], activation='softmax'))\n",
    "    \n",
    "    # Learning rate as a hyperparameter\n",
    "    hp_learning_rate = hp.Choice('learning_rate', values=[1e-2, 1e-3, 1e-4])\n",
    "    \n",
    "    # Tuning the optimizer choice\n",
    "    hp_optimizer = hp.Choice('optimizer', values=['adam', 'sgd', 'rmsprop'])\n",
    "    \n",
    "    # Compile the model with the chosen optimizer\n",
    "    if hp_optimizer == 'adam':\n",
    "        optimizer = keras.optimizers.Adam(learning_rate=hp_learning_rate)\n",
    "    elif hp_optimizer == 'sgd':\n",
    "        optimizer = keras.optimizers.SGD(learning_rate=hp_learning_rate)\n",
    "    elif hp_optimizer == 'rmsprop':\n",
    "        optimizer = keras.optimizers.RMSprop(learning_rate=hp_learning_rate)\n",
    "    \n",
    "    # Compile the model\n",
    "    model.compile(\n",
    "        optimizer=optimizer,\n",
    "        loss='binary_crossentropy',  # Use appropriate loss for your problem\n",
    "        metrics=['accuracy', tf.keras.metrics.AUC(), tf.keras.metrics.Precision(), tf.keras.metrics.Recall()]\n",
    "    )\n",
    "    \n",
    "    return model\n"
   ]
  },
  {
   "cell_type": "code",
   "execution_count": null,
   "id": "3cb115ef",
   "metadata": {},
   "outputs": [],
   "source": [
    "tuner = kt.Hyperband(\n",
    "    model_builder,\n",
    "    objective= 'val_accuracy',\n",
    "    max_epochs=10,\n",
    "    factor=3,\n",
    "    directory='hp_dir111111111',\n",
    "    project_name='ruters_dataset111111111'\n",
    ")"
   ]
  },
  {
   "cell_type": "code",
   "execution_count": null,
   "id": "8cea4c98",
   "metadata": {},
   "outputs": [],
   "source": [
    "# We create a callback function that clears the output\n",
    "import IPython\n",
    "\n",
    "\n",
    "class ClearTrainingOutput(tf.keras.callbacks.Callback):\n",
    "    def on_train_end(*args, **kwargs):\n",
    "        IPython.display.clear_output(wait = True)"
   ]
  },
  {
   "cell_type": "code",
   "execution_count": null,
   "id": "57ed7945",
   "metadata": {},
   "outputs": [
    {
     "name": "stdout",
     "output_type": "stream",
     "text": [
      "Trial 30 Complete [00h 01m 10s]\n",
      "val_accuracy: 0.6168224215507507\n",
      "\n",
      "Best val_accuracy So Far: 0.9719626307487488\n",
      "Total elapsed time: 00h 12m 27s\n"
     ]
    }
   ],
   "source": [
    "# Execution of the tuning process\n",
    "tuner.search(\n",
    "    X_train, \n",
    "    y_train,\n",
    "    epochs=10,\n",
    "    validation_data=(X_test, y_test),\n",
    "    callbacks=[ClearTrainingOutput()] # a callback can be Early Stop\n",
    ")"
   ]
  },
  {
   "cell_type": "code",
   "execution_count": null,
   "id": "2306a076",
   "metadata": {},
   "outputs": [
    {
     "name": "stdout",
     "output_type": "stream",
     "text": [
      "Units: 88\n",
      "Layers: 3\n",
      "Layers: relu\n",
      "learning_rate: 0.001\n",
      "optimizer adam\n"
     ]
    }
   ],
   "source": [
    "# Obtaining the optimal hyperparameters\n",
    "best_hps = tuner.get_best_hyperparameters(num_trials=1)[0]\n",
    "best_model = tuner.get_best_models(num_models=1)[0]\n",
    "\n",
    "print(\"Units:\", best_hps.get('units'))\n",
    "print(\"Layers:\", best_hps.get('layers'))\n",
    "print(\"Layers:\", best_hps.get('activation'))\n",
    "print(\"learning_rate:\", best_hps.get('learning_rate'))\n",
    "print(\"optimizer\", best_hps.get('optimizer'))"
   ]
  },
  {
   "cell_type": "code",
   "execution_count": null,
   "id": "a08d44ed",
   "metadata": {},
   "outputs": [
    {
     "data": {
      "text/html": [
       "<pre style=\"white-space:pre;overflow-x:auto;line-height:normal;font-family:Menlo,'DejaVu Sans Mono',consolas,'Courier New',monospace\"><span style=\"font-weight: bold\">Model: \"sequential\"</span>\n",
       "</pre>\n"
      ],
      "text/plain": [
       "\u001b[1mModel: \"sequential\"\u001b[0m\n"
      ]
     },
     "metadata": {},
     "output_type": "display_data"
    },
    {
     "data": {
      "text/html": [
       "<pre style=\"white-space:pre;overflow-x:auto;line-height:normal;font-family:Menlo,'DejaVu Sans Mono',consolas,'Courier New',monospace\">┏━━━━━━━━━━━━━━━━━━━━━━━━━━━━━━━━━┳━━━━━━━━━━━━━━━━━━━━━━━━┳━━━━━━━━━━━━━━━┓\n",
       "┃<span style=\"font-weight: bold\"> Layer (type)                    </span>┃<span style=\"font-weight: bold\"> Output Shape           </span>┃<span style=\"font-weight: bold\">       Param # </span>┃\n",
       "┡━━━━━━━━━━━━━━━━━━━━━━━━━━━━━━━━━╇━━━━━━━━━━━━━━━━━━━━━━━━╇━━━━━━━━━━━━━━━┩\n",
       "│ vgg16 (<span style=\"color: #0087ff; text-decoration-color: #0087ff\">Functional</span>)              │ (<span style=\"color: #00d7ff; text-decoration-color: #00d7ff\">None</span>, <span style=\"color: #00af00; text-decoration-color: #00af00\">2</span>, <span style=\"color: #00af00; text-decoration-color: #00af00\">2</span>, <span style=\"color: #00af00; text-decoration-color: #00af00\">512</span>)      │    <span style=\"color: #00af00; text-decoration-color: #00af00\">14,714,688</span> │\n",
       "├─────────────────────────────────┼────────────────────────┼───────────────┤\n",
       "│ global_average_pooling2d        │ (<span style=\"color: #00d7ff; text-decoration-color: #00d7ff\">None</span>, <span style=\"color: #00af00; text-decoration-color: #00af00\">512</span>)            │             <span style=\"color: #00af00; text-decoration-color: #00af00\">0</span> │\n",
       "│ (<span style=\"color: #0087ff; text-decoration-color: #0087ff\">GlobalAveragePooling2D</span>)        │                        │               │\n",
       "├─────────────────────────────────┼────────────────────────┼───────────────┤\n",
       "│ dense (<span style=\"color: #0087ff; text-decoration-color: #0087ff\">Dense</span>)                   │ (<span style=\"color: #00d7ff; text-decoration-color: #00d7ff\">None</span>, <span style=\"color: #00af00; text-decoration-color: #00af00\">88</span>)             │        <span style=\"color: #00af00; text-decoration-color: #00af00\">45,144</span> │\n",
       "├─────────────────────────────────┼────────────────────────┼───────────────┤\n",
       "│ dropout (<span style=\"color: #0087ff; text-decoration-color: #0087ff\">Dropout</span>)               │ (<span style=\"color: #00d7ff; text-decoration-color: #00d7ff\">None</span>, <span style=\"color: #00af00; text-decoration-color: #00af00\">88</span>)             │             <span style=\"color: #00af00; text-decoration-color: #00af00\">0</span> │\n",
       "├─────────────────────────────────┼────────────────────────┼───────────────┤\n",
       "│ dense_1 (<span style=\"color: #0087ff; text-decoration-color: #0087ff\">Dense</span>)                 │ (<span style=\"color: #00d7ff; text-decoration-color: #00d7ff\">None</span>, <span style=\"color: #00af00; text-decoration-color: #00af00\">88</span>)             │         <span style=\"color: #00af00; text-decoration-color: #00af00\">7,832</span> │\n",
       "├─────────────────────────────────┼────────────────────────┼───────────────┤\n",
       "│ dropout_1 (<span style=\"color: #0087ff; text-decoration-color: #0087ff\">Dropout</span>)             │ (<span style=\"color: #00d7ff; text-decoration-color: #00d7ff\">None</span>, <span style=\"color: #00af00; text-decoration-color: #00af00\">88</span>)             │             <span style=\"color: #00af00; text-decoration-color: #00af00\">0</span> │\n",
       "├─────────────────────────────────┼────────────────────────┼───────────────┤\n",
       "│ dense_2 (<span style=\"color: #0087ff; text-decoration-color: #0087ff\">Dense</span>)                 │ (<span style=\"color: #00d7ff; text-decoration-color: #00d7ff\">None</span>, <span style=\"color: #00af00; text-decoration-color: #00af00\">88</span>)             │         <span style=\"color: #00af00; text-decoration-color: #00af00\">7,832</span> │\n",
       "├─────────────────────────────────┼────────────────────────┼───────────────┤\n",
       "│ dropout_2 (<span style=\"color: #0087ff; text-decoration-color: #0087ff\">Dropout</span>)             │ (<span style=\"color: #00d7ff; text-decoration-color: #00d7ff\">None</span>, <span style=\"color: #00af00; text-decoration-color: #00af00\">88</span>)             │             <span style=\"color: #00af00; text-decoration-color: #00af00\">0</span> │\n",
       "├─────────────────────────────────┼────────────────────────┼───────────────┤\n",
       "│ dense_3 (<span style=\"color: #0087ff; text-decoration-color: #0087ff\">Dense</span>)                 │ (<span style=\"color: #00d7ff; text-decoration-color: #00d7ff\">None</span>, <span style=\"color: #00af00; text-decoration-color: #00af00\">2</span>)              │           <span style=\"color: #00af00; text-decoration-color: #00af00\">178</span> │\n",
       "└─────────────────────────────────┴────────────────────────┴───────────────┘\n",
       "</pre>\n"
      ],
      "text/plain": [
       "┏━━━━━━━━━━━━━━━━━━━━━━━━━━━━━━━━━┳━━━━━━━━━━━━━━━━━━━━━━━━┳━━━━━━━━━━━━━━━┓\n",
       "┃\u001b[1m \u001b[0m\u001b[1mLayer (type)                   \u001b[0m\u001b[1m \u001b[0m┃\u001b[1m \u001b[0m\u001b[1mOutput Shape          \u001b[0m\u001b[1m \u001b[0m┃\u001b[1m \u001b[0m\u001b[1m      Param #\u001b[0m\u001b[1m \u001b[0m┃\n",
       "┡━━━━━━━━━━━━━━━━━━━━━━━━━━━━━━━━━╇━━━━━━━━━━━━━━━━━━━━━━━━╇━━━━━━━━━━━━━━━┩\n",
       "│ vgg16 (\u001b[38;5;33mFunctional\u001b[0m)              │ (\u001b[38;5;45mNone\u001b[0m, \u001b[38;5;34m2\u001b[0m, \u001b[38;5;34m2\u001b[0m, \u001b[38;5;34m512\u001b[0m)      │    \u001b[38;5;34m14,714,688\u001b[0m │\n",
       "├─────────────────────────────────┼────────────────────────┼───────────────┤\n",
       "│ global_average_pooling2d        │ (\u001b[38;5;45mNone\u001b[0m, \u001b[38;5;34m512\u001b[0m)            │             \u001b[38;5;34m0\u001b[0m │\n",
       "│ (\u001b[38;5;33mGlobalAveragePooling2D\u001b[0m)        │                        │               │\n",
       "├─────────────────────────────────┼────────────────────────┼───────────────┤\n",
       "│ dense (\u001b[38;5;33mDense\u001b[0m)                   │ (\u001b[38;5;45mNone\u001b[0m, \u001b[38;5;34m88\u001b[0m)             │        \u001b[38;5;34m45,144\u001b[0m │\n",
       "├─────────────────────────────────┼────────────────────────┼───────────────┤\n",
       "│ dropout (\u001b[38;5;33mDropout\u001b[0m)               │ (\u001b[38;5;45mNone\u001b[0m, \u001b[38;5;34m88\u001b[0m)             │             \u001b[38;5;34m0\u001b[0m │\n",
       "├─────────────────────────────────┼────────────────────────┼───────────────┤\n",
       "│ dense_1 (\u001b[38;5;33mDense\u001b[0m)                 │ (\u001b[38;5;45mNone\u001b[0m, \u001b[38;5;34m88\u001b[0m)             │         \u001b[38;5;34m7,832\u001b[0m │\n",
       "├─────────────────────────────────┼────────────────────────┼───────────────┤\n",
       "│ dropout_1 (\u001b[38;5;33mDropout\u001b[0m)             │ (\u001b[38;5;45mNone\u001b[0m, \u001b[38;5;34m88\u001b[0m)             │             \u001b[38;5;34m0\u001b[0m │\n",
       "├─────────────────────────────────┼────────────────────────┼───────────────┤\n",
       "│ dense_2 (\u001b[38;5;33mDense\u001b[0m)                 │ (\u001b[38;5;45mNone\u001b[0m, \u001b[38;5;34m88\u001b[0m)             │         \u001b[38;5;34m7,832\u001b[0m │\n",
       "├─────────────────────────────────┼────────────────────────┼───────────────┤\n",
       "│ dropout_2 (\u001b[38;5;33mDropout\u001b[0m)             │ (\u001b[38;5;45mNone\u001b[0m, \u001b[38;5;34m88\u001b[0m)             │             \u001b[38;5;34m0\u001b[0m │\n",
       "├─────────────────────────────────┼────────────────────────┼───────────────┤\n",
       "│ dense_3 (\u001b[38;5;33mDense\u001b[0m)                 │ (\u001b[38;5;45mNone\u001b[0m, \u001b[38;5;34m2\u001b[0m)              │           \u001b[38;5;34m178\u001b[0m │\n",
       "└─────────────────────────────────┴────────────────────────┴───────────────┘\n"
      ]
     },
     "metadata": {},
     "output_type": "display_data"
    },
    {
     "data": {
      "text/html": [
       "<pre style=\"white-space:pre;overflow-x:auto;line-height:normal;font-family:Menlo,'DejaVu Sans Mono',consolas,'Courier New',monospace\"><span style=\"font-weight: bold\"> Total params: </span><span style=\"color: #00af00; text-decoration-color: #00af00\">14,775,674</span> (56.36 MB)\n",
       "</pre>\n"
      ],
      "text/plain": [
       "\u001b[1m Total params: \u001b[0m\u001b[38;5;34m14,775,674\u001b[0m (56.36 MB)\n"
      ]
     },
     "metadata": {},
     "output_type": "display_data"
    },
    {
     "data": {
      "text/html": [
       "<pre style=\"white-space:pre;overflow-x:auto;line-height:normal;font-family:Menlo,'DejaVu Sans Mono',consolas,'Courier New',monospace\"><span style=\"font-weight: bold\"> Trainable params: </span><span style=\"color: #00af00; text-decoration-color: #00af00\">60,986</span> (238.23 KB)\n",
       "</pre>\n"
      ],
      "text/plain": [
       "\u001b[1m Trainable params: \u001b[0m\u001b[38;5;34m60,986\u001b[0m (238.23 KB)\n"
      ]
     },
     "metadata": {},
     "output_type": "display_data"
    },
    {
     "data": {
      "text/html": [
       "<pre style=\"white-space:pre;overflow-x:auto;line-height:normal;font-family:Menlo,'DejaVu Sans Mono',consolas,'Courier New',monospace\"><span style=\"font-weight: bold\"> Non-trainable params: </span><span style=\"color: #00af00; text-decoration-color: #00af00\">14,714,688</span> (56.13 MB)\n",
       "</pre>\n"
      ],
      "text/plain": [
       "\u001b[1m Non-trainable params: \u001b[0m\u001b[38;5;34m14,714,688\u001b[0m (56.13 MB)\n"
      ]
     },
     "metadata": {},
     "output_type": "display_data"
    }
   ],
   "source": [
    "# Ver la estructura del modelo\n",
    "best_model.summary()"
   ]
  },
  {
   "cell_type": "code",
   "execution_count": null,
   "id": "f177df0b",
   "metadata": {},
   "outputs": [
    {
     "name": "stdout",
     "output_type": "stream",
     "text": [
      "Epoch 1/30\n",
      "\u001b[1m27/27\u001b[0m \u001b[32m━━━━━━━━━━━━━━━━━━━━\u001b[0m\u001b[37m\u001b[0m \u001b[1m6s\u001b[0m 172ms/step - accuracy: 0.9856 - auc: 0.9994 - loss: 0.0362 - precision: 0.9856 - recall: 0.9856 - val_accuracy: 0.9579 - val_auc: 0.9743 - val_loss: 0.1528 - val_precision: 0.9579 - val_recall: 0.9579\n",
      "Epoch 2/30\n",
      "\u001b[1m27/27\u001b[0m \u001b[32m━━━━━━━━━━━━━━━━━━━━\u001b[0m\u001b[37m\u001b[0m \u001b[1m4s\u001b[0m 162ms/step - accuracy: 0.9931 - auc: 0.9999 - loss: 0.0166 - precision: 0.9931 - recall: 0.9931 - val_accuracy: 0.9626 - val_auc: 0.9791 - val_loss: 0.1595 - val_precision: 0.9626 - val_recall: 0.9626\n",
      "Epoch 3/30\n",
      "\u001b[1m27/27\u001b[0m \u001b[32m━━━━━━━━━━━━━━━━━━━━\u001b[0m\u001b[37m\u001b[0m \u001b[1m4s\u001b[0m 167ms/step - accuracy: 0.9910 - auc: 0.9991 - loss: 0.0231 - precision: 0.9910 - recall: 0.9910 - val_accuracy: 0.9579 - val_auc: 0.9789 - val_loss: 0.1677 - val_precision: 0.9579 - val_recall: 0.9579\n",
      "Epoch 4/30\n",
      "\u001b[1m27/27\u001b[0m \u001b[32m━━━━━━━━━━━━━━━━━━━━\u001b[0m\u001b[37m\u001b[0m \u001b[1m5s\u001b[0m 169ms/step - accuracy: 1.0000 - auc: 1.0000 - loss: 0.0088 - precision: 1.0000 - recall: 1.0000 - val_accuracy: 0.9533 - val_auc: 0.9747 - val_loss: 0.1969 - val_precision: 0.9533 - val_recall: 0.9533\n",
      "Epoch 5/30\n",
      "\u001b[1m27/27\u001b[0m \u001b[32m━━━━━━━━━━━━━━━━━━━━\u001b[0m\u001b[37m\u001b[0m \u001b[1m5s\u001b[0m 171ms/step - accuracy: 1.0000 - auc: 1.0000 - loss: 0.0026 - precision: 1.0000 - recall: 1.0000 - val_accuracy: 0.9673 - val_auc: 0.9753 - val_loss: 0.2117 - val_precision: 0.9673 - val_recall: 0.9673\n",
      "Epoch 6/30\n",
      "\u001b[1m27/27\u001b[0m \u001b[32m━━━━━━━━━━━━━━━━━━━━\u001b[0m\u001b[37m\u001b[0m \u001b[1m4s\u001b[0m 166ms/step - accuracy: 1.0000 - auc: 1.0000 - loss: 0.0011 - precision: 1.0000 - recall: 1.0000 - val_accuracy: 0.9673 - val_auc: 0.9755 - val_loss: 0.2320 - val_precision: 0.9673 - val_recall: 0.9673\n",
      "Epoch 7/30\n",
      "\u001b[1m27/27\u001b[0m \u001b[32m━━━━━━━━━━━━━━━━━━━━\u001b[0m\u001b[37m\u001b[0m \u001b[1m5s\u001b[0m 184ms/step - accuracy: 1.0000 - auc: 1.0000 - loss: 8.0364e-04 - precision: 1.0000 - recall: 1.0000 - val_accuracy: 0.9673 - val_auc: 0.9757 - val_loss: 0.2207 - val_precision: 0.9673 - val_recall: 0.9673\n",
      "Epoch 8/30\n",
      "\u001b[1m27/27\u001b[0m \u001b[32m━━━━━━━━━━━━━━━━━━━━\u001b[0m\u001b[37m\u001b[0m \u001b[1m5s\u001b[0m 194ms/step - accuracy: 1.0000 - auc: 1.0000 - loss: 4.8061e-04 - precision: 1.0000 - recall: 1.0000 - val_accuracy: 0.9673 - val_auc: 0.9756 - val_loss: 0.2280 - val_precision: 0.9673 - val_recall: 0.9673\n",
      "Epoch 9/30\n",
      "\u001b[1m27/27\u001b[0m \u001b[32m━━━━━━━━━━━━━━━━━━━━\u001b[0m\u001b[37m\u001b[0m \u001b[1m5s\u001b[0m 190ms/step - accuracy: 1.0000 - auc: 1.0000 - loss: 4.2892e-04 - precision: 1.0000 - recall: 1.0000 - val_accuracy: 0.9626 - val_auc: 0.9756 - val_loss: 0.2327 - val_precision: 0.9626 - val_recall: 0.9626\n",
      "Epoch 10/30\n",
      "\u001b[1m27/27\u001b[0m \u001b[32m━━━━━━━━━━━━━━━━━━━━\u001b[0m\u001b[37m\u001b[0m \u001b[1m5s\u001b[0m 195ms/step - accuracy: 1.0000 - auc: 1.0000 - loss: 2.5738e-04 - precision: 1.0000 - recall: 1.0000 - val_accuracy: 0.9626 - val_auc: 0.9756 - val_loss: 0.2360 - val_precision: 0.9626 - val_recall: 0.9626\n",
      "Epoch 11/30\n",
      "\u001b[1m27/27\u001b[0m \u001b[32m━━━━━━━━━━━━━━━━━━━━\u001b[0m\u001b[37m\u001b[0m \u001b[1m5s\u001b[0m 196ms/step - accuracy: 1.0000 - auc: 1.0000 - loss: 3.2921e-04 - precision: 1.0000 - recall: 1.0000 - val_accuracy: 0.9626 - val_auc: 0.9757 - val_loss: 0.2380 - val_precision: 0.9626 - val_recall: 0.9626\n",
      "Epoch 12/30\n",
      "\u001b[1m27/27\u001b[0m \u001b[32m━━━━━━━━━━━━━━━━━━━━\u001b[0m\u001b[37m\u001b[0m \u001b[1m6s\u001b[0m 233ms/step - accuracy: 1.0000 - auc: 1.0000 - loss: 2.2208e-04 - precision: 1.0000 - recall: 1.0000 - val_accuracy: 0.9626 - val_auc: 0.9756 - val_loss: 0.2437 - val_precision: 0.9626 - val_recall: 0.9626\n",
      "Epoch 13/30\n",
      "\u001b[1m27/27\u001b[0m \u001b[32m━━━━━━━━━━━━━━━━━━━━\u001b[0m\u001b[37m\u001b[0m \u001b[1m13s\u001b[0m 498ms/step - accuracy: 1.0000 - auc: 1.0000 - loss: 2.0512e-04 - precision: 1.0000 - recall: 1.0000 - val_accuracy: 0.9626 - val_auc: 0.9756 - val_loss: 0.2455 - val_precision: 0.9626 - val_recall: 0.9626\n",
      "Epoch 14/30\n",
      "\u001b[1m27/27\u001b[0m \u001b[32m━━━━━━━━━━━━━━━━━━━━\u001b[0m\u001b[37m\u001b[0m \u001b[1m17s\u001b[0m 634ms/step - accuracy: 1.0000 - auc: 1.0000 - loss: 2.0321e-04 - precision: 1.0000 - recall: 1.0000 - val_accuracy: 0.9626 - val_auc: 0.9756 - val_loss: 0.2492 - val_precision: 0.9626 - val_recall: 0.9626\n",
      "Epoch 15/30\n",
      "\u001b[1m27/27\u001b[0m \u001b[32m━━━━━━━━━━━━━━━━━━━━\u001b[0m\u001b[37m\u001b[0m \u001b[1m18s\u001b[0m 660ms/step - accuracy: 1.0000 - auc: 1.0000 - loss: 1.2070e-04 - precision: 1.0000 - recall: 1.0000 - val_accuracy: 0.9626 - val_auc: 0.9757 - val_loss: 0.2568 - val_precision: 0.9626 - val_recall: 0.9626\n",
      "Epoch 16/30\n",
      "\u001b[1m27/27\u001b[0m \u001b[32m━━━━━━━━━━━━━━━━━━━━\u001b[0m\u001b[37m\u001b[0m \u001b[1m22s\u001b[0m 812ms/step - accuracy: 1.0000 - auc: 1.0000 - loss: 1.2576e-04 - precision: 1.0000 - recall: 1.0000 - val_accuracy: 0.9626 - val_auc: 0.9756 - val_loss: 0.2552 - val_precision: 0.9626 - val_recall: 0.9626\n",
      "Epoch 17/30\n",
      "\u001b[1m27/27\u001b[0m \u001b[32m━━━━━━━━━━━━━━━━━━━━\u001b[0m\u001b[37m\u001b[0m \u001b[1m17s\u001b[0m 614ms/step - accuracy: 1.0000 - auc: 1.0000 - loss: 1.4918e-04 - precision: 1.0000 - recall: 1.0000 - val_accuracy: 0.9626 - val_auc: 0.9757 - val_loss: 0.2617 - val_precision: 0.9626 - val_recall: 0.9626\n",
      "Epoch 18/30\n",
      "\u001b[1m27/27\u001b[0m \u001b[32m━━━━━━━━━━━━━━━━━━━━\u001b[0m\u001b[37m\u001b[0m \u001b[1m15s\u001b[0m 557ms/step - accuracy: 1.0000 - auc: 1.0000 - loss: 1.4007e-04 - precision: 1.0000 - recall: 1.0000 - val_accuracy: 0.9626 - val_auc: 0.9757 - val_loss: 0.2660 - val_precision: 0.9626 - val_recall: 0.9626\n",
      "Epoch 19/30\n",
      "\u001b[1m27/27\u001b[0m \u001b[32m━━━━━━━━━━━━━━━━━━━━\u001b[0m\u001b[37m\u001b[0m \u001b[1m14s\u001b[0m 510ms/step - accuracy: 1.0000 - auc: 1.0000 - loss: 8.9705e-05 - precision: 1.0000 - recall: 1.0000 - val_accuracy: 0.9626 - val_auc: 0.9757 - val_loss: 0.2668 - val_precision: 0.9626 - val_recall: 0.9626\n",
      "Epoch 20/30\n",
      "\u001b[1m27/27\u001b[0m \u001b[32m━━━━━━━━━━━━━━━━━━━━\u001b[0m\u001b[37m\u001b[0m \u001b[1m14s\u001b[0m 515ms/step - accuracy: 1.0000 - auc: 1.0000 - loss: 1.1375e-04 - precision: 1.0000 - recall: 1.0000 - val_accuracy: 0.9626 - val_auc: 0.9757 - val_loss: 0.2732 - val_precision: 0.9626 - val_recall: 0.9626\n",
      "Epoch 21/30\n",
      "\u001b[1m27/27\u001b[0m \u001b[32m━━━━━━━━━━━━━━━━━━━━\u001b[0m\u001b[37m\u001b[0m \u001b[1m14s\u001b[0m 531ms/step - accuracy: 1.0000 - auc: 1.0000 - loss: 6.5475e-05 - precision: 1.0000 - recall: 1.0000 - val_accuracy: 0.9626 - val_auc: 0.9757 - val_loss: 0.2734 - val_precision: 0.9626 - val_recall: 0.9626\n",
      "Epoch 22/30\n",
      "\u001b[1m27/27\u001b[0m \u001b[32m━━━━━━━━━━━━━━━━━━━━\u001b[0m\u001b[37m\u001b[0m \u001b[1m14s\u001b[0m 530ms/step - accuracy: 1.0000 - auc: 1.0000 - loss: 5.8109e-05 - precision: 1.0000 - recall: 1.0000 - val_accuracy: 0.9626 - val_auc: 0.9757 - val_loss: 0.2777 - val_precision: 0.9626 - val_recall: 0.9626\n",
      "Epoch 23/30\n",
      "\u001b[1m27/27\u001b[0m \u001b[32m━━━━━━━━━━━━━━━━━━━━\u001b[0m\u001b[37m\u001b[0m \u001b[1m14s\u001b[0m 512ms/step - accuracy: 1.0000 - auc: 1.0000 - loss: 5.4247e-05 - precision: 1.0000 - recall: 1.0000 - val_accuracy: 0.9626 - val_auc: 0.9758 - val_loss: 0.2839 - val_precision: 0.9626 - val_recall: 0.9626\n",
      "Epoch 24/30\n",
      "\u001b[1m27/27\u001b[0m \u001b[32m━━━━━━━━━━━━━━━━━━━━\u001b[0m\u001b[37m\u001b[0m \u001b[1m14s\u001b[0m 526ms/step - accuracy: 1.0000 - auc: 1.0000 - loss: 4.9764e-05 - precision: 1.0000 - recall: 1.0000 - val_accuracy: 0.9626 - val_auc: 0.9759 - val_loss: 0.2928 - val_precision: 0.9626 - val_recall: 0.9626\n",
      "Epoch 25/30\n",
      "\u001b[1m27/27\u001b[0m \u001b[32m━━━━━━━━━━━━━━━━━━━━\u001b[0m\u001b[37m\u001b[0m \u001b[1m14s\u001b[0m 522ms/step - accuracy: 1.0000 - auc: 1.0000 - loss: 4.5915e-05 - precision: 1.0000 - recall: 1.0000 - val_accuracy: 0.9626 - val_auc: 0.9758 - val_loss: 0.2969 - val_precision: 0.9626 - val_recall: 0.9626\n",
      "Epoch 26/30\n",
      "\u001b[1m27/27\u001b[0m \u001b[32m━━━━━━━━━━━━━━━━━━━━\u001b[0m\u001b[37m\u001b[0m \u001b[1m14s\u001b[0m 515ms/step - accuracy: 1.0000 - auc: 1.0000 - loss: 3.0060e-05 - precision: 1.0000 - recall: 1.0000 - val_accuracy: 0.9626 - val_auc: 0.9758 - val_loss: 0.3058 - val_precision: 0.9626 - val_recall: 0.9626\n",
      "Epoch 27/30\n",
      "\u001b[1m27/27\u001b[0m \u001b[32m━━━━━━━━━━━━━━━━━━━━\u001b[0m\u001b[37m\u001b[0m \u001b[1m14s\u001b[0m 524ms/step - accuracy: 1.0000 - auc: 1.0000 - loss: 4.0594e-05 - precision: 1.0000 - recall: 1.0000 - val_accuracy: 0.9626 - val_auc: 0.9758 - val_loss: 0.3117 - val_precision: 0.9626 - val_recall: 0.9626\n",
      "Epoch 28/30\n",
      "\u001b[1m27/27\u001b[0m \u001b[32m━━━━━━━━━━━━━━━━━━━━\u001b[0m\u001b[37m\u001b[0m \u001b[1m14s\u001b[0m 527ms/step - accuracy: 1.0000 - auc: 1.0000 - loss: 4.3151e-05 - precision: 1.0000 - recall: 1.0000 - val_accuracy: 0.9626 - val_auc: 0.9758 - val_loss: 0.3224 - val_precision: 0.9626 - val_recall: 0.9626\n",
      "Epoch 29/30\n",
      "\u001b[1m27/27\u001b[0m \u001b[32m━━━━━━━━━━━━━━━━━━━━\u001b[0m\u001b[37m\u001b[0m \u001b[1m14s\u001b[0m 519ms/step - accuracy: 1.0000 - auc: 1.0000 - loss: 2.7980e-05 - precision: 1.0000 - recall: 1.0000 - val_accuracy: 0.9626 - val_auc: 0.9758 - val_loss: 0.3319 - val_precision: 0.9626 - val_recall: 0.9626\n",
      "Epoch 30/30\n",
      "\u001b[1m27/27\u001b[0m \u001b[32m━━━━━━━━━━━━━━━━━━━━\u001b[0m\u001b[37m\u001b[0m \u001b[1m14s\u001b[0m 522ms/step - accuracy: 1.0000 - auc: 1.0000 - loss: 2.0550e-05 - precision: 1.0000 - recall: 1.0000 - val_accuracy: 0.9626 - val_auc: 0.9758 - val_loss: 0.3415 - val_precision: 0.9626 - val_recall: 0.9626\n"
     ]
    }
   ],
   "source": [
    "modelo = best_model\n",
    "\n",
    "history0 = modelo.fit(\n",
    "    X_train,\n",
    "    y_train,\n",
    "    epochs = 30,\n",
    "    validation_data = (X_test, y_test),\n",
    "    #callbacks=[early_stopping]  # Agregamos EarlyStopping aquí\n",
    ")"
   ]
  },
  {
   "cell_type": "code",
   "execution_count": null,
   "id": "df32befa",
   "metadata": {},
   "outputs": [],
   "source": [
    "# Evaluar el modelo en el conjunto de prueba\n",
    "test_loss5, test_accuracy5, test_precision5, test_recall5, test_auc5 = best_model.evaluate(X_test, y_test, verbose=0)\n",
    "\n",
    "# Mostrar las métricas finales\n",
    "print(f\"Test Loss: {test_loss5:.4f}\")\n",
    "print(f\"Test Accuracy: {test_accuracy5:.4f}\")\n",
    "print(f\"Test Precision: {test_precision5:.4f}\")\n",
    "print(f\"Test Recall: {test_recall5:.4f}\")\n",
    "print(f\"Test AUC: {test_auc5:.4f}\")"
   ]
  },
  {
   "cell_type": "code",
   "execution_count": null,
   "id": "ed8cfab2",
   "metadata": {},
   "outputs": [
    {
     "name": "stdout",
     "output_type": "stream",
     "text": [
      "\u001b[1m7/7\u001b[0m \u001b[32m━━━━━━━━━━━━━━━━━━━━\u001b[0m\u001b[37m\u001b[0m \u001b[1m1s\u001b[0m 143ms/step\n"
     ]
    }
   ],
   "source": [
    "# Predict probabilities for test set\n",
    "y_pred_probs =best_model.predict(X_test)\n",
    "\n",
    "# Convert probabilities to class labels\n",
    "y_pred = np.argmax(y_pred_probs, axis=1)\n",
    "\n",
    "# Convert one-hot encoded test labels to class labels\n",
    "y_true = np.argmax(y_test, axis=1)"
   ]
  },
  {
   "cell_type": "markdown",
   "id": "5a389ec4",
   "metadata": {},
   "source": [
    "## - [Matriz de Confucion](#instal)"
   ]
  },
  {
   "cell_type": "code",
   "execution_count": null,
   "id": "fd80d991",
   "metadata": {},
   "outputs": [
    {
     "data": {
      "image/png": "[encoded data removed]",
      "text/plain": [
       "<Figure size 800x600 with 2 Axes>"
      ]
     },
     "metadata": {},
     "output_type": "display_data"
    },
    {
     "name": "stdout",
     "output_type": "stream",
     "text": [
      "Accuracy: 0.9626168224299065\n",
      "              precision    recall  f1-score   support\n",
      "\n",
      " Parasitized       0.94      0.98      0.96        91\n",
      "  Uninfected       0.98      0.95      0.97       123\n",
      "\n",
      "    accuracy                           0.96       214\n",
      "   macro avg       0.96      0.96      0.96       214\n",
      "weighted avg       0.96      0.96      0.96       214\n",
      "\n"
     ]
    }
   ],
   "source": [
    "# Confusion matrix\n",
    "conf_matrix = confusion_matrix(y_true, y_pred)\n",
    "\n",
    "class_names = [\"Parasitized\", \"Uninfected\"]\n",
    "\n",
    "# Visualize the confusion matrix\n",
    "plt.figure(figsize=(8, 6))\n",
    "sns.heatmap(conf_matrix, annot=True, fmt='d', cmap='Blues', xticklabels=class_names, yticklabels=class_names)\n",
    "plt.xlabel('Predicted Labels')\n",
    "plt.ylabel('True Labels')\n",
    "plt.title('Confusion Matrix for Deep Learning Classifier')\n",
    "plt.show()\n",
    "\n",
    "# Classification report for precision, recall, f1-score\n",
    "print(\"Accuracy:\", accuracy_score(y_test.argmax(axis=1), y_pred))\n",
    "print(classification_report(y_true, y_pred, target_names=class_names))"
   ]
  },
  {
   "cell_type": "markdown",
   "id": "f835484e",
   "metadata": {},
   "source": [
    "# 🎇 🎆  🌋🧭🚀 - [Comparacion de modelos](#instal)"
   ]
  },
  {
   "cell_type": "code",
   "execution_count": null,
   "id": "d3780352",
   "metadata": {},
   "outputs": [
    {
     "data": {
      "image/png": "[encoded data removed]",
      "text/plain": [
       "<Figure size 1000x600 with 1 Axes>"
      ]
     },
     "metadata": {},
     "output_type": "display_data"
    }
   ],
   "source": [
    "# Datos de ejemplo\n",
    "metrics = ['Accuracy', 'Precision', 'AUC']\n",
    "model_1 = [test_accuracy,test_precision,test_auc]\n",
    "model_2 = [test_accuracy1,test_precision1,test_auc1]\n",
    "model_3 = [test_accuracy2,test_precision2,test_auc2]\n",
    "#model_4 = [accuracy3,precision3,auc3]\n",
    "model_5 = [test_accuracy4,test_precision4,test_auc4]\n",
    "#model_6 = [test_accuracy5,test_precision5,test_auc5]\n",
    "# Configurar la posición de las barras\n",
    "x = np.arange(len(metrics))  # Las métricas en el eje x\n",
    "width = 0.1  # Ancho de las barras\n",
    "\n",
    "# Colores pastel para las barras\n",
    "# Colores más vivos para las barras\n",
    "# Colores más vivos para las barras, incluyendo un azul\n",
    "colors_model_1 = '#FF6F61'  # Un rojo vibrante\n",
    "colors_model_2 = '#FF8C42'  # Un naranja brillante\n",
    "colors_model_3 = '#1E90FF'  # Un azul brillante\n",
    "colors_model_4 = '#32CD32'  # Un verde lima vibrante\n",
    "colors_model_5 = '#FFD700'  # Un dorado brillante\n",
    "colors_model_6 = '#8A2BE2'  # Un púrpura vibrante\n",
    "\n",
    "# Crear la gráfica de barras\n",
    "fig, ax = plt.subplots(figsize=(10, 6))\n",
    "\n",
    "# Crear las barras para cada modelo\n",
    "rects1 = ax.bar(x - 1.5*width, model_1, width, label='FeedFoward', color=colors_model_1)\n",
    "rects2 = ax.bar(x - 0.5*width, model_2, width, label='ClasicCNN', color=colors_model_2)\n",
    "rects3 = ax.bar(x + 0.5*width, model_3, width, label='ClasicCNN_Data_Augmentation', color=colors_model_3)\n",
    "#rects4 = ax.bar(x + 1.5*width, model_4, width, label='SVM_feature_stractor', color=colors_model_4)\n",
    "rects5 = ax.bar(x + 2.5*width, model_5, width, label='model_VGG16_feedfoward_fixed', color=colors_model_5)\n",
    "rects6 = ax.bar(x + 3.5*width, model_5, width, label='best_model', color=colors_model_6)\n",
    "\n",
    "# Añadir etiquetas y título\n",
    "ax.set_xlabel('Metrics')\n",
    "ax.set_ylabel('Scores')\n",
    "ax.set_title('Model Comparison across Different Metrics')\n",
    "ax.set_xticks(x)\n",
    "ax.set_xticklabels(metrics)\n",
    "\n",
    "# Añadir leyenda\n",
    "ax.legend()\n",
    "\n",
    "# Mostrar la gráfica\n",
    "plt.tight_layout()\n",
    "plt.show()"
   ]
  }
 ],
 "metadata": {
  "kernelspec": {
   "display_name": "base",
   "language": "python",
   "name": "python3"
  },
  "language_info": {
   "codemirror_mode": {
    "name": "ipython",
    "version": 3
   },
   "file_extension": ".py",
   "mimetype": "text/x-python",
   "name": "python",
   "nbconvert_exporter": "python",
   "pygments_lexer": "ipython3",
   "version": "3.12.7"
  }
 },
 "nbformat": 4,
 "nbformat_minor": 5
}
